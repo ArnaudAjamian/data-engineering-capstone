{
 "cells": [
  {
   "cell_type": "markdown",
   "id": "2b9980c8",
   "metadata": {},
   "source": [
    "# Data Engineering Capstone - Exploratory Data Analysis\n",
    "\n",
    "## Table of Contents\n",
    "---\n",
    "<a id = \"btt\"></a>\n",
    "\n",
    "#### Datasets:\n",
    "1. [NOAA Historic Severe Storms](#noaa)\n",
    "   * [Data Pre-Processing](#noaa_pp)\n",
    "   * [Exploratory Data Analysis](#noaa_eda)\n",
    "</br>\n",
    "</br>\n",
    "2. [Homeowners and Renters Insurance by State](#hris)\n",
    "   * [Data Pre-Processing](#hris_pp)\n",
    "   * [Exploratory Data Analysis](#hris_eda)\n",
    "</br>\n",
    "</br>\n",
    "3. [State to State Migration Flows](#s2smf)\n",
    "   * [Data Pre-Processing](#s2smf_pp)\n",
    "   * [Exploratory Data Analysis](#s2smf_eda)"
   ]
  },
  {
   "cell_type": "code",
   "execution_count": 529,
   "id": "db64d151",
   "metadata": {},
   "outputs": [],
   "source": [
    "import numpy as np\n",
    "import pandas as pd\n",
    "\n",
    "import matplotlib.pyplot as plt\n",
    "import seaborn as sns\n",
    "\n",
    "from credentials import *"
   ]
  },
  {
   "cell_type": "markdown",
   "id": "09f57a6e",
   "metadata": {},
   "source": [
    "## Dataset Name: NOAA Historic Severe Storms\n",
    "---\n",
    "<a id = \"noaa\"></a>\n",
    "\n",
    "\"The Storm Events dataset is a database of severe weather events across the United States from 1950 to this year, with information about a storm's location, azimuth, distance, impact, and severity, including the cost of damages to property and crops. It contains data documenting:\n",
    "\n",
    "The occurrence of storms and other significant weather phenomena having sufficient intensity to cause loss of life, injuries, significant property damage, and/or disruption to commerce, rare, unusual, weather phenomena that generate media attention, such as snow flurries in South Florida or the San Diego coastal area.\n",
    "Other significant meteorological events, such as record maximum or minimum temperatures or precipitation that occur in connection with another event.\n",
    "\n",
    "Data about a specific event is added to the dataset within 120 days to allow time for damage assessments and other analysis.\" - _National Oceanic and Atmospheric Administration (NOAA)_"
   ]
  },
  {
   "cell_type": "markdown",
   "id": "f702df11",
   "metadata": {},
   "source": [
    "#### Data Dictionary\n",
    "\n",
    "| Variable Name | Definition |\n",
    "| :- | :- |\n",
    "`episode_id`| Denotes the storm episode\n",
    "`event_id`| Denotes a single, small part that goes into a specific storm episode\n",
    "`state`| State name where the event occurred\n",
    "`state_fips_code`| Unique FIPS code identifier assiend to each state\n",
    "`event_type` | Meteorological event\n",
    "`cz_type` | Indicates whether the event happened in - C: County / Parish, Z: NWS Zone, M: Marine\n",
    "`cz_fips_code` | Unique FIPS code identifier assigned to each county\n",
    "`cz_name` | County / Parish, NWS Zone or Marine name assigned to teh county FIPS number\n",
    "`wfo` | National Weather Service Forecast Office’s area of responsibility in which the event occurred\n",
    "`event_begin_time` | The date and time that the event began. Note that episodes and events may have different start and end times if multiple events occured in the same episode\n",
    "`event_timezone` | The time zone in which the event_begin_time and the event_end_time is recorded\n",
    "`event_end_time` | The date and time that the event ended. Note that episodes and events may have different start and end times if multiple events occured in the same episode\n",
    "`injuries_direct` | The number of injuries directly related to the weather event\n",
    "`injuries_indirect` | The number of injuries indirectly related to the weather event\n",
    "`deaths_direct` | The number of deathes directly related to the weather event\n",
    "`deaths_indirect` | The number of deathes indirectly related to the weather event\n",
    "`damage_property` | The estimated amount of damage to property incurred by the weather event, in USD at the time of the event. Values are not adjusted for inflation. </br>Note: Values listed as 0 do not necessarily mean that no property damage occurred as a result of the event\n",
    "`damage_crops` | The estimated amount of damage to crops incurred by the weather event, in USD at the time of the storm. Values are not adjusted for inflation. </br>Note: Values listed as 0 do not necessarily mean that no property damage occurred as a result of the event\n",
    "`source` | Source reporting the weather event\n",
    "`magnitude` | Measured extent of the magnitude type. This is only used for wind speeds and hail size. Wind speeds are in MPH; Hail sizes are in inches\n",
    "`magnitude_type` | Differentiates between the type of mangitude measured:</br> EG = Wind Estimated Gust, ES = Estimated Sustained Wind, MS = Measured Sustained Wind, MG = Measured Wind Gust</br>No magnitude type is included for hail\n",
    "`flood_cause` | Reported or estimated cause of the flood\n",
    "`tor_f_scale` | Enhanced Fujita Scale describes the strength of the tornado based on the amount and type of damage caused by the tornado. The F-scale of damage will vary in the destruction area; therefore, the highest value of the F-scale is recorded for each event.</br>EF0 – Light Damage (40 – 72 mph), EF1 – Moderate Damage (73 – 112 mph), EF2 – Significant damage (113 – 157 mph), EF3 – Severe Damage (158 – 206 mph), EF4 – Devastating Damage (207 – 260 mph), EF5 – Incredible Damage (261 – 318 mph)\n",
    "`tor_length` | Length of the tornado or tornado segment while on the ground (minimal of tenths of miles)\n",
    "`tor_width` | Width of the tornado or tornado segment while on the ground (in feet)\n",
    "`tor_other_wfo` | Indicates the continuation of a tornado segment as it crossed from one National Weather Service Forecast Office to another. The subsequent WFO identifier is provided within this field\n",
    "`location_index` | Number assigned by NWS to specific locations within the same Storm event. Each event’s sequentially increasing location index number will have a corresponding lat/lon point\n",
    "`event_range` | A hydro-meteorological event will be referenced, minimally, to the nearest tenth of a mile, to the geographical center (not from the village/city boundaries or limits) of a particular village/city, airport, or inland lake, providing that the reference point is documented in the Storm Data software location database\n",
    "`event_azimuth` | 16-point compass direction from a particular village/city, airport, or inland lake, providing that the reference point is documented in the Storm Data software location database of > 130,000 locations\n",
    "`reference_location` | Reference location of the center from which the range is calculated and the azimuth is determined\n",
    "`event_latitude` | The latitude where the event occurred (rounded to the hundredths in decimal degrees; includes an ‘-‘ if it’s S of the Equator)\n",
    "`event_longitude` | The longitude where the event occurred (rounded to the hundredths in decimal degrees; includes an ‘-‘ if it’s W of the Prime Meridian)\n",
    "`event_point` |\tGeographic representation of the event_longitude and latitude"
   ]
  },
  {
   "cell_type": "markdown",
   "id": "80bbc81b",
   "metadata": {},
   "source": [
    "### Loading in the Data"
   ]
  },
  {
   "cell_type": "code",
   "execution_count": 530,
   "id": "ea4559f5",
   "metadata": {
    "scrolled": true
   },
   "outputs": [],
   "source": [
    "# Load in the 2022 data into a dataframe\n",
    "storms_2022 = f\"{noaa_file_path}\\storms_2022.csv\"\n",
    "storms_2022_df = pd.read_csv(storms_2022, dtype = 'unicode', parse_dates = [\"event_begin_time\", \"event_end_time\"])"
   ]
  },
  {
   "cell_type": "code",
   "execution_count": 531,
   "id": "72564a82",
   "metadata": {},
   "outputs": [
    {
     "data": {
      "text/plain": [
       "\"The 'storms_2022_df' dataframe contains  83,110 rows and 33 columns.\""
      ]
     },
     "execution_count": 531,
     "metadata": {},
     "output_type": "execute_result"
    }
   ],
   "source": [
    "f\"The 'storms_2022_df' dataframe contains {storms_2022_df.shape[0]: ,.0f} rows and {storms_2022_df.shape[1]} columns.\""
   ]
  },
  {
   "cell_type": "code",
   "execution_count": 532,
   "id": "129daf15",
   "metadata": {
    "scrolled": false
   },
   "outputs": [
    {
     "data": {
      "text/html": [
       "<div>\n",
       "<style scoped>\n",
       "    .dataframe tbody tr th:only-of-type {\n",
       "        vertical-align: middle;\n",
       "    }\n",
       "\n",
       "    .dataframe tbody tr th {\n",
       "        vertical-align: top;\n",
       "    }\n",
       "\n",
       "    .dataframe thead th {\n",
       "        text-align: right;\n",
       "    }\n",
       "</style>\n",
       "<table border=\"1\" class=\"dataframe\">\n",
       "  <thead>\n",
       "    <tr style=\"text-align: right;\">\n",
       "      <th></th>\n",
       "      <th>episode_id</th>\n",
       "      <th>event_id</th>\n",
       "      <th>state</th>\n",
       "      <th>state_fips_code</th>\n",
       "      <th>event_type</th>\n",
       "      <th>cz_type</th>\n",
       "      <th>cz_fips_code</th>\n",
       "      <th>cz_name</th>\n",
       "      <th>wfo</th>\n",
       "      <th>event_begin_time</th>\n",
       "      <th>event_timezone</th>\n",
       "      <th>event_end_time</th>\n",
       "      <th>injuries_direct</th>\n",
       "      <th>injuries_indirect</th>\n",
       "      <th>deaths_direct</th>\n",
       "      <th>deaths_indirect</th>\n",
       "      <th>damage_property</th>\n",
       "      <th>damage_crops</th>\n",
       "      <th>source</th>\n",
       "      <th>magnitude</th>\n",
       "      <th>magnitude_type</th>\n",
       "      <th>flood_cause</th>\n",
       "      <th>tor_f_scale</th>\n",
       "      <th>tor_length</th>\n",
       "      <th>tor_width</th>\n",
       "      <th>tor_other_wfo</th>\n",
       "      <th>location_index</th>\n",
       "      <th>event_range</th>\n",
       "      <th>event_azimuth</th>\n",
       "      <th>reference_location</th>\n",
       "      <th>event_latitude</th>\n",
       "      <th>event_longitude</th>\n",
       "      <th>event_point</th>\n",
       "    </tr>\n",
       "  </thead>\n",
       "  <tbody>\n",
       "    <tr>\n",
       "      <th>0</th>\n",
       "      <td>164603</td>\n",
       "      <td>1005784</td>\n",
       "      <td>Ne</td>\n",
       "      <td>34</td>\n",
       "      <td>hail</td>\n",
       "      <td>C</td>\n",
       "      <td>29</td>\n",
       "      <td>OCEAN</td>\n",
       "      <td>PHI</td>\n",
       "      <td>2022-01-17 01:52:00</td>\n",
       "      <td>EST-5</td>\n",
       "      <td>2022-01-17 01:52:00</td>\n",
       "      <td>0</td>\n",
       "      <td>0</td>\n",
       "      <td>0</td>\n",
       "      <td>0</td>\n",
       "      <td>0</td>\n",
       "      <td>0</td>\n",
       "      <td>Public</td>\n",
       "      <td>0.88</td>\n",
       "      <td>NaN</td>\n",
       "      <td>NaN</td>\n",
       "      <td>NaN</td>\n",
       "      <td>NaN</td>\n",
       "      <td>NaN</td>\n",
       "      <td>NaN</td>\n",
       "      <td>1.0</td>\n",
       "      <td>0.53</td>\n",
       "      <td>E</td>\n",
       "      <td>LANOKA HARBOR</td>\n",
       "      <td>39.87</td>\n",
       "      <td>-74.16</td>\n",
       "      <td>POINT(-74.16 39.87)</td>\n",
       "    </tr>\n",
       "    <tr>\n",
       "      <th>1</th>\n",
       "      <td>164607</td>\n",
       "      <td>994042</td>\n",
       "      <td>Lo</td>\n",
       "      <td>22</td>\n",
       "      <td>hail</td>\n",
       "      <td>C</td>\n",
       "      <td>69</td>\n",
       "      <td>NATCHITOCHES</td>\n",
       "      <td>SHV</td>\n",
       "      <td>2022-01-09 05:30:00</td>\n",
       "      <td>CST-6</td>\n",
       "      <td>2022-01-09 05:30:00</td>\n",
       "      <td>0</td>\n",
       "      <td>0</td>\n",
       "      <td>0</td>\n",
       "      <td>0</td>\n",
       "      <td>0</td>\n",
       "      <td>0</td>\n",
       "      <td>COOP Observer</td>\n",
       "      <td>0.75</td>\n",
       "      <td>NaN</td>\n",
       "      <td>NaN</td>\n",
       "      <td>NaN</td>\n",
       "      <td>NaN</td>\n",
       "      <td>NaN</td>\n",
       "      <td>NaN</td>\n",
       "      <td>1.0</td>\n",
       "      <td>4.06</td>\n",
       "      <td>WSW</td>\n",
       "      <td>DERRY</td>\n",
       "      <td>31.5082</td>\n",
       "      <td>-93.0341</td>\n",
       "      <td>POINT(-93.0341 31.5082)</td>\n",
       "    </tr>\n",
       "    <tr>\n",
       "      <th>2</th>\n",
       "      <td>164646</td>\n",
       "      <td>994046</td>\n",
       "      <td>Te</td>\n",
       "      <td>48</td>\n",
       "      <td>hail</td>\n",
       "      <td>C</td>\n",
       "      <td>347</td>\n",
       "      <td>NACOGDOCHES</td>\n",
       "      <td>SHV</td>\n",
       "      <td>2022-01-08 16:10:00</td>\n",
       "      <td>CST-6</td>\n",
       "      <td>2022-01-08 16:10:00</td>\n",
       "      <td>0</td>\n",
       "      <td>0</td>\n",
       "      <td>0</td>\n",
       "      <td>0</td>\n",
       "      <td>0</td>\n",
       "      <td>0</td>\n",
       "      <td>Public</td>\n",
       "      <td>1.5</td>\n",
       "      <td>NaN</td>\n",
       "      <td>NaN</td>\n",
       "      <td>NaN</td>\n",
       "      <td>NaN</td>\n",
       "      <td>NaN</td>\n",
       "      <td>NaN</td>\n",
       "      <td>1.0</td>\n",
       "      <td>2.94</td>\n",
       "      <td>WNW</td>\n",
       "      <td>OAK RIDGE</td>\n",
       "      <td>31.5809</td>\n",
       "      <td>-94.5982</td>\n",
       "      <td>POINT(-94.5982 31.5809)</td>\n",
       "    </tr>\n",
       "    <tr>\n",
       "      <th>3</th>\n",
       "      <td>164651</td>\n",
       "      <td>994158</td>\n",
       "      <td>Te</td>\n",
       "      <td>48</td>\n",
       "      <td>hail</td>\n",
       "      <td>C</td>\n",
       "      <td>203</td>\n",
       "      <td>HARRISON</td>\n",
       "      <td>SHV</td>\n",
       "      <td>2022-01-19 16:58:00</td>\n",
       "      <td>CST-6</td>\n",
       "      <td>2022-01-19 16:58:00</td>\n",
       "      <td>0</td>\n",
       "      <td>0</td>\n",
       "      <td>0</td>\n",
       "      <td>0</td>\n",
       "      <td>0</td>\n",
       "      <td>0</td>\n",
       "      <td>Public</td>\n",
       "      <td>2.0</td>\n",
       "      <td>NaN</td>\n",
       "      <td>NaN</td>\n",
       "      <td>NaN</td>\n",
       "      <td>NaN</td>\n",
       "      <td>NaN</td>\n",
       "      <td>NaN</td>\n",
       "      <td>1.0</td>\n",
       "      <td>0.36</td>\n",
       "      <td>SSE</td>\n",
       "      <td>MARSHALL</td>\n",
       "      <td>32.5254</td>\n",
       "      <td>-94.3672</td>\n",
       "      <td>POINT(-94.3672 32.5254)</td>\n",
       "    </tr>\n",
       "    <tr>\n",
       "      <th>4</th>\n",
       "      <td>164651</td>\n",
       "      <td>994146</td>\n",
       "      <td>Te</td>\n",
       "      <td>48</td>\n",
       "      <td>hail</td>\n",
       "      <td>C</td>\n",
       "      <td>183</td>\n",
       "      <td>GREGG</td>\n",
       "      <td>SHV</td>\n",
       "      <td>2022-01-19 16:20:00</td>\n",
       "      <td>CST-6</td>\n",
       "      <td>2022-01-19 16:20:00</td>\n",
       "      <td>0</td>\n",
       "      <td>0</td>\n",
       "      <td>0</td>\n",
       "      <td>0</td>\n",
       "      <td>0</td>\n",
       "      <td>0</td>\n",
       "      <td>Trained Spotter</td>\n",
       "      <td>0.88</td>\n",
       "      <td>NaN</td>\n",
       "      <td>NaN</td>\n",
       "      <td>NaN</td>\n",
       "      <td>NaN</td>\n",
       "      <td>NaN</td>\n",
       "      <td>NaN</td>\n",
       "      <td>1.0</td>\n",
       "      <td>2.85</td>\n",
       "      <td>NW</td>\n",
       "      <td>LONGVIEW EASTSIDE AR</td>\n",
       "      <td>32.5321</td>\n",
       "      <td>-94.7309</td>\n",
       "      <td>POINT(-94.7309 32.5321)</td>\n",
       "    </tr>\n",
       "  </tbody>\n",
       "</table>\n",
       "</div>"
      ],
      "text/plain": [
       "  episode_id event_id state state_fips_code event_type cz_type cz_fips_code  \\\n",
       "0     164603  1005784    Ne              34       hail       C           29   \n",
       "1     164607   994042    Lo              22       hail       C           69   \n",
       "2     164646   994046    Te              48       hail       C          347   \n",
       "3     164651   994158    Te              48       hail       C          203   \n",
       "4     164651   994146    Te              48       hail       C          183   \n",
       "\n",
       "        cz_name  wfo    event_begin_time event_timezone      event_end_time  \\\n",
       "0         OCEAN  PHI 2022-01-17 01:52:00          EST-5 2022-01-17 01:52:00   \n",
       "1  NATCHITOCHES  SHV 2022-01-09 05:30:00          CST-6 2022-01-09 05:30:00   \n",
       "2   NACOGDOCHES  SHV 2022-01-08 16:10:00          CST-6 2022-01-08 16:10:00   \n",
       "3      HARRISON  SHV 2022-01-19 16:58:00          CST-6 2022-01-19 16:58:00   \n",
       "4         GREGG  SHV 2022-01-19 16:20:00          CST-6 2022-01-19 16:20:00   \n",
       "\n",
       "  injuries_direct injuries_indirect deaths_direct deaths_indirect  \\\n",
       "0               0                 0             0               0   \n",
       "1               0                 0             0               0   \n",
       "2               0                 0             0               0   \n",
       "3               0                 0             0               0   \n",
       "4               0                 0             0               0   \n",
       "\n",
       "  damage_property damage_crops           source magnitude magnitude_type  \\\n",
       "0               0            0           Public      0.88            NaN   \n",
       "1               0            0    COOP Observer      0.75            NaN   \n",
       "2               0            0           Public       1.5            NaN   \n",
       "3               0            0           Public       2.0            NaN   \n",
       "4               0            0  Trained Spotter      0.88            NaN   \n",
       "\n",
       "  flood_cause tor_f_scale tor_length tor_width tor_other_wfo location_index  \\\n",
       "0         NaN         NaN        NaN       NaN           NaN            1.0   \n",
       "1         NaN         NaN        NaN       NaN           NaN            1.0   \n",
       "2         NaN         NaN        NaN       NaN           NaN            1.0   \n",
       "3         NaN         NaN        NaN       NaN           NaN            1.0   \n",
       "4         NaN         NaN        NaN       NaN           NaN            1.0   \n",
       "\n",
       "  event_range event_azimuth    reference_location event_latitude  \\\n",
       "0        0.53             E         LANOKA HARBOR          39.87   \n",
       "1        4.06           WSW                 DERRY        31.5082   \n",
       "2        2.94           WNW             OAK RIDGE        31.5809   \n",
       "3        0.36           SSE              MARSHALL        32.5254   \n",
       "4        2.85            NW  LONGVIEW EASTSIDE AR        32.5321   \n",
       "\n",
       "  event_longitude              event_point  \n",
       "0          -74.16      POINT(-74.16 39.87)  \n",
       "1        -93.0341  POINT(-93.0341 31.5082)  \n",
       "2        -94.5982  POINT(-94.5982 31.5809)  \n",
       "3        -94.3672  POINT(-94.3672 32.5254)  \n",
       "4        -94.7309  POINT(-94.7309 32.5321)  "
      ]
     },
     "execution_count": 532,
     "metadata": {},
     "output_type": "execute_result"
    }
   ],
   "source": [
    "# Preview the dataframe\n",
    "pd.set_option(\"display.max_columns\", None)\n",
    "storms_2022_df.head()"
   ]
  },
  {
   "cell_type": "markdown",
   "id": "f94846e2",
   "metadata": {},
   "source": [
    "### Pre-Processing the Data\n",
    "<a id = \"noaa_pp\"></a>"
   ]
  },
  {
   "cell_type": "markdown",
   "id": "47c2bd03",
   "metadata": {},
   "source": [
    "First, we need to determine the number of missing values contained with the dataframe, from which the necessary data cleaning is to be conducted:"
   ]
  },
  {
   "cell_type": "code",
   "execution_count": 533,
   "id": "217c34b1",
   "metadata": {
    "scrolled": false
   },
   "outputs": [
    {
     "data": {
      "text/plain": [
       "episode_id                0\n",
       "event_id                  0\n",
       "state                     0\n",
       "state_fips_code           0\n",
       "event_type                0\n",
       "cz_type                   0\n",
       "cz_fips_code              0\n",
       "cz_name                   0\n",
       "wfo                       0\n",
       "event_begin_time          0\n",
       "event_timezone            0\n",
       "event_end_time            0\n",
       "injuries_direct           0\n",
       "injuries_indirect         0\n",
       "deaths_direct             0\n",
       "deaths_indirect           0\n",
       "damage_property           0\n",
       "damage_crops              0\n",
       "source                    0\n",
       "magnitude             48604\n",
       "magnitude_type        55934\n",
       "flood_cause           65978\n",
       "tor_f_scale           80985\n",
       "tor_length            80985\n",
       "tor_width             80985\n",
       "tor_other_wfo         82789\n",
       "location_index        43282\n",
       "event_range           43282\n",
       "event_azimuth         43282\n",
       "reference_location    43282\n",
       "event_latitude        43282\n",
       "event_longitude       43282\n",
       "event_point           43282\n",
       "dtype: int64"
      ]
     },
     "execution_count": 533,
     "metadata": {},
     "output_type": "execute_result"
    }
   ],
   "source": [
    "# Return the number of missing values for each column\n",
    "storms_2022_df.isna().sum()"
   ]
  },
  {
   "cell_type": "markdown",
   "id": "97dd5cbd",
   "metadata": {},
   "source": [
    "In addressing the set of missing values from the dataframe, as shown above, we will first look to the last 7 columns since there may be a shared constraint that is affecting each of the 43,282 records."
   ]
  },
  {
   "cell_type": "code",
   "execution_count": 534,
   "id": "87f709c6",
   "metadata": {},
   "outputs": [
    {
     "data": {
      "text/plain": [
       "Index(['location_index', 'event_range', 'event_azimuth', 'reference_location',\n",
       "       'event_latitude', 'event_longitude', 'event_point'],\n",
       "      dtype='object')"
      ]
     },
     "execution_count": 534,
     "metadata": {},
     "output_type": "execute_result"
    }
   ],
   "source": [
    "# Select the last 7 columns of the dataframe\n",
    "last_7_columns = storms_2022_df.columns[-7:]\n",
    "last_7_columns"
   ]
  },
  {
   "cell_type": "code",
   "execution_count": 535,
   "id": "9047424b",
   "metadata": {},
   "outputs": [
    {
     "data": {
      "text/plain": [
       "43282"
      ]
     },
     "execution_count": 535,
     "metadata": {},
     "output_type": "execute_result"
    }
   ],
   "source": [
    "# Isolate all of the rows containing missing values within the last 7 columns\n",
    "missing_loc_df = storms_2022_df[storms_2022_df[last_7_columns].isna().all(axis=1)]\n",
    "\n",
    "# Return the 'shape' to confirm that all of the 43,282 records have been retrieve\n",
    "missing_loc_df.shape[0]"
   ]
  },
  {
   "cell_type": "code",
   "execution_count": 536,
   "id": "7324d81e",
   "metadata": {},
   "outputs": [
    {
     "data": {
      "text/html": [
       "<div>\n",
       "<style scoped>\n",
       "    .dataframe tbody tr th:only-of-type {\n",
       "        vertical-align: middle;\n",
       "    }\n",
       "\n",
       "    .dataframe tbody tr th {\n",
       "        vertical-align: top;\n",
       "    }\n",
       "\n",
       "    .dataframe thead th {\n",
       "        text-align: right;\n",
       "    }\n",
       "</style>\n",
       "<table border=\"1\" class=\"dataframe\">\n",
       "  <thead>\n",
       "    <tr style=\"text-align: right;\">\n",
       "      <th></th>\n",
       "      <th>episode_id</th>\n",
       "      <th>event_id</th>\n",
       "      <th>state</th>\n",
       "      <th>state_fips_code</th>\n",
       "      <th>event_type</th>\n",
       "      <th>cz_type</th>\n",
       "      <th>cz_fips_code</th>\n",
       "      <th>cz_name</th>\n",
       "      <th>wfo</th>\n",
       "      <th>event_begin_time</th>\n",
       "      <th>event_timezone</th>\n",
       "      <th>event_end_time</th>\n",
       "      <th>injuries_direct</th>\n",
       "      <th>injuries_indirect</th>\n",
       "      <th>deaths_direct</th>\n",
       "      <th>deaths_indirect</th>\n",
       "      <th>damage_property</th>\n",
       "      <th>damage_crops</th>\n",
       "      <th>source</th>\n",
       "      <th>magnitude</th>\n",
       "      <th>magnitude_type</th>\n",
       "      <th>flood_cause</th>\n",
       "      <th>tor_f_scale</th>\n",
       "      <th>tor_length</th>\n",
       "      <th>tor_width</th>\n",
       "      <th>tor_other_wfo</th>\n",
       "      <th>location_index</th>\n",
       "      <th>event_range</th>\n",
       "      <th>event_azimuth</th>\n",
       "      <th>reference_location</th>\n",
       "      <th>event_latitude</th>\n",
       "      <th>event_longitude</th>\n",
       "      <th>event_point</th>\n",
       "    </tr>\n",
       "  </thead>\n",
       "  <tbody>\n",
       "    <tr>\n",
       "      <th>86</th>\n",
       "      <td>166043</td>\n",
       "      <td>1003857</td>\n",
       "      <td>Io</td>\n",
       "      <td>19</td>\n",
       "      <td>hail</td>\n",
       "      <td>C</td>\n",
       "      <td>145</td>\n",
       "      <td>PAGE</td>\n",
       "      <td>OAX</td>\n",
       "      <td>2022-03-05 15:15:00</td>\n",
       "      <td>CST-6</td>\n",
       "      <td>2022-03-05 15:15:00</td>\n",
       "      <td>0</td>\n",
       "      <td>0</td>\n",
       "      <td>0</td>\n",
       "      <td>0</td>\n",
       "      <td>0</td>\n",
       "      <td>0</td>\n",
       "      <td>Public</td>\n",
       "      <td>1.0</td>\n",
       "      <td>NaN</td>\n",
       "      <td>NaN</td>\n",
       "      <td>NaN</td>\n",
       "      <td>NaN</td>\n",
       "      <td>NaN</td>\n",
       "      <td>NaN</td>\n",
       "      <td>NaN</td>\n",
       "      <td>NaN</td>\n",
       "      <td>NaN</td>\n",
       "      <td>NaN</td>\n",
       "      <td>NaN</td>\n",
       "      <td>NaN</td>\n",
       "      <td>NaN</td>\n",
       "    </tr>\n",
       "    <tr>\n",
       "      <th>113</th>\n",
       "      <td>166296</td>\n",
       "      <td>1005944</td>\n",
       "      <td>Pe</td>\n",
       "      <td>42</td>\n",
       "      <td>hail</td>\n",
       "      <td>C</td>\n",
       "      <td>27</td>\n",
       "      <td>CENTRE</td>\n",
       "      <td>CTP</td>\n",
       "      <td>2022-03-31 13:45:00</td>\n",
       "      <td>EST-5</td>\n",
       "      <td>2022-03-31 13:45:00</td>\n",
       "      <td>0</td>\n",
       "      <td>0</td>\n",
       "      <td>0</td>\n",
       "      <td>0</td>\n",
       "      <td>0</td>\n",
       "      <td>0</td>\n",
       "      <td>Trained Spotter</td>\n",
       "      <td>1.0</td>\n",
       "      <td>NaN</td>\n",
       "      <td>NaN</td>\n",
       "      <td>NaN</td>\n",
       "      <td>NaN</td>\n",
       "      <td>NaN</td>\n",
       "      <td>NaN</td>\n",
       "      <td>NaN</td>\n",
       "      <td>NaN</td>\n",
       "      <td>NaN</td>\n",
       "      <td>NaN</td>\n",
       "      <td>NaN</td>\n",
       "      <td>NaN</td>\n",
       "      <td>NaN</td>\n",
       "    </tr>\n",
       "    <tr>\n",
       "      <th>144</th>\n",
       "      <td>166486</td>\n",
       "      <td>1015777</td>\n",
       "      <td>Io</td>\n",
       "      <td>19</td>\n",
       "      <td>hail</td>\n",
       "      <td>C</td>\n",
       "      <td>3</td>\n",
       "      <td>ADAMS</td>\n",
       "      <td>DMX</td>\n",
       "      <td>2022-03-05 15:55:00</td>\n",
       "      <td>CST-6</td>\n",
       "      <td>2022-03-05 15:55:00</td>\n",
       "      <td>0</td>\n",
       "      <td>0</td>\n",
       "      <td>0</td>\n",
       "      <td>0</td>\n",
       "      <td>0</td>\n",
       "      <td>0</td>\n",
       "      <td>Trained Spotter</td>\n",
       "      <td>1.75</td>\n",
       "      <td>NaN</td>\n",
       "      <td>NaN</td>\n",
       "      <td>NaN</td>\n",
       "      <td>NaN</td>\n",
       "      <td>NaN</td>\n",
       "      <td>NaN</td>\n",
       "      <td>NaN</td>\n",
       "      <td>NaN</td>\n",
       "      <td>NaN</td>\n",
       "      <td>NaN</td>\n",
       "      <td>NaN</td>\n",
       "      <td>NaN</td>\n",
       "      <td>NaN</td>\n",
       "    </tr>\n",
       "    <tr>\n",
       "      <th>145</th>\n",
       "      <td>166486</td>\n",
       "      <td>1015778</td>\n",
       "      <td>Io</td>\n",
       "      <td>19</td>\n",
       "      <td>hail</td>\n",
       "      <td>C</td>\n",
       "      <td>1</td>\n",
       "      <td>ADAIR</td>\n",
       "      <td>DMX</td>\n",
       "      <td>2022-03-05 16:06:00</td>\n",
       "      <td>CST-6</td>\n",
       "      <td>2022-03-05 16:06:00</td>\n",
       "      <td>0</td>\n",
       "      <td>0</td>\n",
       "      <td>0</td>\n",
       "      <td>0</td>\n",
       "      <td>0</td>\n",
       "      <td>0</td>\n",
       "      <td>Public</td>\n",
       "      <td>1.0</td>\n",
       "      <td>NaN</td>\n",
       "      <td>NaN</td>\n",
       "      <td>NaN</td>\n",
       "      <td>NaN</td>\n",
       "      <td>NaN</td>\n",
       "      <td>NaN</td>\n",
       "      <td>NaN</td>\n",
       "      <td>NaN</td>\n",
       "      <td>NaN</td>\n",
       "      <td>NaN</td>\n",
       "      <td>NaN</td>\n",
       "      <td>NaN</td>\n",
       "      <td>NaN</td>\n",
       "    </tr>\n",
       "    <tr>\n",
       "      <th>146</th>\n",
       "      <td>166486</td>\n",
       "      <td>1015786</td>\n",
       "      <td>Io</td>\n",
       "      <td>19</td>\n",
       "      <td>hail</td>\n",
       "      <td>C</td>\n",
       "      <td>1</td>\n",
       "      <td>ADAIR</td>\n",
       "      <td>DMX</td>\n",
       "      <td>2022-03-05 16:12:00</td>\n",
       "      <td>CST-6</td>\n",
       "      <td>2022-03-05 16:12:00</td>\n",
       "      <td>0</td>\n",
       "      <td>0</td>\n",
       "      <td>0</td>\n",
       "      <td>0</td>\n",
       "      <td>0</td>\n",
       "      <td>0</td>\n",
       "      <td>Trained Spotter</td>\n",
       "      <td>2.0</td>\n",
       "      <td>NaN</td>\n",
       "      <td>NaN</td>\n",
       "      <td>NaN</td>\n",
       "      <td>NaN</td>\n",
       "      <td>NaN</td>\n",
       "      <td>NaN</td>\n",
       "      <td>NaN</td>\n",
       "      <td>NaN</td>\n",
       "      <td>NaN</td>\n",
       "      <td>NaN</td>\n",
       "      <td>NaN</td>\n",
       "      <td>NaN</td>\n",
       "      <td>NaN</td>\n",
       "    </tr>\n",
       "  </tbody>\n",
       "</table>\n",
       "</div>"
      ],
      "text/plain": [
       "    episode_id event_id state state_fips_code event_type cz_type cz_fips_code  \\\n",
       "86      166043  1003857    Io              19       hail       C          145   \n",
       "113     166296  1005944    Pe              42       hail       C           27   \n",
       "144     166486  1015777    Io              19       hail       C            3   \n",
       "145     166486  1015778    Io              19       hail       C            1   \n",
       "146     166486  1015786    Io              19       hail       C            1   \n",
       "\n",
       "    cz_name  wfo    event_begin_time event_timezone      event_end_time  \\\n",
       "86     PAGE  OAX 2022-03-05 15:15:00          CST-6 2022-03-05 15:15:00   \n",
       "113  CENTRE  CTP 2022-03-31 13:45:00          EST-5 2022-03-31 13:45:00   \n",
       "144   ADAMS  DMX 2022-03-05 15:55:00          CST-6 2022-03-05 15:55:00   \n",
       "145   ADAIR  DMX 2022-03-05 16:06:00          CST-6 2022-03-05 16:06:00   \n",
       "146   ADAIR  DMX 2022-03-05 16:12:00          CST-6 2022-03-05 16:12:00   \n",
       "\n",
       "    injuries_direct injuries_indirect deaths_direct deaths_indirect  \\\n",
       "86                0                 0             0               0   \n",
       "113               0                 0             0               0   \n",
       "144               0                 0             0               0   \n",
       "145               0                 0             0               0   \n",
       "146               0                 0             0               0   \n",
       "\n",
       "    damage_property damage_crops           source magnitude magnitude_type  \\\n",
       "86                0            0           Public       1.0            NaN   \n",
       "113               0            0  Trained Spotter       1.0            NaN   \n",
       "144               0            0  Trained Spotter      1.75            NaN   \n",
       "145               0            0           Public       1.0            NaN   \n",
       "146               0            0  Trained Spotter       2.0            NaN   \n",
       "\n",
       "    flood_cause tor_f_scale tor_length tor_width tor_other_wfo location_index  \\\n",
       "86          NaN         NaN        NaN       NaN           NaN            NaN   \n",
       "113         NaN         NaN        NaN       NaN           NaN            NaN   \n",
       "144         NaN         NaN        NaN       NaN           NaN            NaN   \n",
       "145         NaN         NaN        NaN       NaN           NaN            NaN   \n",
       "146         NaN         NaN        NaN       NaN           NaN            NaN   \n",
       "\n",
       "    event_range event_azimuth reference_location event_latitude  \\\n",
       "86          NaN           NaN                NaN            NaN   \n",
       "113         NaN           NaN                NaN            NaN   \n",
       "144         NaN           NaN                NaN            NaN   \n",
       "145         NaN           NaN                NaN            NaN   \n",
       "146         NaN           NaN                NaN            NaN   \n",
       "\n",
       "    event_longitude event_point  \n",
       "86              NaN         NaN  \n",
       "113             NaN         NaN  \n",
       "144             NaN         NaN  \n",
       "145             NaN         NaN  \n",
       "146             NaN         NaN  "
      ]
     },
     "execution_count": 536,
     "metadata": {},
     "output_type": "execute_result"
    }
   ],
   "source": [
    "missing_loc_df.head()"
   ]
  },
  {
   "cell_type": "markdown",
   "id": "25a9bb1a",
   "metadata": {},
   "source": [
    "In accordance to the data dictionary, it can be noted that the `location_index` is a \"number assigned by the National Weather Service (NWS) to specific locations within the same storm event. Each event's sequentially increasing location index number will have a corresponding latitude/longitude point\". From this, it can be determined whether the null values within the last 7 columns of the dataframe are valid by confirming that the `event_id` column only contains distinct values. If so, then we can confirm that for each `event_id` for which there is no `location_index`, that the NWS would not have assigned a corresponding value given that an event does not belong to a broader storm event.\n",
    "\n",
    "Since a `location_index` is only generated if an event belongs to the same storm episode, the expected result is for the `event_id` column to contain only distinct values (as validated below)."
   ]
  },
  {
   "cell_type": "code",
   "execution_count": 537,
   "id": "2ff6546a",
   "metadata": {},
   "outputs": [
    {
     "data": {
      "text/plain": [
       "False"
      ]
     },
     "execution_count": 537,
     "metadata": {},
     "output_type": "execute_result"
    }
   ],
   "source": [
    "# Check for duplicate values in the 'event_id' column\n",
    "# Returns True only if there are duplicate values\n",
    "missing_loc_df[\"event_id\"].duplicated().any()"
   ]
  },
  {
   "cell_type": "markdown",
   "id": "b7c3f005",
   "metadata": {},
   "source": [
    "Since the `location_index` will also have a \"corresponding latitude/longitude point\", the assumption is made that the `location_index` field serves as the trigger which generates the corresponding values for the following columns:\n",
    "- `event_range`\n",
    "- `event_azimuth`\n",
    "- `reference_location`\n",
    "- `event_latitude`\n",
    "- `event_longitude`\n",
    "- `event_point`\n",
    "\n",
    "Given that the missing values, in this case, cannot be derived from or accounted for based on other information from the dataset, `NaN` values within the last 7 columns of the dataframe are to be replaced with either 'NA' or 0.0. (_The distinction is made between replacing `NaN` values with 'NA' or 0.0 based on the dtype that each of the columns are set to inherit later on._)"
   ]
  },
  {
   "cell_type": "code",
   "execution_count": 540,
   "id": "340a89ad",
   "metadata": {},
   "outputs": [],
   "source": [
    "# Replace all NaN values (from the last 7 columns of the dataframe) with value: 'NA' or 0.0\n",
    "storms_2022_df[[\"location_index\", \"event_azimuth\", \"reference_location\", \"event_point\"]] = storms_2022_df[[\"location_index\", \"event_azimuth\", \"reference_location\", \"event_point\"]].fillna(\"NA\")\n",
    "storms_2022_df[[\"event_range\", \"event_latitude\", \"event_longitude\"]] = storms_2022_df[[\"event_range\", \"event_latitude\", \"event_longitude\"]].fillna(0.0)\n"
   ]
  },
  {
   "cell_type": "markdown",
   "id": "0ce6f50b",
   "metadata": {},
   "source": [
    "Then, when re-running `df_storms_2022.isna().sum()`, the result is expected to show 0 for the last 7 columns of the dataframe (as confirmed below):"
   ]
  },
  {
   "cell_type": "code",
   "execution_count": 541,
   "id": "cb4654ed",
   "metadata": {},
   "outputs": [
    {
     "data": {
      "text/plain": [
       "episode_id                0\n",
       "event_id                  0\n",
       "state                     0\n",
       "state_fips_code           0\n",
       "event_type                0\n",
       "cz_type                   0\n",
       "cz_fips_code              0\n",
       "cz_name                   0\n",
       "wfo                       0\n",
       "event_begin_time          0\n",
       "event_timezone            0\n",
       "event_end_time            0\n",
       "injuries_direct           0\n",
       "injuries_indirect         0\n",
       "deaths_direct             0\n",
       "deaths_indirect           0\n",
       "damage_property           0\n",
       "damage_crops              0\n",
       "source                    0\n",
       "magnitude             48604\n",
       "magnitude_type        55934\n",
       "flood_cause           65978\n",
       "tor_f_scale           80985\n",
       "tor_length            80985\n",
       "tor_width             80985\n",
       "tor_other_wfo         82789\n",
       "location_index            0\n",
       "event_range               0\n",
       "event_azimuth             0\n",
       "reference_location        0\n",
       "event_latitude            0\n",
       "event_longitude           0\n",
       "event_point               0\n",
       "dtype: int64"
      ]
     },
     "execution_count": 541,
     "metadata": {},
     "output_type": "execute_result"
    }
   ],
   "source": [
    "storms_2022_df.isna().sum()"
   ]
  },
  {
   "cell_type": "markdown",
   "id": "46ae1bc4",
   "metadata": {},
   "source": [
    "Next, in addressing the missing values contained within the columns starting with `tor_`, the following assumptions are made:</br>\n",
    "1. The first batch of 80,985 missing values are tied to records where the `event_type` does not equal 'tornado'.\n",
    "\n",
    "2. The second assumption is based on the definition of the `tor_other_wfo` column: \"indicates the continuation of a tornado segment as it crossed from one National Weather Service Forecast Office to another. The subsequent WFO identifier is provided within this field\". As such, we can assume that any missing values within this field, where the `event_type` is equal to 'tornado', denotes an event that did not cross from one National Weather Service Forecast Office to another."
   ]
  },
  {
   "cell_type": "code",
   "execution_count": 429,
   "id": "74cffbf2",
   "metadata": {},
   "outputs": [
    {
     "data": {
      "text/plain": [
       "['tor_f_scale', 'tor_length', 'tor_width', 'tor_other_wfo']"
      ]
     },
     "execution_count": 429,
     "metadata": {},
     "output_type": "execute_result"
    }
   ],
   "source": [
    "# Select all of the columns starting with 'tor_'\n",
    "tor_columns = [col for col in storms_2022_df.columns if \"tor_\" in col]\n",
    "tor_columns"
   ]
  },
  {
   "cell_type": "code",
   "execution_count": 430,
   "id": "6316c6b4",
   "metadata": {},
   "outputs": [
    {
     "data": {
      "text/plain": [
       "(82789, 33)"
      ]
     },
     "execution_count": 430,
     "metadata": {},
     "output_type": "execute_result"
    }
   ],
   "source": [
    "# Isolate all of the rows containing missing values where column header contains string value: \"tor_\"\n",
    "missing_tor_df = storms_2022_df[storms_2022_df[tor_columns].isna().any(axis=1)]\n",
    "\n",
    "# Return the 'shape' to confirm that all of the 82,789 records have been retrieve\n",
    "missing_tor_df.shape[0]"
   ]
  },
  {
   "cell_type": "code",
   "execution_count": 431,
   "id": "d19a8d8c",
   "metadata": {},
   "outputs": [
    {
     "data": {
      "text/html": [
       "<div>\n",
       "<style scoped>\n",
       "    .dataframe tbody tr th:only-of-type {\n",
       "        vertical-align: middle;\n",
       "    }\n",
       "\n",
       "    .dataframe tbody tr th {\n",
       "        vertical-align: top;\n",
       "    }\n",
       "\n",
       "    .dataframe thead th {\n",
       "        text-align: right;\n",
       "    }\n",
       "</style>\n",
       "<table border=\"1\" class=\"dataframe\">\n",
       "  <thead>\n",
       "    <tr style=\"text-align: right;\">\n",
       "      <th></th>\n",
       "      <th>episode_id</th>\n",
       "      <th>event_id</th>\n",
       "      <th>state</th>\n",
       "      <th>state_fips_code</th>\n",
       "      <th>event_type</th>\n",
       "      <th>cz_type</th>\n",
       "      <th>cz_fips_code</th>\n",
       "      <th>cz_name</th>\n",
       "      <th>wfo</th>\n",
       "      <th>event_begin_time</th>\n",
       "      <th>event_timezone</th>\n",
       "      <th>event_end_time</th>\n",
       "      <th>injuries_direct</th>\n",
       "      <th>injuries_indirect</th>\n",
       "      <th>deaths_direct</th>\n",
       "      <th>deaths_indirect</th>\n",
       "      <th>damage_property</th>\n",
       "      <th>damage_crops</th>\n",
       "      <th>source</th>\n",
       "      <th>magnitude</th>\n",
       "      <th>magnitude_type</th>\n",
       "      <th>flood_cause</th>\n",
       "      <th>tor_f_scale</th>\n",
       "      <th>tor_length</th>\n",
       "      <th>tor_width</th>\n",
       "      <th>tor_other_wfo</th>\n",
       "      <th>location_index</th>\n",
       "      <th>event_range</th>\n",
       "      <th>event_azimuth</th>\n",
       "      <th>reference_location</th>\n",
       "      <th>event_latitude</th>\n",
       "      <th>event_longitude</th>\n",
       "      <th>event_point</th>\n",
       "    </tr>\n",
       "  </thead>\n",
       "  <tbody>\n",
       "    <tr>\n",
       "      <th>0</th>\n",
       "      <td>164603</td>\n",
       "      <td>1005784</td>\n",
       "      <td>Ne</td>\n",
       "      <td>34</td>\n",
       "      <td>hail</td>\n",
       "      <td>C</td>\n",
       "      <td>29</td>\n",
       "      <td>OCEAN</td>\n",
       "      <td>PHI</td>\n",
       "      <td>2022-01-17 01:52:00</td>\n",
       "      <td>EST-5</td>\n",
       "      <td>2022-01-17 01:52:00</td>\n",
       "      <td>0</td>\n",
       "      <td>0</td>\n",
       "      <td>0</td>\n",
       "      <td>0</td>\n",
       "      <td>0</td>\n",
       "      <td>0</td>\n",
       "      <td>Public</td>\n",
       "      <td>0.88</td>\n",
       "      <td>NaN</td>\n",
       "      <td>NaN</td>\n",
       "      <td>NaN</td>\n",
       "      <td>NaN</td>\n",
       "      <td>NaN</td>\n",
       "      <td>NaN</td>\n",
       "      <td>1.0</td>\n",
       "      <td>0.53</td>\n",
       "      <td>E</td>\n",
       "      <td>LANOKA HARBOR</td>\n",
       "      <td>39.87</td>\n",
       "      <td>-74.16</td>\n",
       "      <td>POINT(-74.16 39.87)</td>\n",
       "    </tr>\n",
       "    <tr>\n",
       "      <th>1</th>\n",
       "      <td>164607</td>\n",
       "      <td>994042</td>\n",
       "      <td>Lo</td>\n",
       "      <td>22</td>\n",
       "      <td>hail</td>\n",
       "      <td>C</td>\n",
       "      <td>69</td>\n",
       "      <td>NATCHITOCHES</td>\n",
       "      <td>SHV</td>\n",
       "      <td>2022-01-09 05:30:00</td>\n",
       "      <td>CST-6</td>\n",
       "      <td>2022-01-09 05:30:00</td>\n",
       "      <td>0</td>\n",
       "      <td>0</td>\n",
       "      <td>0</td>\n",
       "      <td>0</td>\n",
       "      <td>0</td>\n",
       "      <td>0</td>\n",
       "      <td>COOP Observer</td>\n",
       "      <td>0.75</td>\n",
       "      <td>NaN</td>\n",
       "      <td>NaN</td>\n",
       "      <td>NaN</td>\n",
       "      <td>NaN</td>\n",
       "      <td>NaN</td>\n",
       "      <td>NaN</td>\n",
       "      <td>1.0</td>\n",
       "      <td>4.06</td>\n",
       "      <td>WSW</td>\n",
       "      <td>DERRY</td>\n",
       "      <td>31.5082</td>\n",
       "      <td>-93.0341</td>\n",
       "      <td>POINT(-93.0341 31.5082)</td>\n",
       "    </tr>\n",
       "    <tr>\n",
       "      <th>2</th>\n",
       "      <td>164646</td>\n",
       "      <td>994046</td>\n",
       "      <td>Te</td>\n",
       "      <td>48</td>\n",
       "      <td>hail</td>\n",
       "      <td>C</td>\n",
       "      <td>347</td>\n",
       "      <td>NACOGDOCHES</td>\n",
       "      <td>SHV</td>\n",
       "      <td>2022-01-08 16:10:00</td>\n",
       "      <td>CST-6</td>\n",
       "      <td>2022-01-08 16:10:00</td>\n",
       "      <td>0</td>\n",
       "      <td>0</td>\n",
       "      <td>0</td>\n",
       "      <td>0</td>\n",
       "      <td>0</td>\n",
       "      <td>0</td>\n",
       "      <td>Public</td>\n",
       "      <td>1.5</td>\n",
       "      <td>NaN</td>\n",
       "      <td>NaN</td>\n",
       "      <td>NaN</td>\n",
       "      <td>NaN</td>\n",
       "      <td>NaN</td>\n",
       "      <td>NaN</td>\n",
       "      <td>1.0</td>\n",
       "      <td>2.94</td>\n",
       "      <td>WNW</td>\n",
       "      <td>OAK RIDGE</td>\n",
       "      <td>31.5809</td>\n",
       "      <td>-94.5982</td>\n",
       "      <td>POINT(-94.5982 31.5809)</td>\n",
       "    </tr>\n",
       "    <tr>\n",
       "      <th>3</th>\n",
       "      <td>164651</td>\n",
       "      <td>994158</td>\n",
       "      <td>Te</td>\n",
       "      <td>48</td>\n",
       "      <td>hail</td>\n",
       "      <td>C</td>\n",
       "      <td>203</td>\n",
       "      <td>HARRISON</td>\n",
       "      <td>SHV</td>\n",
       "      <td>2022-01-19 16:58:00</td>\n",
       "      <td>CST-6</td>\n",
       "      <td>2022-01-19 16:58:00</td>\n",
       "      <td>0</td>\n",
       "      <td>0</td>\n",
       "      <td>0</td>\n",
       "      <td>0</td>\n",
       "      <td>0</td>\n",
       "      <td>0</td>\n",
       "      <td>Public</td>\n",
       "      <td>2.0</td>\n",
       "      <td>NaN</td>\n",
       "      <td>NaN</td>\n",
       "      <td>NaN</td>\n",
       "      <td>NaN</td>\n",
       "      <td>NaN</td>\n",
       "      <td>NaN</td>\n",
       "      <td>1.0</td>\n",
       "      <td>0.36</td>\n",
       "      <td>SSE</td>\n",
       "      <td>MARSHALL</td>\n",
       "      <td>32.5254</td>\n",
       "      <td>-94.3672</td>\n",
       "      <td>POINT(-94.3672 32.5254)</td>\n",
       "    </tr>\n",
       "    <tr>\n",
       "      <th>4</th>\n",
       "      <td>164651</td>\n",
       "      <td>994146</td>\n",
       "      <td>Te</td>\n",
       "      <td>48</td>\n",
       "      <td>hail</td>\n",
       "      <td>C</td>\n",
       "      <td>183</td>\n",
       "      <td>GREGG</td>\n",
       "      <td>SHV</td>\n",
       "      <td>2022-01-19 16:20:00</td>\n",
       "      <td>CST-6</td>\n",
       "      <td>2022-01-19 16:20:00</td>\n",
       "      <td>0</td>\n",
       "      <td>0</td>\n",
       "      <td>0</td>\n",
       "      <td>0</td>\n",
       "      <td>0</td>\n",
       "      <td>0</td>\n",
       "      <td>Trained Spotter</td>\n",
       "      <td>0.88</td>\n",
       "      <td>NaN</td>\n",
       "      <td>NaN</td>\n",
       "      <td>NaN</td>\n",
       "      <td>NaN</td>\n",
       "      <td>NaN</td>\n",
       "      <td>NaN</td>\n",
       "      <td>1.0</td>\n",
       "      <td>2.85</td>\n",
       "      <td>NW</td>\n",
       "      <td>LONGVIEW EASTSIDE AR</td>\n",
       "      <td>32.5321</td>\n",
       "      <td>-94.7309</td>\n",
       "      <td>POINT(-94.7309 32.5321)</td>\n",
       "    </tr>\n",
       "  </tbody>\n",
       "</table>\n",
       "</div>"
      ],
      "text/plain": [
       "  episode_id event_id state state_fips_code event_type cz_type cz_fips_code  \\\n",
       "0     164603  1005784    Ne              34       hail       C           29   \n",
       "1     164607   994042    Lo              22       hail       C           69   \n",
       "2     164646   994046    Te              48       hail       C          347   \n",
       "3     164651   994158    Te              48       hail       C          203   \n",
       "4     164651   994146    Te              48       hail       C          183   \n",
       "\n",
       "        cz_name  wfo    event_begin_time event_timezone      event_end_time  \\\n",
       "0         OCEAN  PHI 2022-01-17 01:52:00          EST-5 2022-01-17 01:52:00   \n",
       "1  NATCHITOCHES  SHV 2022-01-09 05:30:00          CST-6 2022-01-09 05:30:00   \n",
       "2   NACOGDOCHES  SHV 2022-01-08 16:10:00          CST-6 2022-01-08 16:10:00   \n",
       "3      HARRISON  SHV 2022-01-19 16:58:00          CST-6 2022-01-19 16:58:00   \n",
       "4         GREGG  SHV 2022-01-19 16:20:00          CST-6 2022-01-19 16:20:00   \n",
       "\n",
       "  injuries_direct injuries_indirect deaths_direct deaths_indirect  \\\n",
       "0               0                 0             0               0   \n",
       "1               0                 0             0               0   \n",
       "2               0                 0             0               0   \n",
       "3               0                 0             0               0   \n",
       "4               0                 0             0               0   \n",
       "\n",
       "  damage_property damage_crops           source magnitude magnitude_type  \\\n",
       "0               0            0           Public      0.88            NaN   \n",
       "1               0            0    COOP Observer      0.75            NaN   \n",
       "2               0            0           Public       1.5            NaN   \n",
       "3               0            0           Public       2.0            NaN   \n",
       "4               0            0  Trained Spotter      0.88            NaN   \n",
       "\n",
       "  flood_cause tor_f_scale tor_length tor_width tor_other_wfo location_index  \\\n",
       "0         NaN         NaN        NaN       NaN           NaN            1.0   \n",
       "1         NaN         NaN        NaN       NaN           NaN            1.0   \n",
       "2         NaN         NaN        NaN       NaN           NaN            1.0   \n",
       "3         NaN         NaN        NaN       NaN           NaN            1.0   \n",
       "4         NaN         NaN        NaN       NaN           NaN            1.0   \n",
       "\n",
       "  event_range event_azimuth    reference_location event_latitude  \\\n",
       "0        0.53             E         LANOKA HARBOR          39.87   \n",
       "1        4.06           WSW                 DERRY        31.5082   \n",
       "2        2.94           WNW             OAK RIDGE        31.5809   \n",
       "3        0.36           SSE              MARSHALL        32.5254   \n",
       "4        2.85            NW  LONGVIEW EASTSIDE AR        32.5321   \n",
       "\n",
       "  event_longitude              event_point  \n",
       "0          -74.16      POINT(-74.16 39.87)  \n",
       "1        -93.0341  POINT(-93.0341 31.5082)  \n",
       "2        -94.5982  POINT(-94.5982 31.5809)  \n",
       "3        -94.3672  POINT(-94.3672 32.5254)  \n",
       "4        -94.7309  POINT(-94.7309 32.5321)  "
      ]
     },
     "execution_count": 431,
     "metadata": {},
     "output_type": "execute_result"
    }
   ],
   "source": [
    "missing_tor_df.head()"
   ]
  },
  {
   "cell_type": "code",
   "execution_count": 432,
   "id": "954e9fe5",
   "metadata": {},
   "outputs": [
    {
     "data": {
      "text/plain": [
       "\" 80,985 records can be tied to the first assumption in which the 'event_type' does not equal 'tornado'.\""
      ]
     },
     "execution_count": 432,
     "metadata": {},
     "output_type": "execute_result"
    }
   ],
   "source": [
    "f\"{missing_tor_df[missing_tor_df['event_type'] != 'tornado'].shape[0]: ,.0f} records can be tied to the first assumption in \\\n",
    "which the 'event_type' does not equal 'tornado'.\""
   ]
  },
  {
   "cell_type": "code",
   "execution_count": 542,
   "id": "ecdf455b",
   "metadata": {},
   "outputs": [
    {
     "data": {
      "text/plain": [
       "\" 1,804 records can be tied to the second assumption in which the 'event_type' does equal 'tornado', but that the event did not cross from one NWS Forecast Office to another.\""
      ]
     },
     "execution_count": 542,
     "metadata": {},
     "output_type": "execute_result"
    }
   ],
   "source": [
    "f\"{missing_tor_df[missing_tor_df['event_type'] == 'tornado'].shape[0]: ,.0f} records can be tied to the second assumption in \\\n",
    "which the 'event_type' does equal 'tornado', but that the event did not cross from one NWS Forecast Office to another.\" "
   ]
  },
  {
   "cell_type": "markdown",
   "id": "28e4e65b",
   "metadata": {},
   "source": [
    "The missing values are then replaced with either 'NA' or 0.0 (_once again, the distinction is made between replacing `NaN` values with 'NA' or 0.0 based on the dtype that each of the columns are set to inherit later on._)"
   ]
  },
  {
   "cell_type": "code",
   "execution_count": 434,
   "id": "b8ddf065",
   "metadata": {},
   "outputs": [],
   "source": [
    "storms_2022_df[[\"tor_f_scale\", \"tor_other_wfo\"]] = storms_2022_df[[\"tor_f_scale\", \"tor_other_wfo\"]].fillna(\"NA\")\n",
    "storms_2022_df[[\"tor_length\", \"tor_width\"]] = storms_2022_df[[\"tor_length\", \"tor_width\"]].fillna(0.0)"
   ]
  },
  {
   "cell_type": "code",
   "execution_count": 435,
   "id": "a38559b2",
   "metadata": {},
   "outputs": [
    {
     "data": {
      "text/plain": [
       "tor_f_scale      0\n",
       "tor_length       0\n",
       "tor_width        0\n",
       "tor_other_wfo    0\n",
       "dtype: int64"
      ]
     },
     "execution_count": 435,
     "metadata": {},
     "output_type": "execute_result"
    }
   ],
   "source": [
    "# Confirm that the 'tor_' columns no longer contain missing values\n",
    "storms_2022_df[tor_columns].isna().sum()"
   ]
  },
  {
   "cell_type": "code",
   "execution_count": 436,
   "id": "63d24edf",
   "metadata": {},
   "outputs": [
    {
     "data": {
      "text/plain": [
       "episode_id                0\n",
       "event_id                  0\n",
       "state                     0\n",
       "state_fips_code           0\n",
       "event_type                0\n",
       "cz_type                   0\n",
       "cz_fips_code              0\n",
       "cz_name                   0\n",
       "wfo                       0\n",
       "event_begin_time          0\n",
       "event_timezone            0\n",
       "event_end_time            0\n",
       "injuries_direct           0\n",
       "injuries_indirect         0\n",
       "deaths_direct             0\n",
       "deaths_indirect           0\n",
       "damage_property           0\n",
       "damage_crops              0\n",
       "source                    0\n",
       "magnitude             48604\n",
       "magnitude_type        55934\n",
       "flood_cause           65978\n",
       "tor_f_scale               0\n",
       "tor_length                0\n",
       "tor_width                 0\n",
       "tor_other_wfo             0\n",
       "location_index        43282\n",
       "event_range               0\n",
       "event_azimuth             0\n",
       "reference_location        0\n",
       "event_latitude            0\n",
       "event_longitude           0\n",
       "event_point               0\n",
       "dtype: int64"
      ]
     },
     "execution_count": 436,
     "metadata": {},
     "output_type": "execute_result"
    }
   ],
   "source": [
    "storms_2022_df.isna().sum()"
   ]
  },
  {
   "cell_type": "markdown",
   "id": "f5a8a492",
   "metadata": {},
   "source": [
    "Next, we isolate the records for which the `flood_cause` field is blank:"
   ]
  },
  {
   "cell_type": "code",
   "execution_count": 437,
   "id": "fc5f40f4",
   "metadata": {},
   "outputs": [
    {
     "data": {
      "text/html": [
       "<div>\n",
       "<style scoped>\n",
       "    .dataframe tbody tr th:only-of-type {\n",
       "        vertical-align: middle;\n",
       "    }\n",
       "\n",
       "    .dataframe tbody tr th {\n",
       "        vertical-align: top;\n",
       "    }\n",
       "\n",
       "    .dataframe thead th {\n",
       "        text-align: right;\n",
       "    }\n",
       "</style>\n",
       "<table border=\"1\" class=\"dataframe\">\n",
       "  <thead>\n",
       "    <tr style=\"text-align: right;\">\n",
       "      <th></th>\n",
       "      <th>episode_id</th>\n",
       "      <th>event_id</th>\n",
       "      <th>state</th>\n",
       "      <th>state_fips_code</th>\n",
       "      <th>event_type</th>\n",
       "      <th>cz_type</th>\n",
       "      <th>cz_fips_code</th>\n",
       "      <th>cz_name</th>\n",
       "      <th>wfo</th>\n",
       "      <th>event_begin_time</th>\n",
       "      <th>event_timezone</th>\n",
       "      <th>event_end_time</th>\n",
       "      <th>injuries_direct</th>\n",
       "      <th>injuries_indirect</th>\n",
       "      <th>deaths_direct</th>\n",
       "      <th>deaths_indirect</th>\n",
       "      <th>damage_property</th>\n",
       "      <th>damage_crops</th>\n",
       "      <th>source</th>\n",
       "      <th>magnitude</th>\n",
       "      <th>magnitude_type</th>\n",
       "      <th>flood_cause</th>\n",
       "      <th>tor_f_scale</th>\n",
       "      <th>tor_length</th>\n",
       "      <th>tor_width</th>\n",
       "      <th>tor_other_wfo</th>\n",
       "      <th>location_index</th>\n",
       "      <th>event_range</th>\n",
       "      <th>event_azimuth</th>\n",
       "      <th>reference_location</th>\n",
       "      <th>event_latitude</th>\n",
       "      <th>event_longitude</th>\n",
       "      <th>event_point</th>\n",
       "    </tr>\n",
       "  </thead>\n",
       "  <tbody>\n",
       "    <tr>\n",
       "      <th>0</th>\n",
       "      <td>164603</td>\n",
       "      <td>1005784</td>\n",
       "      <td>Ne</td>\n",
       "      <td>34</td>\n",
       "      <td>hail</td>\n",
       "      <td>C</td>\n",
       "      <td>29</td>\n",
       "      <td>OCEAN</td>\n",
       "      <td>PHI</td>\n",
       "      <td>2022-01-17 01:52:00</td>\n",
       "      <td>EST-5</td>\n",
       "      <td>2022-01-17 01:52:00</td>\n",
       "      <td>0</td>\n",
       "      <td>0</td>\n",
       "      <td>0</td>\n",
       "      <td>0</td>\n",
       "      <td>0</td>\n",
       "      <td>0</td>\n",
       "      <td>Public</td>\n",
       "      <td>0.88</td>\n",
       "      <td>NaN</td>\n",
       "      <td>NaN</td>\n",
       "      <td>NA</td>\n",
       "      <td>0.0</td>\n",
       "      <td>0.0</td>\n",
       "      <td>NA</td>\n",
       "      <td>1.0</td>\n",
       "      <td>0.53</td>\n",
       "      <td>E</td>\n",
       "      <td>LANOKA HARBOR</td>\n",
       "      <td>39.87</td>\n",
       "      <td>-74.16</td>\n",
       "      <td>POINT(-74.16 39.87)</td>\n",
       "    </tr>\n",
       "    <tr>\n",
       "      <th>1</th>\n",
       "      <td>164607</td>\n",
       "      <td>994042</td>\n",
       "      <td>Lo</td>\n",
       "      <td>22</td>\n",
       "      <td>hail</td>\n",
       "      <td>C</td>\n",
       "      <td>69</td>\n",
       "      <td>NATCHITOCHES</td>\n",
       "      <td>SHV</td>\n",
       "      <td>2022-01-09 05:30:00</td>\n",
       "      <td>CST-6</td>\n",
       "      <td>2022-01-09 05:30:00</td>\n",
       "      <td>0</td>\n",
       "      <td>0</td>\n",
       "      <td>0</td>\n",
       "      <td>0</td>\n",
       "      <td>0</td>\n",
       "      <td>0</td>\n",
       "      <td>COOP Observer</td>\n",
       "      <td>0.75</td>\n",
       "      <td>NaN</td>\n",
       "      <td>NaN</td>\n",
       "      <td>NA</td>\n",
       "      <td>0.0</td>\n",
       "      <td>0.0</td>\n",
       "      <td>NA</td>\n",
       "      <td>1.0</td>\n",
       "      <td>4.06</td>\n",
       "      <td>WSW</td>\n",
       "      <td>DERRY</td>\n",
       "      <td>31.5082</td>\n",
       "      <td>-93.0341</td>\n",
       "      <td>POINT(-93.0341 31.5082)</td>\n",
       "    </tr>\n",
       "    <tr>\n",
       "      <th>2</th>\n",
       "      <td>164646</td>\n",
       "      <td>994046</td>\n",
       "      <td>Te</td>\n",
       "      <td>48</td>\n",
       "      <td>hail</td>\n",
       "      <td>C</td>\n",
       "      <td>347</td>\n",
       "      <td>NACOGDOCHES</td>\n",
       "      <td>SHV</td>\n",
       "      <td>2022-01-08 16:10:00</td>\n",
       "      <td>CST-6</td>\n",
       "      <td>2022-01-08 16:10:00</td>\n",
       "      <td>0</td>\n",
       "      <td>0</td>\n",
       "      <td>0</td>\n",
       "      <td>0</td>\n",
       "      <td>0</td>\n",
       "      <td>0</td>\n",
       "      <td>Public</td>\n",
       "      <td>1.5</td>\n",
       "      <td>NaN</td>\n",
       "      <td>NaN</td>\n",
       "      <td>NA</td>\n",
       "      <td>0.0</td>\n",
       "      <td>0.0</td>\n",
       "      <td>NA</td>\n",
       "      <td>1.0</td>\n",
       "      <td>2.94</td>\n",
       "      <td>WNW</td>\n",
       "      <td>OAK RIDGE</td>\n",
       "      <td>31.5809</td>\n",
       "      <td>-94.5982</td>\n",
       "      <td>POINT(-94.5982 31.5809)</td>\n",
       "    </tr>\n",
       "    <tr>\n",
       "      <th>3</th>\n",
       "      <td>164651</td>\n",
       "      <td>994158</td>\n",
       "      <td>Te</td>\n",
       "      <td>48</td>\n",
       "      <td>hail</td>\n",
       "      <td>C</td>\n",
       "      <td>203</td>\n",
       "      <td>HARRISON</td>\n",
       "      <td>SHV</td>\n",
       "      <td>2022-01-19 16:58:00</td>\n",
       "      <td>CST-6</td>\n",
       "      <td>2022-01-19 16:58:00</td>\n",
       "      <td>0</td>\n",
       "      <td>0</td>\n",
       "      <td>0</td>\n",
       "      <td>0</td>\n",
       "      <td>0</td>\n",
       "      <td>0</td>\n",
       "      <td>Public</td>\n",
       "      <td>2.0</td>\n",
       "      <td>NaN</td>\n",
       "      <td>NaN</td>\n",
       "      <td>NA</td>\n",
       "      <td>0.0</td>\n",
       "      <td>0.0</td>\n",
       "      <td>NA</td>\n",
       "      <td>1.0</td>\n",
       "      <td>0.36</td>\n",
       "      <td>SSE</td>\n",
       "      <td>MARSHALL</td>\n",
       "      <td>32.5254</td>\n",
       "      <td>-94.3672</td>\n",
       "      <td>POINT(-94.3672 32.5254)</td>\n",
       "    </tr>\n",
       "    <tr>\n",
       "      <th>4</th>\n",
       "      <td>164651</td>\n",
       "      <td>994146</td>\n",
       "      <td>Te</td>\n",
       "      <td>48</td>\n",
       "      <td>hail</td>\n",
       "      <td>C</td>\n",
       "      <td>183</td>\n",
       "      <td>GREGG</td>\n",
       "      <td>SHV</td>\n",
       "      <td>2022-01-19 16:20:00</td>\n",
       "      <td>CST-6</td>\n",
       "      <td>2022-01-19 16:20:00</td>\n",
       "      <td>0</td>\n",
       "      <td>0</td>\n",
       "      <td>0</td>\n",
       "      <td>0</td>\n",
       "      <td>0</td>\n",
       "      <td>0</td>\n",
       "      <td>Trained Spotter</td>\n",
       "      <td>0.88</td>\n",
       "      <td>NaN</td>\n",
       "      <td>NaN</td>\n",
       "      <td>NA</td>\n",
       "      <td>0.0</td>\n",
       "      <td>0.0</td>\n",
       "      <td>NA</td>\n",
       "      <td>1.0</td>\n",
       "      <td>2.85</td>\n",
       "      <td>NW</td>\n",
       "      <td>LONGVIEW EASTSIDE AR</td>\n",
       "      <td>32.5321</td>\n",
       "      <td>-94.7309</td>\n",
       "      <td>POINT(-94.7309 32.5321)</td>\n",
       "    </tr>\n",
       "  </tbody>\n",
       "</table>\n",
       "</div>"
      ],
      "text/plain": [
       "  episode_id event_id state state_fips_code event_type cz_type cz_fips_code  \\\n",
       "0     164603  1005784    Ne              34       hail       C           29   \n",
       "1     164607   994042    Lo              22       hail       C           69   \n",
       "2     164646   994046    Te              48       hail       C          347   \n",
       "3     164651   994158    Te              48       hail       C          203   \n",
       "4     164651   994146    Te              48       hail       C          183   \n",
       "\n",
       "        cz_name  wfo    event_begin_time event_timezone      event_end_time  \\\n",
       "0         OCEAN  PHI 2022-01-17 01:52:00          EST-5 2022-01-17 01:52:00   \n",
       "1  NATCHITOCHES  SHV 2022-01-09 05:30:00          CST-6 2022-01-09 05:30:00   \n",
       "2   NACOGDOCHES  SHV 2022-01-08 16:10:00          CST-6 2022-01-08 16:10:00   \n",
       "3      HARRISON  SHV 2022-01-19 16:58:00          CST-6 2022-01-19 16:58:00   \n",
       "4         GREGG  SHV 2022-01-19 16:20:00          CST-6 2022-01-19 16:20:00   \n",
       "\n",
       "  injuries_direct injuries_indirect deaths_direct deaths_indirect  \\\n",
       "0               0                 0             0               0   \n",
       "1               0                 0             0               0   \n",
       "2               0                 0             0               0   \n",
       "3               0                 0             0               0   \n",
       "4               0                 0             0               0   \n",
       "\n",
       "  damage_property damage_crops           source magnitude magnitude_type  \\\n",
       "0               0            0           Public      0.88            NaN   \n",
       "1               0            0    COOP Observer      0.75            NaN   \n",
       "2               0            0           Public       1.5            NaN   \n",
       "3               0            0           Public       2.0            NaN   \n",
       "4               0            0  Trained Spotter      0.88            NaN   \n",
       "\n",
       "  flood_cause tor_f_scale tor_length tor_width tor_other_wfo location_index  \\\n",
       "0         NaN          NA        0.0       0.0            NA            1.0   \n",
       "1         NaN          NA        0.0       0.0            NA            1.0   \n",
       "2         NaN          NA        0.0       0.0            NA            1.0   \n",
       "3         NaN          NA        0.0       0.0            NA            1.0   \n",
       "4         NaN          NA        0.0       0.0            NA            1.0   \n",
       "\n",
       "  event_range event_azimuth    reference_location event_latitude  \\\n",
       "0        0.53             E         LANOKA HARBOR          39.87   \n",
       "1        4.06           WSW                 DERRY        31.5082   \n",
       "2        2.94           WNW             OAK RIDGE        31.5809   \n",
       "3        0.36           SSE              MARSHALL        32.5254   \n",
       "4        2.85            NW  LONGVIEW EASTSIDE AR        32.5321   \n",
       "\n",
       "  event_longitude              event_point  \n",
       "0          -74.16      POINT(-74.16 39.87)  \n",
       "1        -93.0341  POINT(-93.0341 31.5082)  \n",
       "2        -94.5982  POINT(-94.5982 31.5809)  \n",
       "3        -94.3672  POINT(-94.3672 32.5254)  \n",
       "4        -94.7309  POINT(-94.7309 32.5321)  "
      ]
     },
     "execution_count": 437,
     "metadata": {},
     "output_type": "execute_result"
    }
   ],
   "source": [
    "missing_flood_df = storms_2022_df[storms_2022_df[\"flood_cause\"].isna()]\n",
    "missing_flood_df.head()"
   ]
  },
  {
   "cell_type": "markdown",
   "id": "1fe1a505",
   "metadata": {},
   "source": [
    "Having isolated all of the rows with missing `flood_cause`, we then return a list of all the weather events and their respective `.value_counts()` to determine if we may impute values for `flood_cause` that would be in alignment with existing values (as displayed in the following 2 code blocks)."
   ]
  },
  {
   "cell_type": "code",
   "execution_count": 438,
   "id": "bc9fc6f4",
   "metadata": {
    "scrolled": false
   },
   "outputs": [
    {
     "data": {
      "text/plain": [
       "event_type\n",
       "thunderstorm wind             18224\n",
       "hail                           7301\n",
       "drought                        6873\n",
       "high wind                      5179\n",
       "winter weather                 4762\n",
       "winter storm                   3644\n",
       "marine thunderstorm wind       2592\n",
       "heavy snow                     2318\n",
       "tornado                        2125\n",
       "extreme cold/wind chill        1855\n",
       "heat                           1836\n",
       "excessive heat                 1236\n",
       "heavy rain                     1132\n",
       "strong wind                    1066\n",
       "cold/wind chill                 992\n",
       "blizzard                        854\n",
       "dense fog                       571\n",
       "frost/freeze                    423\n",
       "wildfire                        421\n",
       "high surf                       341\n",
       "lightning                       264\n",
       "ice storm                       261\n",
       "dust storm                      238\n",
       "tropical storm                  230\n",
       "waterspout                      228\n",
       "funnel cloud                    212\n",
       "coastal flood                   205\n",
       "marine high wind                109\n",
       "lake-effect snow                 88\n",
       "rip current                      82\n",
       "marine tropical storm            45\n",
       "astronomical low tide            43\n",
       "sleet                            42\n",
       "storm surge/tide                 32\n",
       "marine hail                      29\n",
       "avalanche                        29\n",
       "hurricane                        23\n",
       "tropical depression              22\n",
       "dust devil                       11\n",
       "tsunami                           9\n",
       "marine strong wind                6\n",
       "lakeshore flood                   4\n",
       "marine hurricane/typhoon          4\n",
       "marine dense fog                  4\n",
       "marine tropical depression        3\n",
       "dense smoke                       3\n",
       "freezing fog                      3\n",
       "seiche                            2\n",
       "volcanic ashfall                  1\n",
       "sneakerwave                       1\n",
       "Name: count, dtype: int64"
      ]
     },
     "execution_count": 438,
     "metadata": {},
     "output_type": "execute_result"
    }
   ],
   "source": [
    "missing_flood_df[\"event_type\"].value_counts()"
   ]
  },
  {
   "cell_type": "markdown",
   "id": "24691cc9",
   "metadata": {},
   "source": [
    "Based on the above, it can be argued that the majority of missing values within the `flood_cause` field are returning `NaN` since the associated `event_type` would not inherently lead to a flooding event. However, for certain weather events, we may replace missing values with a corresponding `flood_cause` (as demonstrated in the following code blocks)."
   ]
  },
  {
   "cell_type": "code",
   "execution_count": 439,
   "id": "7f3480ec",
   "metadata": {},
   "outputs": [
    {
     "data": {
      "text/plain": [
       "event_type   flood_cause                 \n",
       "debris flow  Heavy Rain                       466\n",
       "             Heavy Rain / Burn Area            98\n",
       "             Heavy Rain / Snow Melt             4\n",
       "flash flood  Heavy Rain                      8836\n",
       "             Heavy Rain / Burn Area           555\n",
       "             Heavy Rain / Tropical System      77\n",
       "             Ice Jam                           51\n",
       "             Dam / Levee Break                  9\n",
       "             Heavy Rain / Snow Melt             8\n",
       "flood        Heavy Rain                      6480\n",
       "             Heavy Rain / Snow Melt           348\n",
       "             Ice Jam                           91\n",
       "             Heavy Rain / Tropical System      69\n",
       "             Heavy Rain / Burn Area            16\n",
       "             Planned Dam Release               14\n",
       "             Dam / Levee Break                 10\n",
       "Name: count, dtype: int64"
      ]
     },
     "execution_count": 439,
     "metadata": {},
     "output_type": "execute_result"
    }
   ],
   "source": [
    "# Return a count of 'flood_cause' by 'event_type'\n",
    "storms_2022_df.groupby(\"event_type\")[\"flood_cause\"].value_counts()"
   ]
  },
  {
   "cell_type": "markdown",
   "id": "32c59807",
   "metadata": {},
   "source": [
    "Below, we attempt to associate a `flood_cause` with an `event_type` and store the results in a dictionary which will be used in the subsequent code block in order to replace missing values (even though this will only result in a marginal reduction in missing values - impacting a total of 1,472 records)."
   ]
  },
  {
   "cell_type": "code",
   "execution_count": 440,
   "id": "5a41b140",
   "metadata": {},
   "outputs": [],
   "source": [
    "flood_cause_dict = {\n",
    "    \n",
    "     \"flood\": \"Flood\"\n",
    "    , \"heavy rain\": \"Heavy Rain\"\n",
    "    , \"hurricane\": \"Heavy Rain\"\n",
    "    , \"lakeshore flood\": \"Flood\"\n",
    "    , \"marine hurricane/typhoon\": \"Heavy Rain\"\n",
    "    , \"marine tropical depression\": \"Heavy Rain\"\n",
    "    , \"marine tropical storm\": \"Heavy Rain\"\n",
    "    , \"storm surge\": \"Flood\"\n",
    "    , \"tropical depression\": \"Heavy Rain\"\n",
    "    , \"tropical storm\": \"Heavy Rain\"\n",
    "    , \"tsunami\": \"Flood\"\n",
    "    \n",
    "}"
   ]
  },
  {
   "cell_type": "code",
   "execution_count": 441,
   "id": "f3f4cf76",
   "metadata": {},
   "outputs": [],
   "source": [
    "# Replace missing values within the 'flood_cause' field based on the corresponding 'event_type'\n",
    "storms_2022_df[\"flood_cause\"] = storms_2022_df[\"flood_cause\"].fillna(storms_2022_df[\"event_type\"].map(flood_cause_dict))"
   ]
  },
  {
   "cell_type": "code",
   "execution_count": 442,
   "id": "d81d0c8e",
   "metadata": {},
   "outputs": [
    {
     "data": {
      "text/plain": [
       "64506"
      ]
     },
     "execution_count": 442,
     "metadata": {},
     "output_type": "execute_result"
    }
   ],
   "source": [
    "# Replace all NaN values within the 'flood_cause' field with string value: 'NA'\n",
    "storms_2022_df[\"flood_cause\"] = storms_2022_df[\"flood_cause\"].fillna(\"NA\")\n",
    "\n",
    "# Count the number of occurrence of the string value 'NA'\n",
    "storms_2022_df[\"flood_cause\"][storms_2022_df[\"flood_cause\"] == \"NA\"].count()"
   ]
  },
  {
   "cell_type": "code",
   "execution_count": 443,
   "id": "131619c0",
   "metadata": {},
   "outputs": [
    {
     "data": {
      "text/plain": [
       "episode_id                0\n",
       "event_id                  0\n",
       "state                     0\n",
       "state_fips_code           0\n",
       "event_type                0\n",
       "cz_type                   0\n",
       "cz_fips_code              0\n",
       "cz_name                   0\n",
       "wfo                       0\n",
       "event_begin_time          0\n",
       "event_timezone            0\n",
       "event_end_time            0\n",
       "injuries_direct           0\n",
       "injuries_indirect         0\n",
       "deaths_direct             0\n",
       "deaths_indirect           0\n",
       "damage_property           0\n",
       "damage_crops              0\n",
       "source                    0\n",
       "magnitude             48604\n",
       "magnitude_type        55934\n",
       "flood_cause               0\n",
       "tor_f_scale               0\n",
       "tor_length                0\n",
       "tor_width                 0\n",
       "tor_other_wfo             0\n",
       "location_index        43282\n",
       "event_range               0\n",
       "event_azimuth             0\n",
       "reference_location        0\n",
       "event_latitude            0\n",
       "event_longitude           0\n",
       "event_point               0\n",
       "dtype: int64"
      ]
     },
     "execution_count": 443,
     "metadata": {},
     "output_type": "execute_result"
    }
   ],
   "source": [
    "storms_2022_df.isna().sum()"
   ]
  },
  {
   "cell_type": "markdown",
   "id": "7b7def65",
   "metadata": {},
   "source": [
    "With reference to the definition of the `magnitude` column provided by the data dictionary, it is specified that `magnitude` is only used for wind speeds and hail size. Based on the code block below, it can be noted that each `event_type` (for which there is a corresponding `magniture` value) includes either string value: wind or hail. From this, we can verify if any other missing values within the `magnitude` column are tied to wind or hail events."
   ]
  },
  {
   "cell_type": "code",
   "execution_count": 444,
   "id": "751b8a99",
   "metadata": {},
   "outputs": [
    {
     "data": {
      "text/plain": [
       "event_type\n",
       "thunderstorm wind           18224\n",
       "hail                         7301\n",
       "high wind                    5179\n",
       "marine thunderstorm wind     2592\n",
       "strong wind                  1066\n",
       "marine high wind              109\n",
       "marine hail                    29\n",
       "marine strong wind              6\n",
       "Name: count, dtype: int64"
      ]
     },
     "execution_count": 444,
     "metadata": {},
     "output_type": "execute_result"
    }
   ],
   "source": [
    "# Select all records where 'magnitude' field is not blank and return the value counts for 'event_type'\n",
    "magnitude_df = storms_2022_df[~storms_2022_df[\"magnitude\"].isna()]\n",
    "magnitude_df[\"event_type\"].value_counts()"
   ]
  },
  {
   "cell_type": "markdown",
   "id": "a7219af6",
   "metadata": {},
   "source": [
    "In the subsequent code block, it is confirmed that no null values for `magnitude` are associated with a wind or hail event. As such, the missing values are to be replaced by 0.0:"
   ]
  },
  {
   "cell_type": "code",
   "execution_count": 445,
   "id": "dcfa86f7",
   "metadata": {},
   "outputs": [
    {
     "data": {
      "text/plain": [
       "0"
      ]
     },
     "execution_count": 445,
     "metadata": {},
     "output_type": "execute_result"
    }
   ],
   "source": [
    "magnitude_df[\"magnitude\"].str.contains(\"wind|hail\").sum()"
   ]
  },
  {
   "cell_type": "code",
   "execution_count": 446,
   "id": "df0844a7",
   "metadata": {},
   "outputs": [
    {
     "data": {
      "text/plain": [
       "48604"
      ]
     },
     "execution_count": 446,
     "metadata": {},
     "output_type": "execute_result"
    }
   ],
   "source": [
    "# Replace all NaN values within the 'magnitude' field with float value: 0.0\n",
    "storms_2022_df[\"magnitude\"] = storms_2022_df[\"magnitude\"].fillna(0.0)\n",
    "\n",
    "# Count the number of occurrence of the float value 0.0\n",
    "storms_2022_df[\"magnitude\"][storms_2022_df[\"magnitude\"] == 0.0].count()"
   ]
  },
  {
   "cell_type": "markdown",
   "id": "de02eeef",
   "metadata": {},
   "source": [
    "Lastly, in alignment with the above, we may replace all missing values for `magnitude_type` where `magnitude` is null."
   ]
  },
  {
   "cell_type": "code",
   "execution_count": 447,
   "id": "50df3df9",
   "metadata": {},
   "outputs": [
    {
     "data": {
      "text/plain": [
       "event_type\n",
       "flash flood                   9536\n",
       "hail                          7301\n",
       "flood                         7028\n",
       "drought                       6873\n",
       "winter weather                4762\n",
       "winter storm                  3644\n",
       "heavy snow                    2318\n",
       "tornado                       2125\n",
       "extreme cold/wind chill       1855\n",
       "heat                          1836\n",
       "excessive heat                1236\n",
       "heavy rain                    1132\n",
       "cold/wind chill                992\n",
       "blizzard                       854\n",
       "dense fog                      571\n",
       "debris flow                    568\n",
       "frost/freeze                   423\n",
       "wildfire                       421\n",
       "high surf                      341\n",
       "lightning                      264\n",
       "ice storm                      261\n",
       "dust storm                     238\n",
       "tropical storm                 230\n",
       "waterspout                     228\n",
       "funnel cloud                   212\n",
       "coastal flood                  205\n",
       "lake-effect snow                88\n",
       "rip current                     82\n",
       "marine tropical storm           45\n",
       "astronomical low tide           43\n",
       "sleet                           42\n",
       "storm surge/tide                32\n",
       "marine hail                     29\n",
       "avalanche                       29\n",
       "hurricane                       23\n",
       "tropical depression             22\n",
       "dust devil                      11\n",
       "tsunami                          9\n",
       "lakeshore flood                  4\n",
       "marine dense fog                 4\n",
       "marine hurricane/typhoon         4\n",
       "freezing fog                     3\n",
       "dense smoke                      3\n",
       "marine tropical depression       3\n",
       "seiche                           2\n",
       "sneakerwave                      1\n",
       "volcanic ashfall                 1\n",
       "Name: count, dtype: int64"
      ]
     },
     "execution_count": 447,
     "metadata": {},
     "output_type": "execute_result"
    }
   ],
   "source": [
    "# Retrieve the records with missing 'magnitude_type' values\n",
    "missing_magType_df = storms_2022_df[storms_2022_df[\"magnitude_type\"].isna()]\n",
    "\n",
    "# Filter out those records where 'magnitude' equals 'NA' as we do not expect a 'magnitude_type' value\n",
    "filtered_magType_df = missing_magType_df[(missing_magType_df[\"magnitude\"] != \"NA\")]"
   ]
  },
  {
   "cell_type": "markdown",
   "id": "83ad2cad",
   "metadata": {},
   "source": [
    "Based on the data dictionary definition, \"no magnitude type is included for hail\". As such, we can replace the missing values with \"NA\"."
   ]
  },
  {
   "cell_type": "code",
   "execution_count": 448,
   "id": "669c1ba5",
   "metadata": {},
   "outputs": [
    {
     "data": {
      "text/plain": [
       "55934"
      ]
     },
     "execution_count": 448,
     "metadata": {},
     "output_type": "execute_result"
    }
   ],
   "source": [
    "# Replace all NaN values within the 'magnitude_type' field with string value: 'NA'\n",
    "storms_2022_df[\"magnitude_type\"] = storms_2022_df[\"magnitude_type\"].fillna(\"NA\")\n",
    "\n",
    "# Count the number of occurrence of the string value 'NA'\n",
    "storms_2022_df[\"magnitude_type\"][storms_2022_df[\"magnitude_type\"] == \"NA\"].count()"
   ]
  },
  {
   "cell_type": "markdown",
   "id": "ce5e805f",
   "metadata": {},
   "source": [
    "Following all of the steps above, the dataframe no longer contains any missing values:"
   ]
  },
  {
   "cell_type": "code",
   "execution_count": 449,
   "id": "1c4baa5b",
   "metadata": {},
   "outputs": [
    {
     "data": {
      "text/plain": [
       "episode_id                0\n",
       "event_id                  0\n",
       "state                     0\n",
       "state_fips_code           0\n",
       "event_type                0\n",
       "cz_type                   0\n",
       "cz_fips_code              0\n",
       "cz_name                   0\n",
       "wfo                       0\n",
       "event_begin_time          0\n",
       "event_timezone            0\n",
       "event_end_time            0\n",
       "injuries_direct           0\n",
       "injuries_indirect         0\n",
       "deaths_direct             0\n",
       "deaths_indirect           0\n",
       "damage_property           0\n",
       "damage_crops              0\n",
       "source                    0\n",
       "magnitude                 0\n",
       "magnitude_type            0\n",
       "flood_cause               0\n",
       "tor_f_scale               0\n",
       "tor_length                0\n",
       "tor_width                 0\n",
       "tor_other_wfo             0\n",
       "location_index        43282\n",
       "event_range               0\n",
       "event_azimuth             0\n",
       "reference_location        0\n",
       "event_latitude            0\n",
       "event_longitude           0\n",
       "event_point               0\n",
       "dtype: int64"
      ]
     },
     "execution_count": 449,
     "metadata": {},
     "output_type": "execute_result"
    }
   ],
   "source": [
    "storms_2022_df.isna().sum()"
   ]
  },
  {
   "cell_type": "markdown",
   "id": "5514735b",
   "metadata": {},
   "source": [
    "As a next step in the data cleaning process, the dtypes for each of the fields will be set to the appropriate settings in accordance with the type of data contained within:"
   ]
  },
  {
   "cell_type": "code",
   "execution_count": 450,
   "id": "ce88d829",
   "metadata": {},
   "outputs": [
    {
     "name": "stdout",
     "output_type": "stream",
     "text": [
      "<class 'pandas.core.frame.DataFrame'>\n",
      "RangeIndex: 83110 entries, 0 to 83109\n",
      "Data columns (total 33 columns):\n",
      " #   Column              Non-Null Count  Dtype         \n",
      "---  ------              --------------  -----         \n",
      " 0   episode_id          83110 non-null  object        \n",
      " 1   event_id            83110 non-null  object        \n",
      " 2   state               83110 non-null  object        \n",
      " 3   state_fips_code     83110 non-null  object        \n",
      " 4   event_type          83110 non-null  object        \n",
      " 5   cz_type             83110 non-null  object        \n",
      " 6   cz_fips_code        83110 non-null  object        \n",
      " 7   cz_name             83110 non-null  object        \n",
      " 8   wfo                 83110 non-null  object        \n",
      " 9   event_begin_time    83110 non-null  datetime64[ns]\n",
      " 10  event_timezone      83110 non-null  object        \n",
      " 11  event_end_time      83110 non-null  datetime64[ns]\n",
      " 12  injuries_direct     83110 non-null  object        \n",
      " 13  injuries_indirect   83110 non-null  object        \n",
      " 14  deaths_direct       83110 non-null  object        \n",
      " 15  deaths_indirect     83110 non-null  object        \n",
      " 16  damage_property     83110 non-null  object        \n",
      " 17  damage_crops        83110 non-null  object        \n",
      " 18  source              83110 non-null  object        \n",
      " 19  magnitude           83110 non-null  object        \n",
      " 20  magnitude_type      83110 non-null  object        \n",
      " 21  flood_cause         83110 non-null  object        \n",
      " 22  tor_f_scale         83110 non-null  object        \n",
      " 23  tor_length          83110 non-null  object        \n",
      " 24  tor_width           83110 non-null  object        \n",
      " 25  tor_other_wfo       83110 non-null  object        \n",
      " 26  location_index      39828 non-null  object        \n",
      " 27  event_range         83110 non-null  object        \n",
      " 28  event_azimuth       83110 non-null  object        \n",
      " 29  reference_location  83110 non-null  object        \n",
      " 30  event_latitude      83110 non-null  object        \n",
      " 31  event_longitude     83110 non-null  object        \n",
      " 32  event_point         83110 non-null  object        \n",
      "dtypes: datetime64[ns](2), object(31)\n",
      "memory usage: 20.9+ MB\n"
     ]
    }
   ],
   "source": [
    "storms_2022_df.info()"
   ]
  },
  {
   "cell_type": "code",
   "execution_count": 451,
   "id": "4e7cb63e",
   "metadata": {},
   "outputs": [],
   "source": [
    "dtype = {\n",
    "      \"state_fips_code\": \"int64\"\n",
    "    , \"event_type\": \"category\"\n",
    "    , \"cz_type\": \"category\"\n",
    "    , \"cz_fips_code\": \"int64\"\n",
    "    , \"injuries_direct\": \"int64\"\n",
    "    , \"injuries_indirect\": \"int64\"\n",
    "    , \"deaths_direct\": \"int64\"\n",
    "    , \"deaths_indirect\": \"int64\"\n",
    "    , \"damage_property\": \"int64\"\n",
    "    , \"damage_crops\": \"int64\"\n",
    "    , \"magnitude\": \"float\"\n",
    "    , \"tor_length\": \"float\"\n",
    "    , \"tor_width\": \"float\"\n",
    "    , \"event_range\": \"float\"\n",
    "    , \"event_latitude\": \"float\"\n",
    "    , \"event_longitude\": \"float\"    \n",
    "}\n",
    "\n",
    "storms_2022_df = storms_2022_df.astype(dtype)"
   ]
  },
  {
   "cell_type": "code",
   "execution_count": 452,
   "id": "c06f355a",
   "metadata": {},
   "outputs": [
    {
     "name": "stdout",
     "output_type": "stream",
     "text": [
      "<class 'pandas.core.frame.DataFrame'>\n",
      "RangeIndex: 83110 entries, 0 to 83109\n",
      "Data columns (total 33 columns):\n",
      " #   Column              Non-Null Count  Dtype         \n",
      "---  ------              --------------  -----         \n",
      " 0   episode_id          83110 non-null  object        \n",
      " 1   event_id            83110 non-null  object        \n",
      " 2   state               83110 non-null  object        \n",
      " 3   state_fips_code     83110 non-null  int64         \n",
      " 4   event_type          83110 non-null  category      \n",
      " 5   cz_type             83110 non-null  category      \n",
      " 6   cz_fips_code        83110 non-null  int64         \n",
      " 7   cz_name             83110 non-null  object        \n",
      " 8   wfo                 83110 non-null  object        \n",
      " 9   event_begin_time    83110 non-null  datetime64[ns]\n",
      " 10  event_timezone      83110 non-null  object        \n",
      " 11  event_end_time      83110 non-null  datetime64[ns]\n",
      " 12  injuries_direct     83110 non-null  int64         \n",
      " 13  injuries_indirect   83110 non-null  int64         \n",
      " 14  deaths_direct       83110 non-null  int64         \n",
      " 15  deaths_indirect     83110 non-null  int64         \n",
      " 16  damage_property     83110 non-null  int64         \n",
      " 17  damage_crops        83110 non-null  int64         \n",
      " 18  source              83110 non-null  object        \n",
      " 19  magnitude           83110 non-null  float64       \n",
      " 20  magnitude_type      83110 non-null  object        \n",
      " 21  flood_cause         83110 non-null  object        \n",
      " 22  tor_f_scale         83110 non-null  object        \n",
      " 23  tor_length          83110 non-null  float64       \n",
      " 24  tor_width           83110 non-null  float64       \n",
      " 25  tor_other_wfo       83110 non-null  object        \n",
      " 26  location_index      39828 non-null  object        \n",
      " 27  event_range         83110 non-null  float64       \n",
      " 28  event_azimuth       83110 non-null  object        \n",
      " 29  reference_location  83110 non-null  object        \n",
      " 30  event_latitude      83110 non-null  float64       \n",
      " 31  event_longitude     83110 non-null  float64       \n",
      " 32  event_point         83110 non-null  object        \n",
      "dtypes: category(2), datetime64[ns](2), float64(6), int64(8), object(15)\n",
      "memory usage: 19.8+ MB\n"
     ]
    }
   ],
   "source": [
    "storms_2022_df.info()"
   ]
  },
  {
   "cell_type": "markdown",
   "id": "ac8e8bac",
   "metadata": {},
   "source": [
    "### Exploratory Data Analysis\n",
    "<a id = \"noaa_eda\"></a>\n",
    "\n",
    "TODO: Add introduction"
   ]
  },
  {
   "cell_type": "markdown",
   "id": "353814d1",
   "metadata": {},
   "source": [
    "#### Top 5: Most Frequent Severe Weather Event Types (2022)"
   ]
  },
  {
   "cell_type": "code",
   "execution_count": 559,
   "id": "3e82e2aa",
   "metadata": {
    "scrolled": true
   },
   "outputs": [
    {
     "data": {
      "text/plain": [
       "Index(['Thunderstorm Wind', 'Flash Flood', 'Hail', 'Flood', 'Drought'], dtype='object', name='event_type')"
      ]
     },
     "execution_count": 559,
     "metadata": {},
     "output_type": "execute_result"
    }
   ],
   "source": [
    "# Return the occurrence of the top 5 most frequent severe weather events\n",
    "most_frequent_events_2022 = storms_2022_df.groupby(\"event_type\")[\"episode_id\"].count().sort_values(ascending = False).head()\n",
    "most_frequent_events_2022"
   ]
  },
  {
   "cell_type": "code",
   "execution_count": 563,
   "id": "b2095b32",
   "metadata": {},
   "outputs": [
    {
     "name": "stderr",
     "output_type": "stream",
     "text": [
      "C:\\Users\\arnau\\AppData\\Local\\Temp\\ipykernel_37328\\1909047456.py:4: FutureWarning:\n",
      "\n",
      "Series.__getitem__ treating keys as positions is deprecated. In a future version, integer keys will always be treated as labels (consistent with DataFrame behavior). To access a value by position, use `ser.iloc[pos]`\n",
      "\n"
     ]
    },
    {
     "data": {
      "image/png": "[encoded data removed]",
      "text/plain": [
       "<Figure size 800x600 with 1 Axes>"
      ]
     },
     "metadata": {},
     "output_type": "display_data"
    }
   ],
   "source": [
    "# define a function to include data labels\n",
    "def add_data_labels(x,y):\n",
    "    for i, val in enumerate(x):\n",
    "        plt.text(i, y[i], y[i], ha = 'center')  \n",
    "\n",
    "# Graph presets\n",
    "plt.figure(figsize = (8, 6)) # set plot width and height\n",
    "\n",
    "# Graph data\n",
    "plt.bar(most_frequent_events_2022.index.str.title(),\n",
    "        most_frequent_events_2022.values)\n",
    "\n",
    "# Graph settings\n",
    "plt.xlabel(\"Weather Event Type\", fontsize = 12) # set x-axis label\n",
    "plt.ylabel(\"Number of Episodes\", fontsize = 12) # set y-axis label\n",
    "\n",
    "add_data_labels(most_frequent_events_2022.index, # add the data labels\n",
    "                most_frequent_events_2022)\n",
    "\n",
    "plt.xticks(fontsize = 10) # set x-tick size\n",
    "plt.yticks(fontsize = 10) # set y-tick size\n",
    "\n",
    "plt.title(\"Top 5: Most Frequent Severe Weather Event Types (2022)\", fontsize = 12) # set graph title\n",
    "\n",
    "# Display graph\n",
    "plt.show()"
   ]
  },
  {
   "cell_type": "markdown",
   "id": "eaba3386",
   "metadata": {},
   "source": [
    "#### Number of Severe Weather Events by State (2022)"
   ]
  },
  {
   "cell_type": "code",
   "execution_count": 456,
   "id": "09fa9301",
   "metadata": {},
   "outputs": [
    {
     "data": {
      "text/html": [
       "<div>\n",
       "<style scoped>\n",
       "    .dataframe tbody tr th:only-of-type {\n",
       "        vertical-align: middle;\n",
       "    }\n",
       "\n",
       "    .dataframe tbody tr th {\n",
       "        vertical-align: top;\n",
       "    }\n",
       "\n",
       "    .dataframe thead th {\n",
       "        text-align: right;\n",
       "    }\n",
       "</style>\n",
       "<table border=\"1\" class=\"dataframe\">\n",
       "  <thead>\n",
       "    <tr style=\"text-align: right;\">\n",
       "      <th></th>\n",
       "      <th>state_fips_code</th>\n",
       "      <th>num_severe_weather_events</th>\n",
       "    </tr>\n",
       "  </thead>\n",
       "  <tbody>\n",
       "    <tr>\n",
       "      <th>0</th>\n",
       "      <td>1</td>\n",
       "      <td>1443</td>\n",
       "    </tr>\n",
       "    <tr>\n",
       "      <th>1</th>\n",
       "      <td>2</td>\n",
       "      <td>410</td>\n",
       "    </tr>\n",
       "    <tr>\n",
       "      <th>2</th>\n",
       "      <td>4</td>\n",
       "      <td>1561</td>\n",
       "    </tr>\n",
       "    <tr>\n",
       "      <th>3</th>\n",
       "      <td>5</td>\n",
       "      <td>2061</td>\n",
       "    </tr>\n",
       "    <tr>\n",
       "      <th>4</th>\n",
       "      <td>6</td>\n",
       "      <td>3358</td>\n",
       "    </tr>\n",
       "    <tr>\n",
       "      <th>...</th>\n",
       "      <td>...</td>\n",
       "      <td>...</td>\n",
       "    </tr>\n",
       "    <tr>\n",
       "      <th>61</th>\n",
       "      <td>95</td>\n",
       "      <td>93</td>\n",
       "    </tr>\n",
       "    <tr>\n",
       "      <th>62</th>\n",
       "      <td>96</td>\n",
       "      <td>9</td>\n",
       "    </tr>\n",
       "    <tr>\n",
       "      <th>63</th>\n",
       "      <td>97</td>\n",
       "      <td>38</td>\n",
       "    </tr>\n",
       "    <tr>\n",
       "      <th>64</th>\n",
       "      <td>98</td>\n",
       "      <td>36</td>\n",
       "    </tr>\n",
       "    <tr>\n",
       "      <th>65</th>\n",
       "      <td>99</td>\n",
       "      <td>1016</td>\n",
       "    </tr>\n",
       "  </tbody>\n",
       "</table>\n",
       "<p>66 rows × 2 columns</p>\n",
       "</div>"
      ],
      "text/plain": [
       "    state_fips_code  num_severe_weather_events\n",
       "0                 1                       1443\n",
       "1                 2                        410\n",
       "2                 4                       1561\n",
       "3                 5                       2061\n",
       "4                 6                       3358\n",
       "..              ...                        ...\n",
       "61               95                         93\n",
       "62               96                          9\n",
       "63               97                         38\n",
       "64               98                         36\n",
       "65               99                       1016\n",
       "\n",
       "[66 rows x 2 columns]"
      ]
     },
     "execution_count": 456,
     "metadata": {},
     "output_type": "execute_result"
    }
   ],
   "source": [
    "# Count the number of severe weather events by 'state_fips_code'\n",
    "storm_count_by_state_code_df = pd.DataFrame(storms_2022_df.groupby(\"state_fips_code\")[\"episode_id\"].count())\n",
    "storm_count_by_state_code_df.reset_index(inplace = True)\n",
    "\n",
    "# Rename the 'episode_id' column\n",
    "storm_count_by_state_code_df.rename(columns={\"episode_id\": \"num_severe_weather_events\"}, inplace = True)\n",
    "storm_count_by_state_code_df"
   ]
  },
  {
   "cell_type": "code",
   "execution_count": 457,
   "id": "cc034949",
   "metadata": {},
   "outputs": [],
   "source": [
    "# Create a dictionary to convert 'state_fips_codes' to their respective abbreviation\n",
    "# in order to create a Plotly Choropleth map\n",
    "fips_state_abbrv_dict = {\n",
    "      2: \"AK\"\n",
    "    , 1: \"AL\"\n",
    "    , 5: \"AR\"\n",
    "    , 60: \"AS\"\n",
    "    , 4: \"AZ\"\n",
    "    , 6: \"CA\"\n",
    "    , 8: \"CO\"\n",
    "    , 9: \"CT\"\n",
    "    , 11: \"DC\"\n",
    "    , 10: \"DE\"\n",
    "    , 12: \"FL\"\n",
    "    , 13: \"GA\"\n",
    "    , 66: \"GU\"\n",
    "    , 15: \"HI\"\n",
    "    , 19: \"IA\"\n",
    "    , 16: \"ID\"\n",
    "    , 17: \"IL\"\n",
    "    , 18: \"IN\"\n",
    "    , 20: \"KS\"\n",
    "    , 21: \"KY\"\n",
    "    , 22: \"LA\"\n",
    "    , 25: \"MA\"\n",
    "    , 24: \"MD\"\n",
    "    , 23: \"ME\"\n",
    "    , 26: \"MI\"\n",
    "    , 27: \"MN\"\n",
    "    , 29: \"MO\"\n",
    "    , 28: \"MS\"\n",
    "    , 30: \"MT\"\n",
    "    , 37: \"NC\"\n",
    "    , 38: \"ND\"\n",
    "    , 31: \"NE\"\n",
    "    , 33: \"NH\"\n",
    "    , 34: \"NJ\"\n",
    "    , 35: \"NM\"\n",
    "    , 32: \"NV\"\n",
    "    , 36: \"NY\"\n",
    "    , 39: \"OH\"\n",
    "    , 40: \"OK\"\n",
    "    , 41: \"OR\"\n",
    "    , 42: \"PA\"\n",
    "    , 72: \"PR\"\n",
    "    , 44: \"RI\"\n",
    "    , 45: \"SC\"\n",
    "    , 46: \"SD\"\n",
    "    , 47: \"TN\"\n",
    "    , 48: \"TX\"\n",
    "    , 49: \"UT\"\n",
    "    , 51: \"VA\"\n",
    "    , 78: \"VI\"\n",
    "    , 50: \"VT\"\n",
    "    , 53: \"WA\"\n",
    "    , 55: \"WI\"\n",
    "    , 54: \"WV\"\n",
    "    , 56: \"WY\"\n",
    "    }"
   ]
  },
  {
   "cell_type": "code",
   "execution_count": 458,
   "id": "03583710",
   "metadata": {
    "scrolled": true
   },
   "outputs": [
    {
     "data": {
      "text/html": [
       "<div>\n",
       "<style scoped>\n",
       "    .dataframe tbody tr th:only-of-type {\n",
       "        vertical-align: middle;\n",
       "    }\n",
       "\n",
       "    .dataframe tbody tr th {\n",
       "        vertical-align: top;\n",
       "    }\n",
       "\n",
       "    .dataframe thead th {\n",
       "        text-align: right;\n",
       "    }\n",
       "</style>\n",
       "<table border=\"1\" class=\"dataframe\">\n",
       "  <thead>\n",
       "    <tr style=\"text-align: right;\">\n",
       "      <th></th>\n",
       "      <th>state_fips_code</th>\n",
       "      <th>num_severe_weather_events</th>\n",
       "      <th>state</th>\n",
       "    </tr>\n",
       "  </thead>\n",
       "  <tbody>\n",
       "    <tr>\n",
       "      <th>0</th>\n",
       "      <td>1</td>\n",
       "      <td>1443</td>\n",
       "      <td>AL</td>\n",
       "    </tr>\n",
       "    <tr>\n",
       "      <th>1</th>\n",
       "      <td>2</td>\n",
       "      <td>410</td>\n",
       "      <td>AK</td>\n",
       "    </tr>\n",
       "    <tr>\n",
       "      <th>2</th>\n",
       "      <td>4</td>\n",
       "      <td>1561</td>\n",
       "      <td>AZ</td>\n",
       "    </tr>\n",
       "    <tr>\n",
       "      <th>3</th>\n",
       "      <td>5</td>\n",
       "      <td>2061</td>\n",
       "      <td>AR</td>\n",
       "    </tr>\n",
       "    <tr>\n",
       "      <th>4</th>\n",
       "      <td>6</td>\n",
       "      <td>3358</td>\n",
       "      <td>CA</td>\n",
       "    </tr>\n",
       "    <tr>\n",
       "      <th>5</th>\n",
       "      <td>8</td>\n",
       "      <td>1905</td>\n",
       "      <td>CO</td>\n",
       "    </tr>\n",
       "    <tr>\n",
       "      <th>6</th>\n",
       "      <td>9</td>\n",
       "      <td>233</td>\n",
       "      <td>CT</td>\n",
       "    </tr>\n",
       "    <tr>\n",
       "      <th>7</th>\n",
       "      <td>10</td>\n",
       "      <td>103</td>\n",
       "      <td>DE</td>\n",
       "    </tr>\n",
       "    <tr>\n",
       "      <th>8</th>\n",
       "      <td>11</td>\n",
       "      <td>121</td>\n",
       "      <td>DC</td>\n",
       "    </tr>\n",
       "    <tr>\n",
       "      <th>9</th>\n",
       "      <td>12</td>\n",
       "      <td>1710</td>\n",
       "      <td>FL</td>\n",
       "    </tr>\n",
       "    <tr>\n",
       "      <th>10</th>\n",
       "      <td>13</td>\n",
       "      <td>1262</td>\n",
       "      <td>GA</td>\n",
       "    </tr>\n",
       "    <tr>\n",
       "      <th>11</th>\n",
       "      <td>15</td>\n",
       "      <td>742</td>\n",
       "      <td>HI</td>\n",
       "    </tr>\n",
       "    <tr>\n",
       "      <th>12</th>\n",
       "      <td>16</td>\n",
       "      <td>627</td>\n",
       "      <td>ID</td>\n",
       "    </tr>\n",
       "    <tr>\n",
       "      <th>13</th>\n",
       "      <td>17</td>\n",
       "      <td>2732</td>\n",
       "      <td>IL</td>\n",
       "    </tr>\n",
       "    <tr>\n",
       "      <th>14</th>\n",
       "      <td>18</td>\n",
       "      <td>1460</td>\n",
       "      <td>IN</td>\n",
       "    </tr>\n",
       "    <tr>\n",
       "      <th>15</th>\n",
       "      <td>19</td>\n",
       "      <td>1568</td>\n",
       "      <td>IA</td>\n",
       "    </tr>\n",
       "    <tr>\n",
       "      <th>16</th>\n",
       "      <td>20</td>\n",
       "      <td>2520</td>\n",
       "      <td>KS</td>\n",
       "    </tr>\n",
       "    <tr>\n",
       "      <th>17</th>\n",
       "      <td>21</td>\n",
       "      <td>2803</td>\n",
       "      <td>KY</td>\n",
       "    </tr>\n",
       "    <tr>\n",
       "      <th>18</th>\n",
       "      <td>22</td>\n",
       "      <td>1144</td>\n",
       "      <td>LA</td>\n",
       "    </tr>\n",
       "    <tr>\n",
       "      <th>19</th>\n",
       "      <td>23</td>\n",
       "      <td>522</td>\n",
       "      <td>ME</td>\n",
       "    </tr>\n",
       "    <tr>\n",
       "      <th>20</th>\n",
       "      <td>24</td>\n",
       "      <td>1390</td>\n",
       "      <td>MD</td>\n",
       "    </tr>\n",
       "    <tr>\n",
       "      <th>21</th>\n",
       "      <td>25</td>\n",
       "      <td>555</td>\n",
       "      <td>MA</td>\n",
       "    </tr>\n",
       "    <tr>\n",
       "      <th>22</th>\n",
       "      <td>26</td>\n",
       "      <td>887</td>\n",
       "      <td>MI</td>\n",
       "    </tr>\n",
       "    <tr>\n",
       "      <th>23</th>\n",
       "      <td>27</td>\n",
       "      <td>2952</td>\n",
       "      <td>MN</td>\n",
       "    </tr>\n",
       "    <tr>\n",
       "      <th>24</th>\n",
       "      <td>28</td>\n",
       "      <td>1598</td>\n",
       "      <td>MS</td>\n",
       "    </tr>\n",
       "    <tr>\n",
       "      <th>25</th>\n",
       "      <td>29</td>\n",
       "      <td>2779</td>\n",
       "      <td>MO</td>\n",
       "    </tr>\n",
       "    <tr>\n",
       "      <th>26</th>\n",
       "      <td>30</td>\n",
       "      <td>1946</td>\n",
       "      <td>MT</td>\n",
       "    </tr>\n",
       "    <tr>\n",
       "      <th>27</th>\n",
       "      <td>31</td>\n",
       "      <td>2259</td>\n",
       "      <td>NE</td>\n",
       "    </tr>\n",
       "    <tr>\n",
       "      <th>28</th>\n",
       "      <td>32</td>\n",
       "      <td>745</td>\n",
       "      <td>NV</td>\n",
       "    </tr>\n",
       "    <tr>\n",
       "      <th>29</th>\n",
       "      <td>33</td>\n",
       "      <td>393</td>\n",
       "      <td>NH</td>\n",
       "    </tr>\n",
       "    <tr>\n",
       "      <th>30</th>\n",
       "      <td>34</td>\n",
       "      <td>591</td>\n",
       "      <td>NJ</td>\n",
       "    </tr>\n",
       "    <tr>\n",
       "      <th>31</th>\n",
       "      <td>35</td>\n",
       "      <td>1681</td>\n",
       "      <td>NM</td>\n",
       "    </tr>\n",
       "    <tr>\n",
       "      <th>32</th>\n",
       "      <td>36</td>\n",
       "      <td>2229</td>\n",
       "      <td>NY</td>\n",
       "    </tr>\n",
       "    <tr>\n",
       "      <th>33</th>\n",
       "      <td>37</td>\n",
       "      <td>1856</td>\n",
       "      <td>NC</td>\n",
       "    </tr>\n",
       "    <tr>\n",
       "      <th>34</th>\n",
       "      <td>38</td>\n",
       "      <td>1528</td>\n",
       "      <td>ND</td>\n",
       "    </tr>\n",
       "    <tr>\n",
       "      <th>35</th>\n",
       "      <td>39</td>\n",
       "      <td>2081</td>\n",
       "      <td>OH</td>\n",
       "    </tr>\n",
       "    <tr>\n",
       "      <th>36</th>\n",
       "      <td>40</td>\n",
       "      <td>2311</td>\n",
       "      <td>OK</td>\n",
       "    </tr>\n",
       "    <tr>\n",
       "      <th>37</th>\n",
       "      <td>41</td>\n",
       "      <td>403</td>\n",
       "      <td>OR</td>\n",
       "    </tr>\n",
       "    <tr>\n",
       "      <th>38</th>\n",
       "      <td>42</td>\n",
       "      <td>1658</td>\n",
       "      <td>PA</td>\n",
       "    </tr>\n",
       "    <tr>\n",
       "      <th>39</th>\n",
       "      <td>44</td>\n",
       "      <td>119</td>\n",
       "      <td>RI</td>\n",
       "    </tr>\n",
       "    <tr>\n",
       "      <th>40</th>\n",
       "      <td>45</td>\n",
       "      <td>1297</td>\n",
       "      <td>SC</td>\n",
       "    </tr>\n",
       "    <tr>\n",
       "      <th>41</th>\n",
       "      <td>46</td>\n",
       "      <td>2836</td>\n",
       "      <td>SD</td>\n",
       "    </tr>\n",
       "    <tr>\n",
       "      <th>42</th>\n",
       "      <td>47</td>\n",
       "      <td>1937</td>\n",
       "      <td>TN</td>\n",
       "    </tr>\n",
       "    <tr>\n",
       "      <th>43</th>\n",
       "      <td>48</td>\n",
       "      <td>6067</td>\n",
       "      <td>TX</td>\n",
       "    </tr>\n",
       "    <tr>\n",
       "      <th>44</th>\n",
       "      <td>49</td>\n",
       "      <td>746</td>\n",
       "      <td>UT</td>\n",
       "    </tr>\n",
       "    <tr>\n",
       "      <th>45</th>\n",
       "      <td>50</td>\n",
       "      <td>388</td>\n",
       "      <td>VT</td>\n",
       "    </tr>\n",
       "    <tr>\n",
       "      <th>46</th>\n",
       "      <td>51</td>\n",
       "      <td>2742</td>\n",
       "      <td>VA</td>\n",
       "    </tr>\n",
       "    <tr>\n",
       "      <th>47</th>\n",
       "      <td>53</td>\n",
       "      <td>603</td>\n",
       "      <td>WA</td>\n",
       "    </tr>\n",
       "    <tr>\n",
       "      <th>48</th>\n",
       "      <td>54</td>\n",
       "      <td>1727</td>\n",
       "      <td>WV</td>\n",
       "    </tr>\n",
       "    <tr>\n",
       "      <th>49</th>\n",
       "      <td>55</td>\n",
       "      <td>1457</td>\n",
       "      <td>WI</td>\n",
       "    </tr>\n",
       "    <tr>\n",
       "      <th>50</th>\n",
       "      <td>56</td>\n",
       "      <td>945</td>\n",
       "      <td>WY</td>\n",
       "    </tr>\n",
       "  </tbody>\n",
       "</table>\n",
       "</div>"
      ],
      "text/plain": [
       "    state_fips_code  num_severe_weather_events state\n",
       "0                 1                       1443    AL\n",
       "1                 2                        410    AK\n",
       "2                 4                       1561    AZ\n",
       "3                 5                       2061    AR\n",
       "4                 6                       3358    CA\n",
       "5                 8                       1905    CO\n",
       "6                 9                        233    CT\n",
       "7                10                        103    DE\n",
       "8                11                        121    DC\n",
       "9                12                       1710    FL\n",
       "10               13                       1262    GA\n",
       "11               15                        742    HI\n",
       "12               16                        627    ID\n",
       "13               17                       2732    IL\n",
       "14               18                       1460    IN\n",
       "15               19                       1568    IA\n",
       "16               20                       2520    KS\n",
       "17               21                       2803    KY\n",
       "18               22                       1144    LA\n",
       "19               23                        522    ME\n",
       "20               24                       1390    MD\n",
       "21               25                        555    MA\n",
       "22               26                        887    MI\n",
       "23               27                       2952    MN\n",
       "24               28                       1598    MS\n",
       "25               29                       2779    MO\n",
       "26               30                       1946    MT\n",
       "27               31                       2259    NE\n",
       "28               32                        745    NV\n",
       "29               33                        393    NH\n",
       "30               34                        591    NJ\n",
       "31               35                       1681    NM\n",
       "32               36                       2229    NY\n",
       "33               37                       1856    NC\n",
       "34               38                       1528    ND\n",
       "35               39                       2081    OH\n",
       "36               40                       2311    OK\n",
       "37               41                        403    OR\n",
       "38               42                       1658    PA\n",
       "39               44                        119    RI\n",
       "40               45                       1297    SC\n",
       "41               46                       2836    SD\n",
       "42               47                       1937    TN\n",
       "43               48                       6067    TX\n",
       "44               49                        746    UT\n",
       "45               50                        388    VT\n",
       "46               51                       2742    VA\n",
       "47               53                        603    WA\n",
       "48               54                       1727    WV\n",
       "49               55                       1457    WI\n",
       "50               56                        945    WY"
      ]
     },
     "execution_count": 458,
     "metadata": {},
     "output_type": "execute_result"
    }
   ],
   "source": [
    "# Create a new 'state' field based on the 'state_fips_code'\n",
    "storm_count_by_state_code_df[\"state\"] = storm_count_by_state_code_df[\"state_fips_code\"].map(fips_state_abbrv_dict)\n",
    "\n",
    "# Filter out those records for which there is no corresponding abbreviation\n",
    "storm_count_by_state_code_df = storm_count_by_state_code_df[~storm_count_by_state_code_df[\"state\"].isna()]\n",
    "storm_count_by_state_code_df"
   ]
  },
  {
   "cell_type": "code",
   "execution_count": 574,
   "id": "e75ce141",
   "metadata": {},
   "outputs": [
    {
     "data": {
      "application/vnd.plotly.v1+json": {
       "config": {
        "plotlyServerURL": "https://plot.ly"
       },
       "data": [
        {
         "coloraxis": "coloraxis",
         "geo": "geo",
         "hovertemplate": "state=%{location}<br>Number of Severe Weather Events=%{z}<extra></extra>",
         "locationmode": "USA-states",
         "locations": [
          "AL",
          "AK",
          "AZ",
          "AR",
          "CA",
          "CO",
          "CT",
          "DE",
          "DC",
          "FL",
          "GA",
          "HI",
          "ID",
          "IL",
          "IN",
          "IA",
          "KS",
          "KY",
          "LA",
          "ME",
          "MD",
          "MA",
          "MI",
          "MN",
          "MS",
          "MO",
          "MT",
          "NE",
          "NV",
          "NH",
          "NJ",
          "NM",
          "NY",
          "NC",
          "ND",
          "OH",
          "OK",
          "OR",
          "PA",
          "RI",
          "SC",
          "SD",
          "TN",
          "TX",
          "UT",
          "VT",
          "VA",
          "WA",
          "WV",
          "WI",
          "WY"
         ],
         "name": "",
         "type": "choropleth",
         "z": [
          1443,
          410,
          1561,
          2061,
          3358,
          1905,
          233,
          103,
          121,
          1710,
          1262,
          742,
          627,
          2732,
          1460,
          1568,
          2520,
          2803,
          1144,
          522,
          1390,
          555,
          887,
          2952,
          1598,
          2779,
          1946,
          2259,
          745,
          393,
          591,
          1681,
          2229,
          1856,
          1528,
          2081,
          2311,
          403,
          1658,
          119,
          1297,
          2836,
          1937,
          6067,
          746,
          388,
          2742,
          603,
          1727,
          1457,
          945
         ]
        }
       ],
       "layout": {
        "coloraxis": {
         "colorbar": {
          "title": {
           "text": "Number of Severe Weather Events"
          }
         },
         "colorscale": [
          [
           0,
           "#440154"
          ],
          [
           0.1111111111111111,
           "#482878"
          ],
          [
           0.2222222222222222,
           "#3e4989"
          ],
          [
           0.3333333333333333,
           "#31688e"
          ],
          [
           0.4444444444444444,
           "#26828e"
          ],
          [
           0.5555555555555556,
           "#1f9e89"
          ],
          [
           0.6666666666666666,
           "#35b779"
          ],
          [
           0.7777777777777778,
           "#6ece58"
          ],
          [
           0.8888888888888888,
           "#b5de2b"
          ],
          [
           1,
           "#fde725"
          ]
         ]
        },
        "geo": {
         "center": {},
         "domain": {
          "x": [
           0,
           1
          ],
          "y": [
           0,
           1
          ]
         },
         "scope": "usa"
        },
        "legend": {
         "tracegroupgap": 0
        },
        "margin": {
         "t": 60
        },
        "template": {
         "data": {
          "bar": [
           {
            "error_x": {
             "color": "#2a3f5f"
            },
            "error_y": {
             "color": "#2a3f5f"
            },
            "marker": {
             "line": {
              "color": "#E5ECF6",
              "width": 0.5
             },
             "pattern": {
              "fillmode": "overlay",
              "size": 10,
              "solidity": 0.2
             }
            },
            "type": "bar"
           }
          ],
          "barpolar": [
           {
            "marker": {
             "line": {
              "color": "#E5ECF6",
              "width": 0.5
             },
             "pattern": {
              "fillmode": "overlay",
              "size": 10,
              "solidity": 0.2
             }
            },
            "type": "barpolar"
           }
          ],
          "carpet": [
           {
            "aaxis": {
             "endlinecolor": "#2a3f5f",
             "gridcolor": "white",
             "linecolor": "white",
             "minorgridcolor": "white",
             "startlinecolor": "#2a3f5f"
            },
            "baxis": {
             "endlinecolor": "#2a3f5f",
             "gridcolor": "white",
             "linecolor": "white",
             "minorgridcolor": "white",
             "startlinecolor": "#2a3f5f"
            },
            "type": "carpet"
           }
          ],
          "choropleth": [
           {
            "colorbar": {
             "outlinewidth": 0,
             "ticks": ""
            },
            "type": "choropleth"
           }
          ],
          "contour": [
           {
            "colorbar": {
             "outlinewidth": 0,
             "ticks": ""
            },
            "colorscale": [
             [
              0,
              "#0d0887"
             ],
             [
              0.1111111111111111,
              "#46039f"
             ],
             [
              0.2222222222222222,
              "#7201a8"
             ],
             [
              0.3333333333333333,
              "#9c179e"
             ],
             [
              0.4444444444444444,
              "#bd3786"
             ],
             [
              0.5555555555555556,
              "#d8576b"
             ],
             [
              0.6666666666666666,
              "#ed7953"
             ],
             [
              0.7777777777777778,
              "#fb9f3a"
             ],
             [
              0.8888888888888888,
              "#fdca26"
             ],
             [
              1,
              "#f0f921"
             ]
            ],
            "type": "contour"
           }
          ],
          "contourcarpet": [
           {
            "colorbar": {
             "outlinewidth": 0,
             "ticks": ""
            },
            "type": "contourcarpet"
           }
          ],
          "heatmap": [
           {
            "colorbar": {
             "outlinewidth": 0,
             "ticks": ""
            },
            "colorscale": [
             [
              0,
              "#0d0887"
             ],
             [
              0.1111111111111111,
              "#46039f"
             ],
             [
              0.2222222222222222,
              "#7201a8"
             ],
             [
              0.3333333333333333,
              "#9c179e"
             ],
             [
              0.4444444444444444,
              "#bd3786"
             ],
             [
              0.5555555555555556,
              "#d8576b"
             ],
             [
              0.6666666666666666,
              "#ed7953"
             ],
             [
              0.7777777777777778,
              "#fb9f3a"
             ],
             [
              0.8888888888888888,
              "#fdca26"
             ],
             [
              1,
              "#f0f921"
             ]
            ],
            "type": "heatmap"
           }
          ],
          "heatmapgl": [
           {
            "colorbar": {
             "outlinewidth": 0,
             "ticks": ""
            },
            "colorscale": [
             [
              0,
              "#0d0887"
             ],
             [
              0.1111111111111111,
              "#46039f"
             ],
             [
              0.2222222222222222,
              "#7201a8"
             ],
             [
              0.3333333333333333,
              "#9c179e"
             ],
             [
              0.4444444444444444,
              "#bd3786"
             ],
             [
              0.5555555555555556,
              "#d8576b"
             ],
             [
              0.6666666666666666,
              "#ed7953"
             ],
             [
              0.7777777777777778,
              "#fb9f3a"
             ],
             [
              0.8888888888888888,
              "#fdca26"
             ],
             [
              1,
              "#f0f921"
             ]
            ],
            "type": "heatmapgl"
           }
          ],
          "histogram": [
           {
            "marker": {
             "pattern": {
              "fillmode": "overlay",
              "size": 10,
              "solidity": 0.2
             }
            },
            "type": "histogram"
           }
          ],
          "histogram2d": [
           {
            "colorbar": {
             "outlinewidth": 0,
             "ticks": ""
            },
            "colorscale": [
             [
              0,
              "#0d0887"
             ],
             [
              0.1111111111111111,
              "#46039f"
             ],
             [
              0.2222222222222222,
              "#7201a8"
             ],
             [
              0.3333333333333333,
              "#9c179e"
             ],
             [
              0.4444444444444444,
              "#bd3786"
             ],
             [
              0.5555555555555556,
              "#d8576b"
             ],
             [
              0.6666666666666666,
              "#ed7953"
             ],
             [
              0.7777777777777778,
              "#fb9f3a"
             ],
             [
              0.8888888888888888,
              "#fdca26"
             ],
             [
              1,
              "#f0f921"
             ]
            ],
            "type": "histogram2d"
           }
          ],
          "histogram2dcontour": [
           {
            "colorbar": {
             "outlinewidth": 0,
             "ticks": ""
            },
            "colorscale": [
             [
              0,
              "#0d0887"
             ],
             [
              0.1111111111111111,
              "#46039f"
             ],
             [
              0.2222222222222222,
              "#7201a8"
             ],
             [
              0.3333333333333333,
              "#9c179e"
             ],
             [
              0.4444444444444444,
              "#bd3786"
             ],
             [
              0.5555555555555556,
              "#d8576b"
             ],
             [
              0.6666666666666666,
              "#ed7953"
             ],
             [
              0.7777777777777778,
              "#fb9f3a"
             ],
             [
              0.8888888888888888,
              "#fdca26"
             ],
             [
              1,
              "#f0f921"
             ]
            ],
            "type": "histogram2dcontour"
           }
          ],
          "mesh3d": [
           {
            "colorbar": {
             "outlinewidth": 0,
             "ticks": ""
            },
            "type": "mesh3d"
           }
          ],
          "parcoords": [
           {
            "line": {
             "colorbar": {
              "outlinewidth": 0,
              "ticks": ""
             }
            },
            "type": "parcoords"
           }
          ],
          "pie": [
           {
            "automargin": true,
            "type": "pie"
           }
          ],
          "scatter": [
           {
            "fillpattern": {
             "fillmode": "overlay",
             "size": 10,
             "solidity": 0.2
            },
            "type": "scatter"
           }
          ],
          "scatter3d": [
           {
            "line": {
             "colorbar": {
              "outlinewidth": 0,
              "ticks": ""
             }
            },
            "marker": {
             "colorbar": {
              "outlinewidth": 0,
              "ticks": ""
             }
            },
            "type": "scatter3d"
           }
          ],
          "scattercarpet": [
           {
            "marker": {
             "colorbar": {
              "outlinewidth": 0,
              "ticks": ""
             }
            },
            "type": "scattercarpet"
           }
          ],
          "scattergeo": [
           {
            "marker": {
             "colorbar": {
              "outlinewidth": 0,
              "ticks": ""
             }
            },
            "type": "scattergeo"
           }
          ],
          "scattergl": [
           {
            "marker": {
             "colorbar": {
              "outlinewidth": 0,
              "ticks": ""
             }
            },
            "type": "scattergl"
           }
          ],
          "scattermapbox": [
           {
            "marker": {
             "colorbar": {
              "outlinewidth": 0,
              "ticks": ""
             }
            },
            "type": "scattermapbox"
           }
          ],
          "scatterpolar": [
           {
            "marker": {
             "colorbar": {
              "outlinewidth": 0,
              "ticks": ""
             }
            },
            "type": "scatterpolar"
           }
          ],
          "scatterpolargl": [
           {
            "marker": {
             "colorbar": {
              "outlinewidth": 0,
              "ticks": ""
             }
            },
            "type": "scatterpolargl"
           }
          ],
          "scatterternary": [
           {
            "marker": {
             "colorbar": {
              "outlinewidth": 0,
              "ticks": ""
             }
            },
            "type": "scatterternary"
           }
          ],
          "surface": [
           {
            "colorbar": {
             "outlinewidth": 0,
             "ticks": ""
            },
            "colorscale": [
             [
              0,
              "#0d0887"
             ],
             [
              0.1111111111111111,
              "#46039f"
             ],
             [
              0.2222222222222222,
              "#7201a8"
             ],
             [
              0.3333333333333333,
              "#9c179e"
             ],
             [
              0.4444444444444444,
              "#bd3786"
             ],
             [
              0.5555555555555556,
              "#d8576b"
             ],
             [
              0.6666666666666666,
              "#ed7953"
             ],
             [
              0.7777777777777778,
              "#fb9f3a"
             ],
             [
              0.8888888888888888,
              "#fdca26"
             ],
             [
              1,
              "#f0f921"
             ]
            ],
            "type": "surface"
           }
          ],
          "table": [
           {
            "cells": {
             "fill": {
              "color": "#EBF0F8"
             },
             "line": {
              "color": "white"
             }
            },
            "header": {
             "fill": {
              "color": "#C8D4E3"
             },
             "line": {
              "color": "white"
             }
            },
            "type": "table"
           }
          ]
         },
         "layout": {
          "annotationdefaults": {
           "arrowcolor": "#2a3f5f",
           "arrowhead": 0,
           "arrowwidth": 1
          },
          "autotypenumbers": "strict",
          "coloraxis": {
           "colorbar": {
            "outlinewidth": 0,
            "ticks": ""
           }
          },
          "colorscale": {
           "diverging": [
            [
             0,
             "#8e0152"
            ],
            [
             0.1,
             "#c51b7d"
            ],
            [
             0.2,
             "#de77ae"
            ],
            [
             0.3,
             "#f1b6da"
            ],
            [
             0.4,
             "#fde0ef"
            ],
            [
             0.5,
             "#f7f7f7"
            ],
            [
             0.6,
             "#e6f5d0"
            ],
            [
             0.7,
             "#b8e186"
            ],
            [
             0.8,
             "#7fbc41"
            ],
            [
             0.9,
             "#4d9221"
            ],
            [
             1,
             "#276419"
            ]
           ],
           "sequential": [
            [
             0,
             "#0d0887"
            ],
            [
             0.1111111111111111,
             "#46039f"
            ],
            [
             0.2222222222222222,
             "#7201a8"
            ],
            [
             0.3333333333333333,
             "#9c179e"
            ],
            [
             0.4444444444444444,
             "#bd3786"
            ],
            [
             0.5555555555555556,
             "#d8576b"
            ],
            [
             0.6666666666666666,
             "#ed7953"
            ],
            [
             0.7777777777777778,
             "#fb9f3a"
            ],
            [
             0.8888888888888888,
             "#fdca26"
            ],
            [
             1,
             "#f0f921"
            ]
           ],
           "sequentialminus": [
            [
             0,
             "#0d0887"
            ],
            [
             0.1111111111111111,
             "#46039f"
            ],
            [
             0.2222222222222222,
             "#7201a8"
            ],
            [
             0.3333333333333333,
             "#9c179e"
            ],
            [
             0.4444444444444444,
             "#bd3786"
            ],
            [
             0.5555555555555556,
             "#d8576b"
            ],
            [
             0.6666666666666666,
             "#ed7953"
            ],
            [
             0.7777777777777778,
             "#fb9f3a"
            ],
            [
             0.8888888888888888,
             "#fdca26"
            ],
            [
             1,
             "#f0f921"
            ]
           ]
          },
          "colorway": [
           "#636efa",
           "#EF553B",
           "#00cc96",
           "#ab63fa",
           "#FFA15A",
           "#19d3f3",
           "#FF6692",
           "#B6E880",
           "#FF97FF",
           "#FECB52"
          ],
          "font": {
           "color": "#2a3f5f"
          },
          "geo": {
           "bgcolor": "white",
           "lakecolor": "white",
           "landcolor": "#E5ECF6",
           "showlakes": true,
           "showland": true,
           "subunitcolor": "white"
          },
          "hoverlabel": {
           "align": "left"
          },
          "hovermode": "closest",
          "mapbox": {
           "style": "light"
          },
          "paper_bgcolor": "white",
          "plot_bgcolor": "#E5ECF6",
          "polar": {
           "angularaxis": {
            "gridcolor": "white",
            "linecolor": "white",
            "ticks": ""
           },
           "bgcolor": "#E5ECF6",
           "radialaxis": {
            "gridcolor": "white",
            "linecolor": "white",
            "ticks": ""
           }
          },
          "scene": {
           "xaxis": {
            "backgroundcolor": "#E5ECF6",
            "gridcolor": "white",
            "gridwidth": 2,
            "linecolor": "white",
            "showbackground": true,
            "ticks": "",
            "zerolinecolor": "white"
           },
           "yaxis": {
            "backgroundcolor": "#E5ECF6",
            "gridcolor": "white",
            "gridwidth": 2,
            "linecolor": "white",
            "showbackground": true,
            "ticks": "",
            "zerolinecolor": "white"
           },
           "zaxis": {
            "backgroundcolor": "#E5ECF6",
            "gridcolor": "white",
            "gridwidth": 2,
            "linecolor": "white",
            "showbackground": true,
            "ticks": "",
            "zerolinecolor": "white"
           }
          },
          "shapedefaults": {
           "line": {
            "color": "#2a3f5f"
           }
          },
          "ternary": {
           "aaxis": {
            "gridcolor": "white",
            "linecolor": "white",
            "ticks": ""
           },
           "baxis": {
            "gridcolor": "white",
            "linecolor": "white",
            "ticks": ""
           },
           "bgcolor": "#E5ECF6",
           "caxis": {
            "gridcolor": "white",
            "linecolor": "white",
            "ticks": ""
           }
          },
          "title": {
           "x": 0.05
          },
          "xaxis": {
           "automargin": true,
           "gridcolor": "white",
           "linecolor": "white",
           "ticks": "",
           "title": {
            "standoff": 15
           },
           "zerolinecolor": "white",
           "zerolinewidth": 2
          },
          "yaxis": {
           "automargin": true,
           "gridcolor": "white",
           "linecolor": "white",
           "ticks": "",
           "title": {
            "standoff": 15
           },
           "zerolinecolor": "white",
           "zerolinewidth": 2
          }
         }
        },
        "title": {
         "font": {
          "color": "black",
          "size": 22
         },
         "text": "Number of Severe Weather Events by State (2022)",
         "x": 0.45
        }
       }
      },
      "text/html": [
       "<div>                            <div id=\"64217482-24ad-4bfe-bb23-262eb959624c\" class=\"plotly-graph-div\" style=\"height:525px; width:100%;\"></div>            <script type=\"text/javascript\">                require([\"plotly\"], function(Plotly) {                    window.PLOTLYENV=window.PLOTLYENV || {};                                    if (document.getElementById(\"64217482-24ad-4bfe-bb23-262eb959624c\")) {                    Plotly.newPlot(                        \"64217482-24ad-4bfe-bb23-262eb959624c\",                        [{\"coloraxis\":\"coloraxis\",\"geo\":\"geo\",\"hovertemplate\":\"state=%{location}<br>Number of Severe Weather Events=%{z}<extra></extra>\",\"locationmode\":\"USA-states\",\"locations\":[\"AL\",\"AK\",\"AZ\",\"AR\",\"CA\",\"CO\",\"CT\",\"DE\",\"DC\",\"FL\",\"GA\",\"HI\",\"ID\",\"IL\",\"IN\",\"IA\",\"KS\",\"KY\",\"LA\",\"ME\",\"MD\",\"MA\",\"MI\",\"MN\",\"MS\",\"MO\",\"MT\",\"NE\",\"NV\",\"NH\",\"NJ\",\"NM\",\"NY\",\"NC\",\"ND\",\"OH\",\"OK\",\"OR\",\"PA\",\"RI\",\"SC\",\"SD\",\"TN\",\"TX\",\"UT\",\"VT\",\"VA\",\"WA\",\"WV\",\"WI\",\"WY\"],\"name\":\"\",\"z\":[1443,410,1561,2061,3358,1905,233,103,121,1710,1262,742,627,2732,1460,1568,2520,2803,1144,522,1390,555,887,2952,1598,2779,1946,2259,745,393,591,1681,2229,1856,1528,2081,2311,403,1658,119,1297,2836,1937,6067,746,388,2742,603,1727,1457,945],\"type\":\"choropleth\"}],                        {\"template\":{\"data\":{\"histogram2dcontour\":[{\"type\":\"histogram2dcontour\",\"colorbar\":{\"outlinewidth\":0,\"ticks\":\"\"},\"colorscale\":[[0.0,\"#0d0887\"],[0.1111111111111111,\"#46039f\"],[0.2222222222222222,\"#7201a8\"],[0.3333333333333333,\"#9c179e\"],[0.4444444444444444,\"#bd3786\"],[0.5555555555555556,\"#d8576b\"],[0.6666666666666666,\"#ed7953\"],[0.7777777777777778,\"#fb9f3a\"],[0.8888888888888888,\"#fdca26\"],[1.0,\"#f0f921\"]]}],\"choropleth\":[{\"type\":\"choropleth\",\"colorbar\":{\"outlinewidth\":0,\"ticks\":\"\"}}],\"histogram2d\":[{\"type\":\"histogram2d\",\"colorbar\":{\"outlinewidth\":0,\"ticks\":\"\"},\"colorscale\":[[0.0,\"#0d0887\"],[0.1111111111111111,\"#46039f\"],[0.2222222222222222,\"#7201a8\"],[0.3333333333333333,\"#9c179e\"],[0.4444444444444444,\"#bd3786\"],[0.5555555555555556,\"#d8576b\"],[0.6666666666666666,\"#ed7953\"],[0.7777777777777778,\"#fb9f3a\"],[0.8888888888888888,\"#fdca26\"],[1.0,\"#f0f921\"]]}],\"heatmap\":[{\"type\":\"heatmap\",\"colorbar\":{\"outlinewidth\":0,\"ticks\":\"\"},\"colorscale\":[[0.0,\"#0d0887\"],[0.1111111111111111,\"#46039f\"],[0.2222222222222222,\"#7201a8\"],[0.3333333333333333,\"#9c179e\"],[0.4444444444444444,\"#bd3786\"],[0.5555555555555556,\"#d8576b\"],[0.6666666666666666,\"#ed7953\"],[0.7777777777777778,\"#fb9f3a\"],[0.8888888888888888,\"#fdca26\"],[1.0,\"#f0f921\"]]}],\"heatmapgl\":[{\"type\":\"heatmapgl\",\"colorbar\":{\"outlinewidth\":0,\"ticks\":\"\"},\"colorscale\":[[0.0,\"#0d0887\"],[0.1111111111111111,\"#46039f\"],[0.2222222222222222,\"#7201a8\"],[0.3333333333333333,\"#9c179e\"],[0.4444444444444444,\"#bd3786\"],[0.5555555555555556,\"#d8576b\"],[0.6666666666666666,\"#ed7953\"],[0.7777777777777778,\"#fb9f3a\"],[0.8888888888888888,\"#fdca26\"],[1.0,\"#f0f921\"]]}],\"contourcarpet\":[{\"type\":\"contourcarpet\",\"colorbar\":{\"outlinewidth\":0,\"ticks\":\"\"}}],\"contour\":[{\"type\":\"contour\",\"colorbar\":{\"outlinewidth\":0,\"ticks\":\"\"},\"colorscale\":[[0.0,\"#0d0887\"],[0.1111111111111111,\"#46039f\"],[0.2222222222222222,\"#7201a8\"],[0.3333333333333333,\"#9c179e\"],[0.4444444444444444,\"#bd3786\"],[0.5555555555555556,\"#d8576b\"],[0.6666666666666666,\"#ed7953\"],[0.7777777777777778,\"#fb9f3a\"],[0.8888888888888888,\"#fdca26\"],[1.0,\"#f0f921\"]]}],\"surface\":[{\"type\":\"surface\",\"colorbar\":{\"outlinewidth\":0,\"ticks\":\"\"},\"colorscale\":[[0.0,\"#0d0887\"],[0.1111111111111111,\"#46039f\"],[0.2222222222222222,\"#7201a8\"],[0.3333333333333333,\"#9c179e\"],[0.4444444444444444,\"#bd3786\"],[0.5555555555555556,\"#d8576b\"],[0.6666666666666666,\"#ed7953\"],[0.7777777777777778,\"#fb9f3a\"],[0.8888888888888888,\"#fdca26\"],[1.0,\"#f0f921\"]]}],\"mesh3d\":[{\"type\":\"mesh3d\",\"colorbar\":{\"outlinewidth\":0,\"ticks\":\"\"}}],\"scatter\":[{\"fillpattern\":{\"fillmode\":\"overlay\",\"size\":10,\"solidity\":0.2},\"type\":\"scatter\"}],\"parcoords\":[{\"type\":\"parcoords\",\"line\":{\"colorbar\":{\"outlinewidth\":0,\"ticks\":\"\"}}}],\"scatterpolargl\":[{\"type\":\"scatterpolargl\",\"marker\":{\"colorbar\":{\"outlinewidth\":0,\"ticks\":\"\"}}}],\"bar\":[{\"error_x\":{\"color\":\"#2a3f5f\"},\"error_y\":{\"color\":\"#2a3f5f\"},\"marker\":{\"line\":{\"color\":\"#E5ECF6\",\"width\":0.5},\"pattern\":{\"fillmode\":\"overlay\",\"size\":10,\"solidity\":0.2}},\"type\":\"bar\"}],\"scattergeo\":[{\"type\":\"scattergeo\",\"marker\":{\"colorbar\":{\"outlinewidth\":0,\"ticks\":\"\"}}}],\"scatterpolar\":[{\"type\":\"scatterpolar\",\"marker\":{\"colorbar\":{\"outlinewidth\":0,\"ticks\":\"\"}}}],\"histogram\":[{\"marker\":{\"pattern\":{\"fillmode\":\"overlay\",\"size\":10,\"solidity\":0.2}},\"type\":\"histogram\"}],\"scattergl\":[{\"type\":\"scattergl\",\"marker\":{\"colorbar\":{\"outlinewidth\":0,\"ticks\":\"\"}}}],\"scatter3d\":[{\"type\":\"scatter3d\",\"line\":{\"colorbar\":{\"outlinewidth\":0,\"ticks\":\"\"}},\"marker\":{\"colorbar\":{\"outlinewidth\":0,\"ticks\":\"\"}}}],\"scattermapbox\":[{\"type\":\"scattermapbox\",\"marker\":{\"colorbar\":{\"outlinewidth\":0,\"ticks\":\"\"}}}],\"scatterternary\":[{\"type\":\"scatterternary\",\"marker\":{\"colorbar\":{\"outlinewidth\":0,\"ticks\":\"\"}}}],\"scattercarpet\":[{\"type\":\"scattercarpet\",\"marker\":{\"colorbar\":{\"outlinewidth\":0,\"ticks\":\"\"}}}],\"carpet\":[{\"aaxis\":{\"endlinecolor\":\"#2a3f5f\",\"gridcolor\":\"white\",\"linecolor\":\"white\",\"minorgridcolor\":\"white\",\"startlinecolor\":\"#2a3f5f\"},\"baxis\":{\"endlinecolor\":\"#2a3f5f\",\"gridcolor\":\"white\",\"linecolor\":\"white\",\"minorgridcolor\":\"white\",\"startlinecolor\":\"#2a3f5f\"},\"type\":\"carpet\"}],\"table\":[{\"cells\":{\"fill\":{\"color\":\"#EBF0F8\"},\"line\":{\"color\":\"white\"}},\"header\":{\"fill\":{\"color\":\"#C8D4E3\"},\"line\":{\"color\":\"white\"}},\"type\":\"table\"}],\"barpolar\":[{\"marker\":{\"line\":{\"color\":\"#E5ECF6\",\"width\":0.5},\"pattern\":{\"fillmode\":\"overlay\",\"size\":10,\"solidity\":0.2}},\"type\":\"barpolar\"}],\"pie\":[{\"automargin\":true,\"type\":\"pie\"}]},\"layout\":{\"autotypenumbers\":\"strict\",\"colorway\":[\"#636efa\",\"#EF553B\",\"#00cc96\",\"#ab63fa\",\"#FFA15A\",\"#19d3f3\",\"#FF6692\",\"#B6E880\",\"#FF97FF\",\"#FECB52\"],\"font\":{\"color\":\"#2a3f5f\"},\"hovermode\":\"closest\",\"hoverlabel\":{\"align\":\"left\"},\"paper_bgcolor\":\"white\",\"plot_bgcolor\":\"#E5ECF6\",\"polar\":{\"bgcolor\":\"#E5ECF6\",\"angularaxis\":{\"gridcolor\":\"white\",\"linecolor\":\"white\",\"ticks\":\"\"},\"radialaxis\":{\"gridcolor\":\"white\",\"linecolor\":\"white\",\"ticks\":\"\"}},\"ternary\":{\"bgcolor\":\"#E5ECF6\",\"aaxis\":{\"gridcolor\":\"white\",\"linecolor\":\"white\",\"ticks\":\"\"},\"baxis\":{\"gridcolor\":\"white\",\"linecolor\":\"white\",\"ticks\":\"\"},\"caxis\":{\"gridcolor\":\"white\",\"linecolor\":\"white\",\"ticks\":\"\"}},\"coloraxis\":{\"colorbar\":{\"outlinewidth\":0,\"ticks\":\"\"}},\"colorscale\":{\"sequential\":[[0.0,\"#0d0887\"],[0.1111111111111111,\"#46039f\"],[0.2222222222222222,\"#7201a8\"],[0.3333333333333333,\"#9c179e\"],[0.4444444444444444,\"#bd3786\"],[0.5555555555555556,\"#d8576b\"],[0.6666666666666666,\"#ed7953\"],[0.7777777777777778,\"#fb9f3a\"],[0.8888888888888888,\"#fdca26\"],[1.0,\"#f0f921\"]],\"sequentialminus\":[[0.0,\"#0d0887\"],[0.1111111111111111,\"#46039f\"],[0.2222222222222222,\"#7201a8\"],[0.3333333333333333,\"#9c179e\"],[0.4444444444444444,\"#bd3786\"],[0.5555555555555556,\"#d8576b\"],[0.6666666666666666,\"#ed7953\"],[0.7777777777777778,\"#fb9f3a\"],[0.8888888888888888,\"#fdca26\"],[1.0,\"#f0f921\"]],\"diverging\":[[0,\"#8e0152\"],[0.1,\"#c51b7d\"],[0.2,\"#de77ae\"],[0.3,\"#f1b6da\"],[0.4,\"#fde0ef\"],[0.5,\"#f7f7f7\"],[0.6,\"#e6f5d0\"],[0.7,\"#b8e186\"],[0.8,\"#7fbc41\"],[0.9,\"#4d9221\"],[1,\"#276419\"]]},\"xaxis\":{\"gridcolor\":\"white\",\"linecolor\":\"white\",\"ticks\":\"\",\"title\":{\"standoff\":15},\"zerolinecolor\":\"white\",\"automargin\":true,\"zerolinewidth\":2},\"yaxis\":{\"gridcolor\":\"white\",\"linecolor\":\"white\",\"ticks\":\"\",\"title\":{\"standoff\":15},\"zerolinecolor\":\"white\",\"automargin\":true,\"zerolinewidth\":2},\"scene\":{\"xaxis\":{\"backgroundcolor\":\"#E5ECF6\",\"gridcolor\":\"white\",\"linecolor\":\"white\",\"showbackground\":true,\"ticks\":\"\",\"zerolinecolor\":\"white\",\"gridwidth\":2},\"yaxis\":{\"backgroundcolor\":\"#E5ECF6\",\"gridcolor\":\"white\",\"linecolor\":\"white\",\"showbackground\":true,\"ticks\":\"\",\"zerolinecolor\":\"white\",\"gridwidth\":2},\"zaxis\":{\"backgroundcolor\":\"#E5ECF6\",\"gridcolor\":\"white\",\"linecolor\":\"white\",\"showbackground\":true,\"ticks\":\"\",\"zerolinecolor\":\"white\",\"gridwidth\":2}},\"shapedefaults\":{\"line\":{\"color\":\"#2a3f5f\"}},\"annotationdefaults\":{\"arrowcolor\":\"#2a3f5f\",\"arrowhead\":0,\"arrowwidth\":1},\"geo\":{\"bgcolor\":\"white\",\"landcolor\":\"#E5ECF6\",\"subunitcolor\":\"white\",\"showland\":true,\"showlakes\":true,\"lakecolor\":\"white\"},\"title\":{\"x\":0.05},\"mapbox\":{\"style\":\"light\"}}},\"geo\":{\"domain\":{\"x\":[0.0,1.0],\"y\":[0.0,1.0]},\"center\":{},\"scope\":\"usa\"},\"coloraxis\":{\"colorbar\":{\"title\":{\"text\":\"Number of Severe Weather Events\"}},\"colorscale\":[[0.0,\"#440154\"],[0.1111111111111111,\"#482878\"],[0.2222222222222222,\"#3e4989\"],[0.3333333333333333,\"#31688e\"],[0.4444444444444444,\"#26828e\"],[0.5555555555555556,\"#1f9e89\"],[0.6666666666666666,\"#35b779\"],[0.7777777777777778,\"#6ece58\"],[0.8888888888888888,\"#b5de2b\"],[1.0,\"#fde725\"]]},\"legend\":{\"tracegroupgap\":0},\"margin\":{\"t\":60},\"title\":{\"font\":{\"size\":22,\"color\":\"black\"},\"text\":\"Number of Severe Weather Events by State (2022)\",\"x\":0.45}},                        {\"responsive\": true}                    ).then(function(){\n",
       "                            \n",
       "var gd = document.getElementById('64217482-24ad-4bfe-bb23-262eb959624c');\n",
       "var x = new MutationObserver(function (mutations, observer) {{\n",
       "        var display = window.getComputedStyle(gd).display;\n",
       "        if (!display || display === 'none') {{\n",
       "            console.log([gd, 'removed!']);\n",
       "            Plotly.purge(gd);\n",
       "            observer.disconnect();\n",
       "        }}\n",
       "}});\n",
       "\n",
       "// Listen for the removal of the full notebook cells\n",
       "var notebookContainer = gd.closest('#notebook-container');\n",
       "if (notebookContainer) {{\n",
       "    x.observe(notebookContainer, {childList: true});\n",
       "}}\n",
       "\n",
       "// Listen for the clearing of the current output cell\n",
       "var outputEl = gd.closest('.output');\n",
       "if (outputEl) {{\n",
       "    x.observe(outputEl, {childList: true});\n",
       "}}\n",
       "\n",
       "                        })                };                });            </script>        </div>"
      ]
     },
     "metadata": {},
     "output_type": "display_data"
    }
   ],
   "source": [
    "import plotly.express as px\n",
    "\n",
    "# Graph data\n",
    "fig = px.choropleth(storm_count_by_state_code_df\n",
    "                    , locations = \"state\"\n",
    "                    , locationmode = \"USA-states\"\n",
    "                    , scope = \"usa\"\n",
    "                    , color = \"num_severe_weather_events\"\n",
    "                    , labels = {\"num_severe_weather_events\": \"Number of Severe Weather Events\"}\n",
    "                    , color_continuous_scale = \"Viridis\")\n",
    "\n",
    "# Graph settings\n",
    "fig.update_layout(\n",
    "                  title_text = 'Number of Severe Weather Events by State (2022)',\n",
    "                  title_font_size = 22,\n",
    "                  title_font_color=\"black\", \n",
    "                  title_x=0.45, \n",
    "                 )\n",
    "\n",
    "\n",
    "fig.show()"
   ]
  },
  {
   "cell_type": "markdown",
   "id": "1b0011fe",
   "metadata": {},
   "source": [
    "## Dataset Name:  Homeowners and Renters Insurance by State\n",
    "---\n",
    "<a id = \"hris\"></a>\n",
    "[Back to Top](#btt)\n",
    "\n",
    "TODO: Add description"
   ]
  },
  {
   "cell_type": "markdown",
   "id": "c42771e3",
   "metadata": {},
   "source": [
    "### Loading in the Data"
   ]
  },
  {
   "cell_type": "code",
   "execution_count": 460,
   "id": "3047a667",
   "metadata": {},
   "outputs": [],
   "source": [
    "insurance_data = f\"{insurance_file_path}\\insurance_by_year_and_state.csv\"\n",
    "df_insurance = pd.read_csv(insurance_data)"
   ]
  },
  {
   "cell_type": "code",
   "execution_count": 461,
   "id": "486daa6b",
   "metadata": {},
   "outputs": [
    {
     "data": {
      "text/html": [
       "<div>\n",
       "<style scoped>\n",
       "    .dataframe tbody tr th:only-of-type {\n",
       "        vertical-align: middle;\n",
       "    }\n",
       "\n",
       "    .dataframe tbody tr th {\n",
       "        vertical-align: top;\n",
       "    }\n",
       "\n",
       "    .dataframe thead th {\n",
       "        text-align: right;\n",
       "    }\n",
       "</style>\n",
       "<table border=\"1\" class=\"dataframe\">\n",
       "  <thead>\n",
       "    <tr style=\"text-align: right;\">\n",
       "      <th></th>\n",
       "      <th>year</th>\n",
       "      <th>state</th>\n",
       "      <th>homeowners_avg_premium</th>\n",
       "      <th>homeowners_rank</th>\n",
       "      <th>renters_avg_premium</th>\n",
       "      <th>renters_rank</th>\n",
       "    </tr>\n",
       "  </thead>\n",
       "  <tbody>\n",
       "    <tr>\n",
       "      <th>0</th>\n",
       "      <td>2007</td>\n",
       "      <td>Alabama</td>\n",
       "      <td>905.0</td>\n",
       "      <td>12</td>\n",
       "      <td>218.0</td>\n",
       "      <td>6</td>\n",
       "    </tr>\n",
       "    <tr>\n",
       "      <th>1</th>\n",
       "      <td>2007</td>\n",
       "      <td>Alaska</td>\n",
       "      <td>861.0</td>\n",
       "      <td>14</td>\n",
       "      <td>175.0</td>\n",
       "      <td>17</td>\n",
       "    </tr>\n",
       "    <tr>\n",
       "      <th>2</th>\n",
       "      <td>2007</td>\n",
       "      <td>Arizona</td>\n",
       "      <td>634.0</td>\n",
       "      <td>39</td>\n",
       "      <td>200.0</td>\n",
       "      <td>11</td>\n",
       "    </tr>\n",
       "    <tr>\n",
       "      <th>3</th>\n",
       "      <td>2007</td>\n",
       "      <td>Arkansas</td>\n",
       "      <td>762.0</td>\n",
       "      <td>22</td>\n",
       "      <td>201.0</td>\n",
       "      <td>10</td>\n",
       "    </tr>\n",
       "    <tr>\n",
       "      <th>4</th>\n",
       "      <td>2007</td>\n",
       "      <td>California   (4)</td>\n",
       "      <td>925.0</td>\n",
       "      <td>11</td>\n",
       "      <td>231.0</td>\n",
       "      <td>3</td>\n",
       "    </tr>\n",
       "  </tbody>\n",
       "</table>\n",
       "</div>"
      ],
      "text/plain": [
       "   year             state  homeowners_avg_premium  homeowners_rank  \\\n",
       "0  2007           Alabama                   905.0               12   \n",
       "1  2007            Alaska                   861.0               14   \n",
       "2  2007           Arizona                   634.0               39   \n",
       "3  2007          Arkansas                   762.0               22   \n",
       "4  2007  California   (4)                   925.0               11   \n",
       "\n",
       "   renters_avg_premium  renters_rank  \n",
       "0                218.0             6  \n",
       "1                175.0            17  \n",
       "2                200.0            11  \n",
       "3                201.0            10  \n",
       "4                231.0             3  "
      ]
     },
     "execution_count": 461,
     "metadata": {},
     "output_type": "execute_result"
    }
   ],
   "source": [
    "df_insurance.head()"
   ]
  },
  {
   "cell_type": "markdown",
   "id": "87a66623",
   "metadata": {},
   "source": [
    "### Pre-Processing the Data\n",
    "<a id = \"hris_pp\"></a>"
   ]
  },
  {
   "cell_type": "code",
   "execution_count": 462,
   "id": "18fbed20",
   "metadata": {
    "scrolled": true
   },
   "outputs": [
    {
     "data": {
      "text/plain": [
       "['Alabama',\n",
       " 'Alaska',\n",
       " 'Arizona',\n",
       " 'Arkansas',\n",
       " 'California   (4)',\n",
       " 'Colorado',\n",
       " 'Connecticut',\n",
       " 'D.C.',\n",
       " 'Delaware',\n",
       " 'Florida   (5)',\n",
       " 'Georgia',\n",
       " 'Hawaii',\n",
       " 'Idaho',\n",
       " 'Illinois',\n",
       " 'Indiana',\n",
       " 'Iowa',\n",
       " 'Kansas',\n",
       " 'Kentucky',\n",
       " 'Louisiana',\n",
       " 'Maine',\n",
       " 'Maryland',\n",
       " 'Massachusetts',\n",
       " 'Michigan',\n",
       " 'Minnesota',\n",
       " 'Mississippi',\n",
       " 'Missouri',\n",
       " 'Montana',\n",
       " 'Nebraska',\n",
       " 'Nevada',\n",
       " 'New   Hampshire',\n",
       " 'New   Jersey',\n",
       " 'New   Mexico',\n",
       " 'New York',\n",
       " 'North   Carolina',\n",
       " 'North   Dakota',\n",
       " 'Ohio',\n",
       " 'Oklahoma',\n",
       " 'Oregon',\n",
       " 'Pennsylvania',\n",
       " 'Rhode   Island',\n",
       " 'South   Carolina',\n",
       " 'South   Dakota',\n",
       " 'Tennessee',\n",
       " 'Texas (6)',\n",
       " 'Utah',\n",
       " 'Vermont',\n",
       " 'Virginia',\n",
       " 'Washington',\n",
       " 'West   Virginia',\n",
       " 'Wisconsin',\n",
       " 'Wyoming',\n",
       " 'New Hampshire',\n",
       " 'New Jersey',\n",
       " 'New Mexico',\n",
       " 'North Carolina',\n",
       " 'North Dakota',\n",
       " 'Rhode Island',\n",
       " 'South Carolina',\n",
       " 'South Dakota',\n",
       " 'West Virginia',\n",
       " 'California',\n",
       " 'Florida',\n",
       " 'Texas',\n",
       " 'California (5)']"
      ]
     },
     "execution_count": 462,
     "metadata": {},
     "output_type": "execute_result"
    }
   ],
   "source": [
    "[*df_insurance[\"state\"].unique()]"
   ]
  },
  {
   "cell_type": "code",
   "execution_count": 463,
   "id": "160be46d",
   "metadata": {
    "scrolled": true
   },
   "outputs": [],
   "source": [
    "import re\n",
    "\n",
    "def remove_number_parentheses(string):\n",
    "    \n",
    "    # Replace the footnote markers from the state name with an empty string\n",
    "    return re.sub(r'\\(\\d\\)', '', string)"
   ]
  },
  {
   "cell_type": "code",
   "execution_count": 464,
   "id": "4314894a",
   "metadata": {
    "scrolled": true
   },
   "outputs": [
    {
     "data": {
      "text/plain": [
       "['Alabama',\n",
       " 'Alaska',\n",
       " 'Arizona',\n",
       " 'Arkansas',\n",
       " 'California',\n",
       " 'Colorado',\n",
       " 'Connecticut',\n",
       " 'D.C.',\n",
       " 'Delaware',\n",
       " 'Florida',\n",
       " 'Georgia',\n",
       " 'Hawaii',\n",
       " 'Idaho',\n",
       " 'Illinois',\n",
       " 'Indiana',\n",
       " 'Iowa',\n",
       " 'Kansas',\n",
       " 'Kentucky',\n",
       " 'Louisiana',\n",
       " 'Maine',\n",
       " 'Maryland',\n",
       " 'Massachusetts',\n",
       " 'Michigan',\n",
       " 'Minnesota',\n",
       " 'Mississippi',\n",
       " 'Missouri',\n",
       " 'Montana',\n",
       " 'Nebraska',\n",
       " 'Nevada',\n",
       " 'New Hampshire',\n",
       " 'New Jersey',\n",
       " 'New Mexico',\n",
       " 'New York',\n",
       " 'North Carolina',\n",
       " 'North Dakota',\n",
       " 'Ohio',\n",
       " 'Oklahoma',\n",
       " 'Oregon',\n",
       " 'Pennsylvania',\n",
       " 'Rhode Island',\n",
       " 'South Carolina',\n",
       " 'South Dakota',\n",
       " 'Tennessee',\n",
       " 'Texas',\n",
       " 'Utah',\n",
       " 'Vermont',\n",
       " 'Virginia',\n",
       " 'Washington',\n",
       " 'West Virginia',\n",
       " 'Wisconsin',\n",
       " 'Wyoming']"
      ]
     },
     "execution_count": 464,
     "metadata": {},
     "output_type": "execute_result"
    }
   ],
   "source": [
    "df_insurance[\"state\"] = [remove_number_parentheses(state) for state in df_insurance[\"state\"]]\n",
    "\n",
    "# Remove extra white spaces\n",
    "df_insurance[\"state\"] = [\" \".join(state.split())for state in df_insurance[\"state\"]]\n",
    "\n",
    "sorted(df_insurance[\"state\"].unique())"
   ]
  },
  {
   "cell_type": "code",
   "execution_count": 465,
   "id": "5226db2b",
   "metadata": {},
   "outputs": [
    {
     "data": {
      "text/plain": [
       "51"
      ]
     },
     "execution_count": 465,
     "metadata": {},
     "output_type": "execute_result"
    }
   ],
   "source": [
    "len(df_insurance[\"state\"].unique())"
   ]
  },
  {
   "cell_type": "markdown",
   "id": "e591d1fe",
   "metadata": {},
   "source": [
    "### Exploratory Data Analysis\n",
    "<a id = \"hris_eda\"></a>"
   ]
  },
  {
   "cell_type": "markdown",
   "id": "6c7ab5d1",
   "metadata": {},
   "source": [
    "## Dataset Name: State to State Migration Flows\n",
    "---\n",
    "<a id = \"s2smf\"></a>\n",
    "[Back to Top](#btt)\n",
    "\n",
    "\"The American Community Survey (ACS) and the Puerto Rico Community Survey (PRCS) ask respondents age 1 year and over whether they lived in the same residence 1 year ago. For people who lived in a different residence, the location of their previous residence is collected. The state-to-state migration flows are created from tabulations of the current state (including the District of Columbia and Puerto Rico) of residence crossed by state of residence 1 year ago. Tables of ACS state-to-state flows are available going back to the 2005 ACS – the first year of full implementation of the survey.\" - _United States Census Bureau_"
   ]
  },
  {
   "cell_type": "markdown",
   "id": "9f0b6b5f",
   "metadata": {},
   "source": [
    "### Loading in the Pre-Processed Data\n",
    "<a id = \"s2smf_pp\"></a>\n",
    "\n",
    "The data can be directly loaded into a dataframe from each of the Excel files without the need for any pre-processing since that has been implemented within the `census_state_migration_cleaned_xls.py` file.\n",
    "\n",
    "Within, the following pre-processing steps are applied to the raw data:\n",
    "\n",
    "1. Extract the pertinent columns (excluding those which do not represent state to state migration figures\n",
    "2. Delete all blank rows since the states are partitioned in groups of 5\n",
    "3. Manipulate the original Excel files (which contain multi-index column headers: 1st level = State Name, 2nd level = Estimate and Margin of Error) such that the State Name is converted into a separate column\n",
    "4. Filter out any rows where the 'Moved To' and 'Moved From' states are equal since we only want to capture interstate migration flows"
   ]
  },
  {
   "cell_type": "code",
   "execution_count": 466,
   "id": "145b2353",
   "metadata": {},
   "outputs": [],
   "source": [
    "# Load in the 2022 data into a dataframe\n",
    "s2s_migration_2021 = f\"{census_cleaned_files_folder}\\state_to_state_migrations_dataframe_2021.xlsx\"\n",
    "df_s2s_migration_2021 = pd.read_excel(s2s_migration_2021)"
   ]
  },
  {
   "cell_type": "code",
   "execution_count": 467,
   "id": "7e5df214",
   "metadata": {},
   "outputs": [
    {
     "data": {
      "text/html": [
       "<div>\n",
       "<style scoped>\n",
       "    .dataframe tbody tr th:only-of-type {\n",
       "        vertical-align: middle;\n",
       "    }\n",
       "\n",
       "    .dataframe tbody tr th {\n",
       "        vertical-align: top;\n",
       "    }\n",
       "\n",
       "    .dataframe thead th {\n",
       "        text-align: right;\n",
       "    }\n",
       "</style>\n",
       "<table border=\"1\" class=\"dataframe\">\n",
       "  <thead>\n",
       "    <tr style=\"text-align: right;\">\n",
       "      <th></th>\n",
       "      <th>Moved To: State</th>\n",
       "      <th>Moved From: State</th>\n",
       "      <th>Estimate</th>\n",
       "      <th>MOE</th>\n",
       "    </tr>\n",
       "  </thead>\n",
       "  <tbody>\n",
       "    <tr>\n",
       "      <th>0</th>\n",
       "      <td>Alabama</td>\n",
       "      <td>Alaska</td>\n",
       "      <td>12</td>\n",
       "      <td>29</td>\n",
       "    </tr>\n",
       "    <tr>\n",
       "      <th>1</th>\n",
       "      <td>Alabama</td>\n",
       "      <td>Arizona</td>\n",
       "      <td>1338</td>\n",
       "      <td>1009</td>\n",
       "    </tr>\n",
       "    <tr>\n",
       "      <th>2</th>\n",
       "      <td>Alabama</td>\n",
       "      <td>Arkansas</td>\n",
       "      <td>1271</td>\n",
       "      <td>943</td>\n",
       "    </tr>\n",
       "    <tr>\n",
       "      <th>3</th>\n",
       "      <td>Alabama</td>\n",
       "      <td>California</td>\n",
       "      <td>3369</td>\n",
       "      <td>1420</td>\n",
       "    </tr>\n",
       "    <tr>\n",
       "      <th>4</th>\n",
       "      <td>Alabama</td>\n",
       "      <td>Colorado</td>\n",
       "      <td>2070</td>\n",
       "      <td>1081</td>\n",
       "    </tr>\n",
       "  </tbody>\n",
       "</table>\n",
       "</div>"
      ],
      "text/plain": [
       "  Moved To: State Moved From: State  Estimate   MOE\n",
       "0         Alabama            Alaska        12    29\n",
       "1         Alabama           Arizona      1338  1009\n",
       "2         Alabama          Arkansas      1271   943\n",
       "3         Alabama        California      3369  1420\n",
       "4         Alabama          Colorado      2070  1081"
      ]
     },
     "execution_count": 467,
     "metadata": {},
     "output_type": "execute_result"
    }
   ],
   "source": [
    "df_s2s_migration_2021.head()"
   ]
  },
  {
   "cell_type": "code",
   "execution_count": 468,
   "id": "ebc3e299",
   "metadata": {},
   "outputs": [],
   "source": [
    "df_s2s_migration_2021 = df_s2s_migration_2021.set_axis([\"moved_to\", \"moved_from\", \"estimate\", \"margin_of_error\"],\\\n",
    "                                                       axis = 1)"
   ]
  },
  {
   "cell_type": "code",
   "execution_count": 469,
   "id": "eda934c5",
   "metadata": {},
   "outputs": [
    {
     "name": "stdout",
     "output_type": "stream",
     "text": [
      "<class 'pandas.core.frame.DataFrame'>\n",
      "RangeIndex: 2756 entries, 0 to 2755\n",
      "Data columns (total 4 columns):\n",
      " #   Column           Non-Null Count  Dtype \n",
      "---  ------           --------------  ----- \n",
      " 0   moved_to         2756 non-null   object\n",
      " 1   moved_from       2756 non-null   object\n",
      " 2   estimate         2756 non-null   int64 \n",
      " 3   margin_of_error  2756 non-null   int64 \n",
      "dtypes: int64(2), object(2)\n",
      "memory usage: 86.3+ KB\n"
     ]
    }
   ],
   "source": [
    "df_s2s_migration_2021.info()"
   ]
  },
  {
   "cell_type": "code",
   "execution_count": 470,
   "id": "22ae3ee4",
   "metadata": {},
   "outputs": [
    {
     "data": {
      "text/plain": [
       "moved_to           0\n",
       "moved_from         0\n",
       "estimate           0\n",
       "margin_of_error    0\n",
       "dtype: int64"
      ]
     },
     "execution_count": 470,
     "metadata": {},
     "output_type": "execute_result"
    }
   ],
   "source": [
    "df_s2s_migration_2021.isna().sum()"
   ]
  },
  {
   "cell_type": "code",
   "execution_count": 471,
   "id": "e8474777",
   "metadata": {},
   "outputs": [],
   "source": [
    "\"\"\"\n",
    "Strip an leading and / or trailing whitespace from the 'moved_to' and 'moved_from' column\n",
    "to ensure that state names can be converted to their respective abbreviations \n",
    "in order to create Plotly Choropleth map visuals\n",
    "\"\"\"\n",
    "\n",
    "columns = [\"moved_to\", \"moved_from\"]\n",
    "df_s2s_migration_2021[columns] = df_s2s_migration_2021[columns].apply(lambda state: state.str.strip())"
   ]
  },
  {
   "cell_type": "markdown",
   "id": "ae71e63b",
   "metadata": {},
   "source": [
    "### Exploratory Data Analysis\n",
    "<a id = \"s2smf_eda\"></a>"
   ]
  },
  {
   "cell_type": "code",
   "execution_count": 472,
   "id": "3d7655f1",
   "metadata": {},
   "outputs": [],
   "source": [
    "# Calculate the total number of individuals that have 'moved_to' and 'moved_from' a particular state\n",
    "moved_to_totals = df_s2s_migration_2021.groupby('moved_to')['estimate'].sum().reset_index()\n",
    "moved_from_totals = df_s2s_migration_2021.groupby('moved_from')['estimate'].sum().reset_index()\n",
    "\n",
    "# Rename the columns\n",
    "moved_to_totals = moved_to_totals.rename(columns = {\"moved_to\": \"state\", \"estimate\": \"moved_to_total\"})\n",
    "moved_from_totals = moved_from_totals.rename(columns = {\"moved_from\": \"state\", \"estimate\": \"moved_from_total\"})"
   ]
  },
  {
   "cell_type": "code",
   "execution_count": 473,
   "id": "643bb210",
   "metadata": {},
   "outputs": [
    {
     "data": {
      "text/html": [
       "<div>\n",
       "<style scoped>\n",
       "    .dataframe tbody tr th:only-of-type {\n",
       "        vertical-align: middle;\n",
       "    }\n",
       "\n",
       "    .dataframe tbody tr th {\n",
       "        vertical-align: top;\n",
       "    }\n",
       "\n",
       "    .dataframe thead th {\n",
       "        text-align: right;\n",
       "    }\n",
       "</style>\n",
       "<table border=\"1\" class=\"dataframe\">\n",
       "  <thead>\n",
       "    <tr style=\"text-align: right;\">\n",
       "      <th></th>\n",
       "      <th>state</th>\n",
       "      <th>moved_to_total</th>\n",
       "    </tr>\n",
       "  </thead>\n",
       "  <tbody>\n",
       "    <tr>\n",
       "      <th>0</th>\n",
       "      <td>Alabama</td>\n",
       "      <td>128262</td>\n",
       "    </tr>\n",
       "    <tr>\n",
       "      <th>1</th>\n",
       "      <td>Alaska</td>\n",
       "      <td>35250</td>\n",
       "    </tr>\n",
       "    <tr>\n",
       "      <th>2</th>\n",
       "      <td>Arizona</td>\n",
       "      <td>299250</td>\n",
       "    </tr>\n",
       "    <tr>\n",
       "      <th>3</th>\n",
       "      <td>Arkansas</td>\n",
       "      <td>81936</td>\n",
       "    </tr>\n",
       "    <tr>\n",
       "      <th>4</th>\n",
       "      <td>California</td>\n",
       "      <td>622102</td>\n",
       "    </tr>\n",
       "  </tbody>\n",
       "</table>\n",
       "</div>"
      ],
      "text/plain": [
       "        state  moved_to_total\n",
       "0     Alabama          128262\n",
       "1      Alaska           35250\n",
       "2     Arizona          299250\n",
       "3    Arkansas           81936\n",
       "4  California          622102"
      ]
     },
     "execution_count": 473,
     "metadata": {},
     "output_type": "execute_result"
    }
   ],
   "source": [
    "moved_to_totals.head()"
   ]
  },
  {
   "cell_type": "code",
   "execution_count": 474,
   "id": "f4714a26",
   "metadata": {},
   "outputs": [
    {
     "data": {
      "text/html": [
       "<div>\n",
       "<style scoped>\n",
       "    .dataframe tbody tr th:only-of-type {\n",
       "        vertical-align: middle;\n",
       "    }\n",
       "\n",
       "    .dataframe tbody tr th {\n",
       "        vertical-align: top;\n",
       "    }\n",
       "\n",
       "    .dataframe thead th {\n",
       "        text-align: right;\n",
       "    }\n",
       "</style>\n",
       "<table border=\"1\" class=\"dataframe\">\n",
       "  <thead>\n",
       "    <tr style=\"text-align: right;\">\n",
       "      <th></th>\n",
       "      <th>state</th>\n",
       "      <th>moved_from_total</th>\n",
       "    </tr>\n",
       "  </thead>\n",
       "  <tbody>\n",
       "    <tr>\n",
       "      <th>0</th>\n",
       "      <td>Alabama</td>\n",
       "      <td>104528</td>\n",
       "    </tr>\n",
       "    <tr>\n",
       "      <th>1</th>\n",
       "      <td>Alaska</td>\n",
       "      <td>42291</td>\n",
       "    </tr>\n",
       "    <tr>\n",
       "      <th>2</th>\n",
       "      <td>Arizona</td>\n",
       "      <td>176783</td>\n",
       "    </tr>\n",
       "    <tr>\n",
       "      <th>3</th>\n",
       "      <td>Arkansas</td>\n",
       "      <td>62338</td>\n",
       "    </tr>\n",
       "    <tr>\n",
       "      <th>4</th>\n",
       "      <td>California</td>\n",
       "      <td>841370</td>\n",
       "    </tr>\n",
       "  </tbody>\n",
       "</table>\n",
       "</div>"
      ],
      "text/plain": [
       "        state  moved_from_total\n",
       "0     Alabama            104528\n",
       "1      Alaska             42291\n",
       "2     Arizona            176783\n",
       "3    Arkansas             62338\n",
       "4  California            841370"
      ]
     },
     "execution_count": 474,
     "metadata": {},
     "output_type": "execute_result"
    }
   ],
   "source": [
    "moved_from_totals.head()"
   ]
  },
  {
   "cell_type": "code",
   "execution_count": 475,
   "id": "e8fdd863",
   "metadata": {
    "scrolled": true
   },
   "outputs": [
    {
     "data": {
      "text/html": [
       "<div>\n",
       "<style scoped>\n",
       "    .dataframe tbody tr th:only-of-type {\n",
       "        vertical-align: middle;\n",
       "    }\n",
       "\n",
       "    .dataframe tbody tr th {\n",
       "        vertical-align: top;\n",
       "    }\n",
       "\n",
       "    .dataframe thead th {\n",
       "        text-align: right;\n",
       "    }\n",
       "</style>\n",
       "<table border=\"1\" class=\"dataframe\">\n",
       "  <thead>\n",
       "    <tr style=\"text-align: right;\">\n",
       "      <th></th>\n",
       "      <th>state</th>\n",
       "      <th>moved_to_total</th>\n",
       "      <th>moved_from_total</th>\n",
       "    </tr>\n",
       "  </thead>\n",
       "  <tbody>\n",
       "    <tr>\n",
       "      <th>0</th>\n",
       "      <td>Alabama</td>\n",
       "      <td>128262</td>\n",
       "      <td>104528</td>\n",
       "    </tr>\n",
       "    <tr>\n",
       "      <th>1</th>\n",
       "      <td>Alaska</td>\n",
       "      <td>35250</td>\n",
       "      <td>42291</td>\n",
       "    </tr>\n",
       "    <tr>\n",
       "      <th>2</th>\n",
       "      <td>Arizona</td>\n",
       "      <td>299250</td>\n",
       "      <td>176783</td>\n",
       "    </tr>\n",
       "    <tr>\n",
       "      <th>3</th>\n",
       "      <td>Arkansas</td>\n",
       "      <td>81936</td>\n",
       "      <td>62338</td>\n",
       "    </tr>\n",
       "    <tr>\n",
       "      <th>4</th>\n",
       "      <td>California</td>\n",
       "      <td>622102</td>\n",
       "      <td>841370</td>\n",
       "    </tr>\n",
       "  </tbody>\n",
       "</table>\n",
       "</div>"
      ],
      "text/plain": [
       "        state  moved_to_total  moved_from_total\n",
       "0     Alabama          128262            104528\n",
       "1      Alaska           35250             42291\n",
       "2     Arizona          299250            176783\n",
       "3    Arkansas           81936             62338\n",
       "4  California          622102            841370"
      ]
     },
     "execution_count": 475,
     "metadata": {},
     "output_type": "execute_result"
    }
   ],
   "source": [
    "# Merge the 2 dataframes so that we may view migration patterns by state\n",
    "net_migration_2021 = pd.merge(moved_to_totals, moved_from_totals, on = \"state\", how = \"outer\").fillna(0)\n",
    "\n",
    "# Convert 'moved_to_total' back to type 'int'\n",
    "net_migration_2021[\"moved_to_total\"]= net_migration_2021[\"moved_to_total\"].astype(\"int\")\n",
    "\n",
    "net_migration_2021.head()"
   ]
  },
  {
   "cell_type": "code",
   "execution_count": 476,
   "id": "c8b8fb82",
   "metadata": {},
   "outputs": [
    {
     "data": {
      "text/html": [
       "<div>\n",
       "<style scoped>\n",
       "    .dataframe tbody tr th:only-of-type {\n",
       "        vertical-align: middle;\n",
       "    }\n",
       "\n",
       "    .dataframe tbody tr th {\n",
       "        vertical-align: top;\n",
       "    }\n",
       "\n",
       "    .dataframe thead th {\n",
       "        text-align: right;\n",
       "    }\n",
       "</style>\n",
       "<table border=\"1\" class=\"dataframe\">\n",
       "  <thead>\n",
       "    <tr style=\"text-align: right;\">\n",
       "      <th></th>\n",
       "      <th>state</th>\n",
       "      <th>moved_to_total</th>\n",
       "      <th>moved_from_total</th>\n",
       "      <th>net_migration</th>\n",
       "    </tr>\n",
       "  </thead>\n",
       "  <tbody>\n",
       "    <tr>\n",
       "      <th>0</th>\n",
       "      <td>Alabama</td>\n",
       "      <td>128262</td>\n",
       "      <td>104528</td>\n",
       "      <td>23734</td>\n",
       "    </tr>\n",
       "    <tr>\n",
       "      <th>1</th>\n",
       "      <td>Alaska</td>\n",
       "      <td>35250</td>\n",
       "      <td>42291</td>\n",
       "      <td>-7041</td>\n",
       "    </tr>\n",
       "    <tr>\n",
       "      <th>2</th>\n",
       "      <td>Arizona</td>\n",
       "      <td>299250</td>\n",
       "      <td>176783</td>\n",
       "      <td>122467</td>\n",
       "    </tr>\n",
       "    <tr>\n",
       "      <th>3</th>\n",
       "      <td>Arkansas</td>\n",
       "      <td>81936</td>\n",
       "      <td>62338</td>\n",
       "      <td>19598</td>\n",
       "    </tr>\n",
       "    <tr>\n",
       "      <th>4</th>\n",
       "      <td>California</td>\n",
       "      <td>622102</td>\n",
       "      <td>841370</td>\n",
       "      <td>-219268</td>\n",
       "    </tr>\n",
       "    <tr>\n",
       "      <th>5</th>\n",
       "      <td>Colorado</td>\n",
       "      <td>276255</td>\n",
       "      <td>246177</td>\n",
       "      <td>30078</td>\n",
       "    </tr>\n",
       "    <tr>\n",
       "      <th>6</th>\n",
       "      <td>Connecticut</td>\n",
       "      <td>123633</td>\n",
       "      <td>97129</td>\n",
       "      <td>26504</td>\n",
       "    </tr>\n",
       "    <tr>\n",
       "      <th>7</th>\n",
       "      <td>Delaware</td>\n",
       "      <td>47315</td>\n",
       "      <td>36691</td>\n",
       "      <td>10624</td>\n",
       "    </tr>\n",
       "    <tr>\n",
       "      <th>8</th>\n",
       "      <td>District of Columbia</td>\n",
       "      <td>65253</td>\n",
       "      <td>62725</td>\n",
       "      <td>2528</td>\n",
       "    </tr>\n",
       "    <tr>\n",
       "      <th>9</th>\n",
       "      <td>Florida</td>\n",
       "      <td>812551</td>\n",
       "      <td>477792</td>\n",
       "      <td>334759</td>\n",
       "    </tr>\n",
       "    <tr>\n",
       "      <th>10</th>\n",
       "      <td>Georgia</td>\n",
       "      <td>337950</td>\n",
       "      <td>238771</td>\n",
       "      <td>99179</td>\n",
       "    </tr>\n",
       "    <tr>\n",
       "      <th>11</th>\n",
       "      <td>Hawaii</td>\n",
       "      <td>84747</td>\n",
       "      <td>59236</td>\n",
       "      <td>25511</td>\n",
       "    </tr>\n",
       "    <tr>\n",
       "      <th>12</th>\n",
       "      <td>Idaho</td>\n",
       "      <td>101693</td>\n",
       "      <td>57073</td>\n",
       "      <td>44620</td>\n",
       "    </tr>\n",
       "    <tr>\n",
       "      <th>13</th>\n",
       "      <td>Illinois</td>\n",
       "      <td>247897</td>\n",
       "      <td>343113</td>\n",
       "      <td>-95216</td>\n",
       "    </tr>\n",
       "    <tr>\n",
       "      <th>14</th>\n",
       "      <td>Indiana</td>\n",
       "      <td>179431</td>\n",
       "      <td>145489</td>\n",
       "      <td>33942</td>\n",
       "    </tr>\n",
       "    <tr>\n",
       "      <th>15</th>\n",
       "      <td>Iowa</td>\n",
       "      <td>86883</td>\n",
       "      <td>72979</td>\n",
       "      <td>13904</td>\n",
       "    </tr>\n",
       "    <tr>\n",
       "      <th>16</th>\n",
       "      <td>Kansas</td>\n",
       "      <td>116025</td>\n",
       "      <td>86141</td>\n",
       "      <td>29884</td>\n",
       "    </tr>\n",
       "    <tr>\n",
       "      <th>17</th>\n",
       "      <td>Kentucky</td>\n",
       "      <td>118976</td>\n",
       "      <td>92939</td>\n",
       "      <td>26037</td>\n",
       "    </tr>\n",
       "    <tr>\n",
       "      <th>18</th>\n",
       "      <td>Louisiana</td>\n",
       "      <td>100131</td>\n",
       "      <td>103485</td>\n",
       "      <td>-3354</td>\n",
       "    </tr>\n",
       "    <tr>\n",
       "      <th>19</th>\n",
       "      <td>Maine</td>\n",
       "      <td>45647</td>\n",
       "      <td>19261</td>\n",
       "      <td>26386</td>\n",
       "    </tr>\n",
       "    <tr>\n",
       "      <th>20</th>\n",
       "      <td>Maryland</td>\n",
       "      <td>192907</td>\n",
       "      <td>185657</td>\n",
       "      <td>7250</td>\n",
       "    </tr>\n",
       "    <tr>\n",
       "      <th>21</th>\n",
       "      <td>Massachusetts</td>\n",
       "      <td>209201</td>\n",
       "      <td>210518</td>\n",
       "      <td>-1317</td>\n",
       "    </tr>\n",
       "    <tr>\n",
       "      <th>22</th>\n",
       "      <td>Michigan</td>\n",
       "      <td>172883</td>\n",
       "      <td>157838</td>\n",
       "      <td>15045</td>\n",
       "    </tr>\n",
       "    <tr>\n",
       "      <th>23</th>\n",
       "      <td>Minnesota</td>\n",
       "      <td>108620</td>\n",
       "      <td>140559</td>\n",
       "      <td>-31939</td>\n",
       "    </tr>\n",
       "    <tr>\n",
       "      <th>24</th>\n",
       "      <td>Mississippi</td>\n",
       "      <td>69919</td>\n",
       "      <td>57113</td>\n",
       "      <td>12806</td>\n",
       "    </tr>\n",
       "    <tr>\n",
       "      <th>25</th>\n",
       "      <td>Missouri</td>\n",
       "      <td>184448</td>\n",
       "      <td>147855</td>\n",
       "      <td>36593</td>\n",
       "    </tr>\n",
       "    <tr>\n",
       "      <th>26</th>\n",
       "      <td>Montana</td>\n",
       "      <td>49065</td>\n",
       "      <td>30360</td>\n",
       "      <td>18705</td>\n",
       "    </tr>\n",
       "    <tr>\n",
       "      <th>27</th>\n",
       "      <td>Nebraska</td>\n",
       "      <td>53411</td>\n",
       "      <td>53116</td>\n",
       "      <td>295</td>\n",
       "    </tr>\n",
       "    <tr>\n",
       "      <th>28</th>\n",
       "      <td>Nevada</td>\n",
       "      <td>144534</td>\n",
       "      <td>92262</td>\n",
       "      <td>52272</td>\n",
       "    </tr>\n",
       "    <tr>\n",
       "      <th>29</th>\n",
       "      <td>New Hampshire</td>\n",
       "      <td>56536</td>\n",
       "      <td>44326</td>\n",
       "      <td>12210</td>\n",
       "    </tr>\n",
       "    <tr>\n",
       "      <th>30</th>\n",
       "      <td>New Jersey</td>\n",
       "      <td>250585</td>\n",
       "      <td>247500</td>\n",
       "      <td>3085</td>\n",
       "    </tr>\n",
       "    <tr>\n",
       "      <th>31</th>\n",
       "      <td>New Mexico</td>\n",
       "      <td>74785</td>\n",
       "      <td>57585</td>\n",
       "      <td>17200</td>\n",
       "    </tr>\n",
       "    <tr>\n",
       "      <th>32</th>\n",
       "      <td>New York</td>\n",
       "      <td>376117</td>\n",
       "      <td>573088</td>\n",
       "      <td>-196971</td>\n",
       "    </tr>\n",
       "    <tr>\n",
       "      <th>33</th>\n",
       "      <td>North Carolina</td>\n",
       "      <td>380559</td>\n",
       "      <td>237786</td>\n",
       "      <td>142773</td>\n",
       "    </tr>\n",
       "    <tr>\n",
       "      <th>34</th>\n",
       "      <td>North Dakota</td>\n",
       "      <td>40043</td>\n",
       "      <td>31390</td>\n",
       "      <td>8653</td>\n",
       "    </tr>\n",
       "    <tr>\n",
       "      <th>35</th>\n",
       "      <td>Ohio</td>\n",
       "      <td>222876</td>\n",
       "      <td>189775</td>\n",
       "      <td>33101</td>\n",
       "    </tr>\n",
       "    <tr>\n",
       "      <th>36</th>\n",
       "      <td>Oklahoma</td>\n",
       "      <td>120582</td>\n",
       "      <td>71218</td>\n",
       "      <td>49364</td>\n",
       "    </tr>\n",
       "    <tr>\n",
       "      <th>37</th>\n",
       "      <td>Oregon</td>\n",
       "      <td>148016</td>\n",
       "      <td>125363</td>\n",
       "      <td>22653</td>\n",
       "    </tr>\n",
       "    <tr>\n",
       "      <th>38</th>\n",
       "      <td>Pennsylvania</td>\n",
       "      <td>311866</td>\n",
       "      <td>264782</td>\n",
       "      <td>47084</td>\n",
       "    </tr>\n",
       "    <tr>\n",
       "      <th>39</th>\n",
       "      <td>Puerto Rico</td>\n",
       "      <td>30239</td>\n",
       "      <td>54669</td>\n",
       "      <td>-24430</td>\n",
       "    </tr>\n",
       "    <tr>\n",
       "      <th>40</th>\n",
       "      <td>Rhode Island</td>\n",
       "      <td>48708</td>\n",
       "      <td>32047</td>\n",
       "      <td>16661</td>\n",
       "    </tr>\n",
       "    <tr>\n",
       "      <th>41</th>\n",
       "      <td>South Carolina</td>\n",
       "      <td>213407</td>\n",
       "      <td>117159</td>\n",
       "      <td>96248</td>\n",
       "    </tr>\n",
       "    <tr>\n",
       "      <th>42</th>\n",
       "      <td>South Dakota</td>\n",
       "      <td>29266</td>\n",
       "      <td>25910</td>\n",
       "      <td>3356</td>\n",
       "    </tr>\n",
       "    <tr>\n",
       "      <th>43</th>\n",
       "      <td>Tennessee</td>\n",
       "      <td>241974</td>\n",
       "      <td>151814</td>\n",
       "      <td>90160</td>\n",
       "    </tr>\n",
       "    <tr>\n",
       "      <th>44</th>\n",
       "      <td>Texas</td>\n",
       "      <td>768238</td>\n",
       "      <td>448673</td>\n",
       "      <td>319565</td>\n",
       "    </tr>\n",
       "    <tr>\n",
       "      <th>45</th>\n",
       "      <td>Utah</td>\n",
       "      <td>118725</td>\n",
       "      <td>78976</td>\n",
       "      <td>39749</td>\n",
       "    </tr>\n",
       "    <tr>\n",
       "      <th>46</th>\n",
       "      <td>Vermont</td>\n",
       "      <td>33869</td>\n",
       "      <td>17261</td>\n",
       "      <td>16608</td>\n",
       "    </tr>\n",
       "    <tr>\n",
       "      <th>47</th>\n",
       "      <td>Virginia</td>\n",
       "      <td>317028</td>\n",
       "      <td>277019</td>\n",
       "      <td>40009</td>\n",
       "    </tr>\n",
       "    <tr>\n",
       "      <th>48</th>\n",
       "      <td>Washington</td>\n",
       "      <td>273045</td>\n",
       "      <td>269344</td>\n",
       "      <td>3701</td>\n",
       "    </tr>\n",
       "    <tr>\n",
       "      <th>49</th>\n",
       "      <td>West Virginia</td>\n",
       "      <td>45994</td>\n",
       "      <td>36026</td>\n",
       "      <td>9968</td>\n",
       "    </tr>\n",
       "    <tr>\n",
       "      <th>50</th>\n",
       "      <td>Wisconsin</td>\n",
       "      <td>136770</td>\n",
       "      <td>113275</td>\n",
       "      <td>23495</td>\n",
       "    </tr>\n",
       "    <tr>\n",
       "      <th>51</th>\n",
       "      <td>Wyoming</td>\n",
       "      <td>29330</td>\n",
       "      <td>35311</td>\n",
       "      <td>-5981</td>\n",
       "    </tr>\n",
       "    <tr>\n",
       "      <th>52</th>\n",
       "      <td>Foreign Country</td>\n",
       "      <td>0</td>\n",
       "      <td>1403260</td>\n",
       "      <td>-1403260</td>\n",
       "    </tr>\n",
       "    <tr>\n",
       "      <th>53</th>\n",
       "      <td>U.S. Island Area</td>\n",
       "      <td>0</td>\n",
       "      <td>19587</td>\n",
       "      <td>-19587</td>\n",
       "    </tr>\n",
       "  </tbody>\n",
       "</table>\n",
       "</div>"
      ],
      "text/plain": [
       "                   state  moved_to_total  moved_from_total  net_migration\n",
       "0                Alabama          128262            104528          23734\n",
       "1                 Alaska           35250             42291          -7041\n",
       "2                Arizona          299250            176783         122467\n",
       "3               Arkansas           81936             62338          19598\n",
       "4             California          622102            841370        -219268\n",
       "5               Colorado          276255            246177          30078\n",
       "6            Connecticut          123633             97129          26504\n",
       "7               Delaware           47315             36691          10624\n",
       "8   District of Columbia           65253             62725           2528\n",
       "9                Florida          812551            477792         334759\n",
       "10               Georgia          337950            238771          99179\n",
       "11                Hawaii           84747             59236          25511\n",
       "12                 Idaho          101693             57073          44620\n",
       "13              Illinois          247897            343113         -95216\n",
       "14               Indiana          179431            145489          33942\n",
       "15                  Iowa           86883             72979          13904\n",
       "16                Kansas          116025             86141          29884\n",
       "17              Kentucky          118976             92939          26037\n",
       "18             Louisiana          100131            103485          -3354\n",
       "19                 Maine           45647             19261          26386\n",
       "20              Maryland          192907            185657           7250\n",
       "21         Massachusetts          209201            210518          -1317\n",
       "22              Michigan          172883            157838          15045\n",
       "23             Minnesota          108620            140559         -31939\n",
       "24           Mississippi           69919             57113          12806\n",
       "25              Missouri          184448            147855          36593\n",
       "26               Montana           49065             30360          18705\n",
       "27              Nebraska           53411             53116            295\n",
       "28                Nevada          144534             92262          52272\n",
       "29         New Hampshire           56536             44326          12210\n",
       "30            New Jersey          250585            247500           3085\n",
       "31            New Mexico           74785             57585          17200\n",
       "32              New York          376117            573088        -196971\n",
       "33        North Carolina          380559            237786         142773\n",
       "34          North Dakota           40043             31390           8653\n",
       "35                  Ohio          222876            189775          33101\n",
       "36              Oklahoma          120582             71218          49364\n",
       "37                Oregon          148016            125363          22653\n",
       "38          Pennsylvania          311866            264782          47084\n",
       "39           Puerto Rico           30239             54669         -24430\n",
       "40          Rhode Island           48708             32047          16661\n",
       "41        South Carolina          213407            117159          96248\n",
       "42          South Dakota           29266             25910           3356\n",
       "43             Tennessee          241974            151814          90160\n",
       "44                 Texas          768238            448673         319565\n",
       "45                  Utah          118725             78976          39749\n",
       "46               Vermont           33869             17261          16608\n",
       "47              Virginia          317028            277019          40009\n",
       "48            Washington          273045            269344           3701\n",
       "49         West Virginia           45994             36026           9968\n",
       "50             Wisconsin          136770            113275          23495\n",
       "51               Wyoming           29330             35311          -5981\n",
       "52       Foreign Country               0           1403260       -1403260\n",
       "53      U.S. Island Area               0             19587         -19587"
      ]
     },
     "execution_count": 476,
     "metadata": {},
     "output_type": "execute_result"
    }
   ],
   "source": [
    "net_migration_2021[\"net_migration\"] = net_migration_2021[\"moved_to_total\"] - net_migration_2021[\"moved_from_total\"]\n",
    "\n",
    "# Note that the last 2 rows of the dataframe reflect migration from: 'Foreign Country' and 'U.S. Island Area'\n",
    "# These 2 rows will be dropped from the dataframe as we will focus on net migration within the continental U.S.\n",
    "net_migration_2021"
   ]
  },
  {
   "cell_type": "code",
   "execution_count": 477,
   "id": "d09b9460",
   "metadata": {},
   "outputs": [],
   "source": [
    "# Drop the last 2 rows from the dataframe\n",
    "net_migration_2021.drop(net_migration_2021.tail(2).index,inplace=True)"
   ]
  },
  {
   "cell_type": "code",
   "execution_count": 478,
   "id": "8417d584",
   "metadata": {},
   "outputs": [
    {
     "data": {
      "text/html": [
       "<div>\n",
       "<style scoped>\n",
       "    .dataframe tbody tr th:only-of-type {\n",
       "        vertical-align: middle;\n",
       "    }\n",
       "\n",
       "    .dataframe tbody tr th {\n",
       "        vertical-align: top;\n",
       "    }\n",
       "\n",
       "    .dataframe thead th {\n",
       "        text-align: right;\n",
       "    }\n",
       "</style>\n",
       "<table border=\"1\" class=\"dataframe\">\n",
       "  <thead>\n",
       "    <tr style=\"text-align: right;\">\n",
       "      <th></th>\n",
       "      <th>state</th>\n",
       "      <th>moved_to_total</th>\n",
       "      <th>moved_from_total</th>\n",
       "      <th>net_migration</th>\n",
       "    </tr>\n",
       "  </thead>\n",
       "  <tbody>\n",
       "    <tr>\n",
       "      <th>47</th>\n",
       "      <td>Virginia</td>\n",
       "      <td>317028</td>\n",
       "      <td>277019</td>\n",
       "      <td>40009</td>\n",
       "    </tr>\n",
       "    <tr>\n",
       "      <th>48</th>\n",
       "      <td>Washington</td>\n",
       "      <td>273045</td>\n",
       "      <td>269344</td>\n",
       "      <td>3701</td>\n",
       "    </tr>\n",
       "    <tr>\n",
       "      <th>49</th>\n",
       "      <td>West Virginia</td>\n",
       "      <td>45994</td>\n",
       "      <td>36026</td>\n",
       "      <td>9968</td>\n",
       "    </tr>\n",
       "    <tr>\n",
       "      <th>50</th>\n",
       "      <td>Wisconsin</td>\n",
       "      <td>136770</td>\n",
       "      <td>113275</td>\n",
       "      <td>23495</td>\n",
       "    </tr>\n",
       "    <tr>\n",
       "      <th>51</th>\n",
       "      <td>Wyoming</td>\n",
       "      <td>29330</td>\n",
       "      <td>35311</td>\n",
       "      <td>-5981</td>\n",
       "    </tr>\n",
       "  </tbody>\n",
       "</table>\n",
       "</div>"
      ],
      "text/plain": [
       "            state  moved_to_total  moved_from_total  net_migration\n",
       "47       Virginia          317028            277019          40009\n",
       "48     Washington          273045            269344           3701\n",
       "49  West Virginia           45994             36026           9968\n",
       "50      Wisconsin          136770            113275          23495\n",
       "51        Wyoming           29330             35311          -5981"
      ]
     },
     "execution_count": 478,
     "metadata": {},
     "output_type": "execute_result"
    }
   ],
   "source": [
    "net_migration_2021.tail()"
   ]
  },
  {
   "cell_type": "code",
   "execution_count": 479,
   "id": "c00acca4",
   "metadata": {},
   "outputs": [],
   "source": [
    "# Create a dictionary to convert 'state_fips_codes' to their respective abbreviation\n",
    "state_abbrv_dict = {\n",
    "    \"Alaska\": \"AK\"\n",
    "    , \"Alabama\": \"AL\"\n",
    "    , \"Arkansas\": \"AR\"\n",
    "    , \"Arizona\": \"AZ\"\n",
    "    , \"California\": \"CA\"\n",
    "    , 'Colorado': \"CO\"\n",
    "    , \"Connecticut\": \"CT\"\n",
    "    , \"District of Columbia\": \"DC\"\n",
    "    , \"Delaware\": \"DE\"\n",
    "    , \"Florida\": \"FL\"\n",
    "    , \"Georgia\": \"GA\"\n",
    "    , \"Guam\": \"GU\"\n",
    "    , \"Hawaii\": \"HI\"\n",
    "    , \"Iowa\": \"IA\"\n",
    "    , \"Idaho\": \"ID\"\n",
    "    , \"Illinois\": \"IL\"\n",
    "    , \"Indiana\": \"IN\"\n",
    "    , \"Kansas\": \"KS\"\n",
    "    , \"Kentucky\": \"KY\"\n",
    "    , \"Louisiana\": \"LA\"\n",
    "    , \"Massachusetts\": \"MA\"\n",
    "    , \"Maryland\": \"MD\"\n",
    "    , \"Maine\": \"ME\"\n",
    "    , \"Michigan\": \"MI\"\n",
    "    , \"Minnesota\": \"MN\"\n",
    "    , \"Missouri\": \"MO\"\n",
    "    , \"Mississippi\": \"MS\"\n",
    "    , \"Montana\": \"MT\"\n",
    "    , \"North Carolina\": \"NC\"\n",
    "    , \"North Dakota\": \"ND\"\n",
    "    , \"Nebraska\": \"NE\"\n",
    "    , \"New Hampshire\": \"NH\"\n",
    "    , \"New Jersey\": \"NJ\"\n",
    "    , \"New Mexico\": \"NM\"\n",
    "    , \"Nevada\": \"NV\"\n",
    "    , \"New York\": \"NY\"\n",
    "    , \"Ohio\": \"OH\"\n",
    "    , \"Oklahoma\": \"OK\"\n",
    "    , \"Oregon\": \"OR\"\n",
    "    , \"Pennsylvania\": \"PA\"\n",
    "    , \"Puerto Rico\": \"PR\"\n",
    "    , \"Rhode Island\": \"RI\"\n",
    "    , \"South Carolina\": \"SC\"\n",
    "    , \"South Dakota\": \"SD\"\n",
    "    , \"Tennessee\": \"TN\"\n",
    "    , \"Texas\": \"TX\"\n",
    "    , \"Utah\": \"UT\"\n",
    "    , \"Virginia\": \"VA\"\n",
    "    , \"Virgin Islands\": \"VI\"\n",
    "    , \"Vermont\": \"VT\"\n",
    "    , \"Washington\": \"WA\"\n",
    "    , \"Wisconsin\": \"WI\"\n",
    "    , \"West Virginia\": \"WV\"\n",
    "    , \"Wyoming\": \"WY\"\n",
    "    }"
   ]
  },
  {
   "cell_type": "code",
   "execution_count": 480,
   "id": "ef2fe10d",
   "metadata": {
    "scrolled": true
   },
   "outputs": [
    {
     "data": {
      "text/html": [
       "<div>\n",
       "<style scoped>\n",
       "    .dataframe tbody tr th:only-of-type {\n",
       "        vertical-align: middle;\n",
       "    }\n",
       "\n",
       "    .dataframe tbody tr th {\n",
       "        vertical-align: top;\n",
       "    }\n",
       "\n",
       "    .dataframe thead th {\n",
       "        text-align: right;\n",
       "    }\n",
       "</style>\n",
       "<table border=\"1\" class=\"dataframe\">\n",
       "  <thead>\n",
       "    <tr style=\"text-align: right;\">\n",
       "      <th></th>\n",
       "      <th>state</th>\n",
       "      <th>moved_to_total</th>\n",
       "      <th>moved_from_total</th>\n",
       "      <th>net_migration</th>\n",
       "    </tr>\n",
       "  </thead>\n",
       "  <tbody>\n",
       "    <tr>\n",
       "      <th>0</th>\n",
       "      <td>AL</td>\n",
       "      <td>128262</td>\n",
       "      <td>104528</td>\n",
       "      <td>23734</td>\n",
       "    </tr>\n",
       "    <tr>\n",
       "      <th>1</th>\n",
       "      <td>AK</td>\n",
       "      <td>35250</td>\n",
       "      <td>42291</td>\n",
       "      <td>-7041</td>\n",
       "    </tr>\n",
       "    <tr>\n",
       "      <th>2</th>\n",
       "      <td>AZ</td>\n",
       "      <td>299250</td>\n",
       "      <td>176783</td>\n",
       "      <td>122467</td>\n",
       "    </tr>\n",
       "    <tr>\n",
       "      <th>3</th>\n",
       "      <td>AR</td>\n",
       "      <td>81936</td>\n",
       "      <td>62338</td>\n",
       "      <td>19598</td>\n",
       "    </tr>\n",
       "    <tr>\n",
       "      <th>4</th>\n",
       "      <td>CA</td>\n",
       "      <td>622102</td>\n",
       "      <td>841370</td>\n",
       "      <td>-219268</td>\n",
       "    </tr>\n",
       "    <tr>\n",
       "      <th>5</th>\n",
       "      <td>CO</td>\n",
       "      <td>276255</td>\n",
       "      <td>246177</td>\n",
       "      <td>30078</td>\n",
       "    </tr>\n",
       "    <tr>\n",
       "      <th>6</th>\n",
       "      <td>CT</td>\n",
       "      <td>123633</td>\n",
       "      <td>97129</td>\n",
       "      <td>26504</td>\n",
       "    </tr>\n",
       "    <tr>\n",
       "      <th>7</th>\n",
       "      <td>DE</td>\n",
       "      <td>47315</td>\n",
       "      <td>36691</td>\n",
       "      <td>10624</td>\n",
       "    </tr>\n",
       "    <tr>\n",
       "      <th>8</th>\n",
       "      <td>DC</td>\n",
       "      <td>65253</td>\n",
       "      <td>62725</td>\n",
       "      <td>2528</td>\n",
       "    </tr>\n",
       "    <tr>\n",
       "      <th>9</th>\n",
       "      <td>FL</td>\n",
       "      <td>812551</td>\n",
       "      <td>477792</td>\n",
       "      <td>334759</td>\n",
       "    </tr>\n",
       "    <tr>\n",
       "      <th>10</th>\n",
       "      <td>GA</td>\n",
       "      <td>337950</td>\n",
       "      <td>238771</td>\n",
       "      <td>99179</td>\n",
       "    </tr>\n",
       "    <tr>\n",
       "      <th>11</th>\n",
       "      <td>HI</td>\n",
       "      <td>84747</td>\n",
       "      <td>59236</td>\n",
       "      <td>25511</td>\n",
       "    </tr>\n",
       "    <tr>\n",
       "      <th>12</th>\n",
       "      <td>ID</td>\n",
       "      <td>101693</td>\n",
       "      <td>57073</td>\n",
       "      <td>44620</td>\n",
       "    </tr>\n",
       "    <tr>\n",
       "      <th>13</th>\n",
       "      <td>IL</td>\n",
       "      <td>247897</td>\n",
       "      <td>343113</td>\n",
       "      <td>-95216</td>\n",
       "    </tr>\n",
       "    <tr>\n",
       "      <th>14</th>\n",
       "      <td>IN</td>\n",
       "      <td>179431</td>\n",
       "      <td>145489</td>\n",
       "      <td>33942</td>\n",
       "    </tr>\n",
       "    <tr>\n",
       "      <th>15</th>\n",
       "      <td>IA</td>\n",
       "      <td>86883</td>\n",
       "      <td>72979</td>\n",
       "      <td>13904</td>\n",
       "    </tr>\n",
       "    <tr>\n",
       "      <th>16</th>\n",
       "      <td>KS</td>\n",
       "      <td>116025</td>\n",
       "      <td>86141</td>\n",
       "      <td>29884</td>\n",
       "    </tr>\n",
       "    <tr>\n",
       "      <th>17</th>\n",
       "      <td>KY</td>\n",
       "      <td>118976</td>\n",
       "      <td>92939</td>\n",
       "      <td>26037</td>\n",
       "    </tr>\n",
       "    <tr>\n",
       "      <th>18</th>\n",
       "      <td>LA</td>\n",
       "      <td>100131</td>\n",
       "      <td>103485</td>\n",
       "      <td>-3354</td>\n",
       "    </tr>\n",
       "    <tr>\n",
       "      <th>19</th>\n",
       "      <td>ME</td>\n",
       "      <td>45647</td>\n",
       "      <td>19261</td>\n",
       "      <td>26386</td>\n",
       "    </tr>\n",
       "    <tr>\n",
       "      <th>20</th>\n",
       "      <td>MD</td>\n",
       "      <td>192907</td>\n",
       "      <td>185657</td>\n",
       "      <td>7250</td>\n",
       "    </tr>\n",
       "    <tr>\n",
       "      <th>21</th>\n",
       "      <td>MA</td>\n",
       "      <td>209201</td>\n",
       "      <td>210518</td>\n",
       "      <td>-1317</td>\n",
       "    </tr>\n",
       "    <tr>\n",
       "      <th>22</th>\n",
       "      <td>MI</td>\n",
       "      <td>172883</td>\n",
       "      <td>157838</td>\n",
       "      <td>15045</td>\n",
       "    </tr>\n",
       "    <tr>\n",
       "      <th>23</th>\n",
       "      <td>MN</td>\n",
       "      <td>108620</td>\n",
       "      <td>140559</td>\n",
       "      <td>-31939</td>\n",
       "    </tr>\n",
       "    <tr>\n",
       "      <th>24</th>\n",
       "      <td>MS</td>\n",
       "      <td>69919</td>\n",
       "      <td>57113</td>\n",
       "      <td>12806</td>\n",
       "    </tr>\n",
       "    <tr>\n",
       "      <th>25</th>\n",
       "      <td>MO</td>\n",
       "      <td>184448</td>\n",
       "      <td>147855</td>\n",
       "      <td>36593</td>\n",
       "    </tr>\n",
       "    <tr>\n",
       "      <th>26</th>\n",
       "      <td>MT</td>\n",
       "      <td>49065</td>\n",
       "      <td>30360</td>\n",
       "      <td>18705</td>\n",
       "    </tr>\n",
       "    <tr>\n",
       "      <th>27</th>\n",
       "      <td>NE</td>\n",
       "      <td>53411</td>\n",
       "      <td>53116</td>\n",
       "      <td>295</td>\n",
       "    </tr>\n",
       "    <tr>\n",
       "      <th>28</th>\n",
       "      <td>NV</td>\n",
       "      <td>144534</td>\n",
       "      <td>92262</td>\n",
       "      <td>52272</td>\n",
       "    </tr>\n",
       "    <tr>\n",
       "      <th>29</th>\n",
       "      <td>NH</td>\n",
       "      <td>56536</td>\n",
       "      <td>44326</td>\n",
       "      <td>12210</td>\n",
       "    </tr>\n",
       "    <tr>\n",
       "      <th>30</th>\n",
       "      <td>NJ</td>\n",
       "      <td>250585</td>\n",
       "      <td>247500</td>\n",
       "      <td>3085</td>\n",
       "    </tr>\n",
       "    <tr>\n",
       "      <th>31</th>\n",
       "      <td>NM</td>\n",
       "      <td>74785</td>\n",
       "      <td>57585</td>\n",
       "      <td>17200</td>\n",
       "    </tr>\n",
       "    <tr>\n",
       "      <th>32</th>\n",
       "      <td>NY</td>\n",
       "      <td>376117</td>\n",
       "      <td>573088</td>\n",
       "      <td>-196971</td>\n",
       "    </tr>\n",
       "    <tr>\n",
       "      <th>33</th>\n",
       "      <td>NC</td>\n",
       "      <td>380559</td>\n",
       "      <td>237786</td>\n",
       "      <td>142773</td>\n",
       "    </tr>\n",
       "    <tr>\n",
       "      <th>34</th>\n",
       "      <td>ND</td>\n",
       "      <td>40043</td>\n",
       "      <td>31390</td>\n",
       "      <td>8653</td>\n",
       "    </tr>\n",
       "    <tr>\n",
       "      <th>35</th>\n",
       "      <td>OH</td>\n",
       "      <td>222876</td>\n",
       "      <td>189775</td>\n",
       "      <td>33101</td>\n",
       "    </tr>\n",
       "    <tr>\n",
       "      <th>36</th>\n",
       "      <td>OK</td>\n",
       "      <td>120582</td>\n",
       "      <td>71218</td>\n",
       "      <td>49364</td>\n",
       "    </tr>\n",
       "    <tr>\n",
       "      <th>37</th>\n",
       "      <td>OR</td>\n",
       "      <td>148016</td>\n",
       "      <td>125363</td>\n",
       "      <td>22653</td>\n",
       "    </tr>\n",
       "    <tr>\n",
       "      <th>38</th>\n",
       "      <td>PA</td>\n",
       "      <td>311866</td>\n",
       "      <td>264782</td>\n",
       "      <td>47084</td>\n",
       "    </tr>\n",
       "    <tr>\n",
       "      <th>39</th>\n",
       "      <td>PR</td>\n",
       "      <td>30239</td>\n",
       "      <td>54669</td>\n",
       "      <td>-24430</td>\n",
       "    </tr>\n",
       "    <tr>\n",
       "      <th>40</th>\n",
       "      <td>RI</td>\n",
       "      <td>48708</td>\n",
       "      <td>32047</td>\n",
       "      <td>16661</td>\n",
       "    </tr>\n",
       "    <tr>\n",
       "      <th>41</th>\n",
       "      <td>SC</td>\n",
       "      <td>213407</td>\n",
       "      <td>117159</td>\n",
       "      <td>96248</td>\n",
       "    </tr>\n",
       "    <tr>\n",
       "      <th>42</th>\n",
       "      <td>SD</td>\n",
       "      <td>29266</td>\n",
       "      <td>25910</td>\n",
       "      <td>3356</td>\n",
       "    </tr>\n",
       "    <tr>\n",
       "      <th>43</th>\n",
       "      <td>TN</td>\n",
       "      <td>241974</td>\n",
       "      <td>151814</td>\n",
       "      <td>90160</td>\n",
       "    </tr>\n",
       "    <tr>\n",
       "      <th>44</th>\n",
       "      <td>TX</td>\n",
       "      <td>768238</td>\n",
       "      <td>448673</td>\n",
       "      <td>319565</td>\n",
       "    </tr>\n",
       "    <tr>\n",
       "      <th>45</th>\n",
       "      <td>UT</td>\n",
       "      <td>118725</td>\n",
       "      <td>78976</td>\n",
       "      <td>39749</td>\n",
       "    </tr>\n",
       "    <tr>\n",
       "      <th>46</th>\n",
       "      <td>VT</td>\n",
       "      <td>33869</td>\n",
       "      <td>17261</td>\n",
       "      <td>16608</td>\n",
       "    </tr>\n",
       "    <tr>\n",
       "      <th>47</th>\n",
       "      <td>VA</td>\n",
       "      <td>317028</td>\n",
       "      <td>277019</td>\n",
       "      <td>40009</td>\n",
       "    </tr>\n",
       "    <tr>\n",
       "      <th>48</th>\n",
       "      <td>WA</td>\n",
       "      <td>273045</td>\n",
       "      <td>269344</td>\n",
       "      <td>3701</td>\n",
       "    </tr>\n",
       "    <tr>\n",
       "      <th>49</th>\n",
       "      <td>WV</td>\n",
       "      <td>45994</td>\n",
       "      <td>36026</td>\n",
       "      <td>9968</td>\n",
       "    </tr>\n",
       "    <tr>\n",
       "      <th>50</th>\n",
       "      <td>WI</td>\n",
       "      <td>136770</td>\n",
       "      <td>113275</td>\n",
       "      <td>23495</td>\n",
       "    </tr>\n",
       "    <tr>\n",
       "      <th>51</th>\n",
       "      <td>WY</td>\n",
       "      <td>29330</td>\n",
       "      <td>35311</td>\n",
       "      <td>-5981</td>\n",
       "    </tr>\n",
       "  </tbody>\n",
       "</table>\n",
       "</div>"
      ],
      "text/plain": [
       "   state  moved_to_total  moved_from_total  net_migration\n",
       "0     AL          128262            104528          23734\n",
       "1     AK           35250             42291          -7041\n",
       "2     AZ          299250            176783         122467\n",
       "3     AR           81936             62338          19598\n",
       "4     CA          622102            841370        -219268\n",
       "5     CO          276255            246177          30078\n",
       "6     CT          123633             97129          26504\n",
       "7     DE           47315             36691          10624\n",
       "8     DC           65253             62725           2528\n",
       "9     FL          812551            477792         334759\n",
       "10    GA          337950            238771          99179\n",
       "11    HI           84747             59236          25511\n",
       "12    ID          101693             57073          44620\n",
       "13    IL          247897            343113         -95216\n",
       "14    IN          179431            145489          33942\n",
       "15    IA           86883             72979          13904\n",
       "16    KS          116025             86141          29884\n",
       "17    KY          118976             92939          26037\n",
       "18    LA          100131            103485          -3354\n",
       "19    ME           45647             19261          26386\n",
       "20    MD          192907            185657           7250\n",
       "21    MA          209201            210518          -1317\n",
       "22    MI          172883            157838          15045\n",
       "23    MN          108620            140559         -31939\n",
       "24    MS           69919             57113          12806\n",
       "25    MO          184448            147855          36593\n",
       "26    MT           49065             30360          18705\n",
       "27    NE           53411             53116            295\n",
       "28    NV          144534             92262          52272\n",
       "29    NH           56536             44326          12210\n",
       "30    NJ          250585            247500           3085\n",
       "31    NM           74785             57585          17200\n",
       "32    NY          376117            573088        -196971\n",
       "33    NC          380559            237786         142773\n",
       "34    ND           40043             31390           8653\n",
       "35    OH          222876            189775          33101\n",
       "36    OK          120582             71218          49364\n",
       "37    OR          148016            125363          22653\n",
       "38    PA          311866            264782          47084\n",
       "39    PR           30239             54669         -24430\n",
       "40    RI           48708             32047          16661\n",
       "41    SC          213407            117159          96248\n",
       "42    SD           29266             25910           3356\n",
       "43    TN          241974            151814          90160\n",
       "44    TX          768238            448673         319565\n",
       "45    UT          118725             78976          39749\n",
       "46    VT           33869             17261          16608\n",
       "47    VA          317028            277019          40009\n",
       "48    WA          273045            269344           3701\n",
       "49    WV           45994             36026           9968\n",
       "50    WI          136770            113275          23495\n",
       "51    WY           29330             35311          -5981"
      ]
     },
     "execution_count": 480,
     "metadata": {},
     "output_type": "execute_result"
    }
   ],
   "source": [
    "# Create a new 'state' field based on the 'state_fips_code'\n",
    "net_migration_2021[\"state\"] = net_migration_2021[\"state\"].map(state_abbrv_dict)\n",
    "net_migration_2021"
   ]
  },
  {
   "cell_type": "code",
   "execution_count": 575,
   "id": "e3d1b9d7",
   "metadata": {},
   "outputs": [
    {
     "data": {
      "application/vnd.plotly.v1+json": {
       "config": {
        "plotlyServerURL": "https://plot.ly"
       },
       "data": [
        {
         "coloraxis": "coloraxis",
         "geo": "geo",
         "hovertemplate": "state=%{location}<br>Net Migration=%{z}<extra></extra>",
         "locationmode": "USA-states",
         "locations": [
          "AL",
          "AK",
          "AZ",
          "AR",
          "CA",
          "CO",
          "CT",
          "DE",
          "DC",
          "FL",
          "GA",
          "HI",
          "ID",
          "IL",
          "IN",
          "IA",
          "KS",
          "KY",
          "LA",
          "ME",
          "MD",
          "MA",
          "MI",
          "MN",
          "MS",
          "MO",
          "MT",
          "NE",
          "NV",
          "NH",
          "NJ",
          "NM",
          "NY",
          "NC",
          "ND",
          "OH",
          "OK",
          "OR",
          "PA",
          "PR",
          "RI",
          "SC",
          "SD",
          "TN",
          "TX",
          "UT",
          "VT",
          "VA",
          "WA",
          "WV",
          "WI",
          "WY"
         ],
         "name": "",
         "type": "choropleth",
         "z": [
          23734,
          -7041,
          122467,
          19598,
          -219268,
          30078,
          26504,
          10624,
          2528,
          334759,
          99179,
          25511,
          44620,
          -95216,
          33942,
          13904,
          29884,
          26037,
          -3354,
          26386,
          7250,
          -1317,
          15045,
          -31939,
          12806,
          36593,
          18705,
          295,
          52272,
          12210,
          3085,
          17200,
          -196971,
          142773,
          8653,
          33101,
          49364,
          22653,
          47084,
          -24430,
          16661,
          96248,
          3356,
          90160,
          319565,
          39749,
          16608,
          40009,
          3701,
          9968,
          23495,
          -5981
         ]
        }
       ],
       "layout": {
        "coloraxis": {
         "colorbar": {
          "title": {
           "text": "Net Migration"
          }
         },
         "colorscale": [
          [
           0,
           "#440154"
          ],
          [
           0.1111111111111111,
           "#482878"
          ],
          [
           0.2222222222222222,
           "#3e4989"
          ],
          [
           0.3333333333333333,
           "#31688e"
          ],
          [
           0.4444444444444444,
           "#26828e"
          ],
          [
           0.5555555555555556,
           "#1f9e89"
          ],
          [
           0.6666666666666666,
           "#35b779"
          ],
          [
           0.7777777777777778,
           "#6ece58"
          ],
          [
           0.8888888888888888,
           "#b5de2b"
          ],
          [
           1,
           "#fde725"
          ]
         ]
        },
        "geo": {
         "center": {},
         "domain": {
          "x": [
           0,
           1
          ],
          "y": [
           0,
           1
          ]
         },
         "scope": "usa"
        },
        "legend": {
         "tracegroupgap": 0
        },
        "margin": {
         "t": 60
        },
        "template": {
         "data": {
          "bar": [
           {
            "error_x": {
             "color": "#2a3f5f"
            },
            "error_y": {
             "color": "#2a3f5f"
            },
            "marker": {
             "line": {
              "color": "#E5ECF6",
              "width": 0.5
             },
             "pattern": {
              "fillmode": "overlay",
              "size": 10,
              "solidity": 0.2
             }
            },
            "type": "bar"
           }
          ],
          "barpolar": [
           {
            "marker": {
             "line": {
              "color": "#E5ECF6",
              "width": 0.5
             },
             "pattern": {
              "fillmode": "overlay",
              "size": 10,
              "solidity": 0.2
             }
            },
            "type": "barpolar"
           }
          ],
          "carpet": [
           {
            "aaxis": {
             "endlinecolor": "#2a3f5f",
             "gridcolor": "white",
             "linecolor": "white",
             "minorgridcolor": "white",
             "startlinecolor": "#2a3f5f"
            },
            "baxis": {
             "endlinecolor": "#2a3f5f",
             "gridcolor": "white",
             "linecolor": "white",
             "minorgridcolor": "white",
             "startlinecolor": "#2a3f5f"
            },
            "type": "carpet"
           }
          ],
          "choropleth": [
           {
            "colorbar": {
             "outlinewidth": 0,
             "ticks": ""
            },
            "type": "choropleth"
           }
          ],
          "contour": [
           {
            "colorbar": {
             "outlinewidth": 0,
             "ticks": ""
            },
            "colorscale": [
             [
              0,
              "#0d0887"
             ],
             [
              0.1111111111111111,
              "#46039f"
             ],
             [
              0.2222222222222222,
              "#7201a8"
             ],
             [
              0.3333333333333333,
              "#9c179e"
             ],
             [
              0.4444444444444444,
              "#bd3786"
             ],
             [
              0.5555555555555556,
              "#d8576b"
             ],
             [
              0.6666666666666666,
              "#ed7953"
             ],
             [
              0.7777777777777778,
              "#fb9f3a"
             ],
             [
              0.8888888888888888,
              "#fdca26"
             ],
             [
              1,
              "#f0f921"
             ]
            ],
            "type": "contour"
           }
          ],
          "contourcarpet": [
           {
            "colorbar": {
             "outlinewidth": 0,
             "ticks": ""
            },
            "type": "contourcarpet"
           }
          ],
          "heatmap": [
           {
            "colorbar": {
             "outlinewidth": 0,
             "ticks": ""
            },
            "colorscale": [
             [
              0,
              "#0d0887"
             ],
             [
              0.1111111111111111,
              "#46039f"
             ],
             [
              0.2222222222222222,
              "#7201a8"
             ],
             [
              0.3333333333333333,
              "#9c179e"
             ],
             [
              0.4444444444444444,
              "#bd3786"
             ],
             [
              0.5555555555555556,
              "#d8576b"
             ],
             [
              0.6666666666666666,
              "#ed7953"
             ],
             [
              0.7777777777777778,
              "#fb9f3a"
             ],
             [
              0.8888888888888888,
              "#fdca26"
             ],
             [
              1,
              "#f0f921"
             ]
            ],
            "type": "heatmap"
           }
          ],
          "heatmapgl": [
           {
            "colorbar": {
             "outlinewidth": 0,
             "ticks": ""
            },
            "colorscale": [
             [
              0,
              "#0d0887"
             ],
             [
              0.1111111111111111,
              "#46039f"
             ],
             [
              0.2222222222222222,
              "#7201a8"
             ],
             [
              0.3333333333333333,
              "#9c179e"
             ],
             [
              0.4444444444444444,
              "#bd3786"
             ],
             [
              0.5555555555555556,
              "#d8576b"
             ],
             [
              0.6666666666666666,
              "#ed7953"
             ],
             [
              0.7777777777777778,
              "#fb9f3a"
             ],
             [
              0.8888888888888888,
              "#fdca26"
             ],
             [
              1,
              "#f0f921"
             ]
            ],
            "type": "heatmapgl"
           }
          ],
          "histogram": [
           {
            "marker": {
             "pattern": {
              "fillmode": "overlay",
              "size": 10,
              "solidity": 0.2
             }
            },
            "type": "histogram"
           }
          ],
          "histogram2d": [
           {
            "colorbar": {
             "outlinewidth": 0,
             "ticks": ""
            },
            "colorscale": [
             [
              0,
              "#0d0887"
             ],
             [
              0.1111111111111111,
              "#46039f"
             ],
             [
              0.2222222222222222,
              "#7201a8"
             ],
             [
              0.3333333333333333,
              "#9c179e"
             ],
             [
              0.4444444444444444,
              "#bd3786"
             ],
             [
              0.5555555555555556,
              "#d8576b"
             ],
             [
              0.6666666666666666,
              "#ed7953"
             ],
             [
              0.7777777777777778,
              "#fb9f3a"
             ],
             [
              0.8888888888888888,
              "#fdca26"
             ],
             [
              1,
              "#f0f921"
             ]
            ],
            "type": "histogram2d"
           }
          ],
          "histogram2dcontour": [
           {
            "colorbar": {
             "outlinewidth": 0,
             "ticks": ""
            },
            "colorscale": [
             [
              0,
              "#0d0887"
             ],
             [
              0.1111111111111111,
              "#46039f"
             ],
             [
              0.2222222222222222,
              "#7201a8"
             ],
             [
              0.3333333333333333,
              "#9c179e"
             ],
             [
              0.4444444444444444,
              "#bd3786"
             ],
             [
              0.5555555555555556,
              "#d8576b"
             ],
             [
              0.6666666666666666,
              "#ed7953"
             ],
             [
              0.7777777777777778,
              "#fb9f3a"
             ],
             [
              0.8888888888888888,
              "#fdca26"
             ],
             [
              1,
              "#f0f921"
             ]
            ],
            "type": "histogram2dcontour"
           }
          ],
          "mesh3d": [
           {
            "colorbar": {
             "outlinewidth": 0,
             "ticks": ""
            },
            "type": "mesh3d"
           }
          ],
          "parcoords": [
           {
            "line": {
             "colorbar": {
              "outlinewidth": 0,
              "ticks": ""
             }
            },
            "type": "parcoords"
           }
          ],
          "pie": [
           {
            "automargin": true,
            "type": "pie"
           }
          ],
          "scatter": [
           {
            "fillpattern": {
             "fillmode": "overlay",
             "size": 10,
             "solidity": 0.2
            },
            "type": "scatter"
           }
          ],
          "scatter3d": [
           {
            "line": {
             "colorbar": {
              "outlinewidth": 0,
              "ticks": ""
             }
            },
            "marker": {
             "colorbar": {
              "outlinewidth": 0,
              "ticks": ""
             }
            },
            "type": "scatter3d"
           }
          ],
          "scattercarpet": [
           {
            "marker": {
             "colorbar": {
              "outlinewidth": 0,
              "ticks": ""
             }
            },
            "type": "scattercarpet"
           }
          ],
          "scattergeo": [
           {
            "marker": {
             "colorbar": {
              "outlinewidth": 0,
              "ticks": ""
             }
            },
            "type": "scattergeo"
           }
          ],
          "scattergl": [
           {
            "marker": {
             "colorbar": {
              "outlinewidth": 0,
              "ticks": ""
             }
            },
            "type": "scattergl"
           }
          ],
          "scattermapbox": [
           {
            "marker": {
             "colorbar": {
              "outlinewidth": 0,
              "ticks": ""
             }
            },
            "type": "scattermapbox"
           }
          ],
          "scatterpolar": [
           {
            "marker": {
             "colorbar": {
              "outlinewidth": 0,
              "ticks": ""
             }
            },
            "type": "scatterpolar"
           }
          ],
          "scatterpolargl": [
           {
            "marker": {
             "colorbar": {
              "outlinewidth": 0,
              "ticks": ""
             }
            },
            "type": "scatterpolargl"
           }
          ],
          "scatterternary": [
           {
            "marker": {
             "colorbar": {
              "outlinewidth": 0,
              "ticks": ""
             }
            },
            "type": "scatterternary"
           }
          ],
          "surface": [
           {
            "colorbar": {
             "outlinewidth": 0,
             "ticks": ""
            },
            "colorscale": [
             [
              0,
              "#0d0887"
             ],
             [
              0.1111111111111111,
              "#46039f"
             ],
             [
              0.2222222222222222,
              "#7201a8"
             ],
             [
              0.3333333333333333,
              "#9c179e"
             ],
             [
              0.4444444444444444,
              "#bd3786"
             ],
             [
              0.5555555555555556,
              "#d8576b"
             ],
             [
              0.6666666666666666,
              "#ed7953"
             ],
             [
              0.7777777777777778,
              "#fb9f3a"
             ],
             [
              0.8888888888888888,
              "#fdca26"
             ],
             [
              1,
              "#f0f921"
             ]
            ],
            "type": "surface"
           }
          ],
          "table": [
           {
            "cells": {
             "fill": {
              "color": "#EBF0F8"
             },
             "line": {
              "color": "white"
             }
            },
            "header": {
             "fill": {
              "color": "#C8D4E3"
             },
             "line": {
              "color": "white"
             }
            },
            "type": "table"
           }
          ]
         },
         "layout": {
          "annotationdefaults": {
           "arrowcolor": "#2a3f5f",
           "arrowhead": 0,
           "arrowwidth": 1
          },
          "autotypenumbers": "strict",
          "coloraxis": {
           "colorbar": {
            "outlinewidth": 0,
            "ticks": ""
           }
          },
          "colorscale": {
           "diverging": [
            [
             0,
             "#8e0152"
            ],
            [
             0.1,
             "#c51b7d"
            ],
            [
             0.2,
             "#de77ae"
            ],
            [
             0.3,
             "#f1b6da"
            ],
            [
             0.4,
             "#fde0ef"
            ],
            [
             0.5,
             "#f7f7f7"
            ],
            [
             0.6,
             "#e6f5d0"
            ],
            [
             0.7,
             "#b8e186"
            ],
            [
             0.8,
             "#7fbc41"
            ],
            [
             0.9,
             "#4d9221"
            ],
            [
             1,
             "#276419"
            ]
           ],
           "sequential": [
            [
             0,
             "#0d0887"
            ],
            [
             0.1111111111111111,
             "#46039f"
            ],
            [
             0.2222222222222222,
             "#7201a8"
            ],
            [
             0.3333333333333333,
             "#9c179e"
            ],
            [
             0.4444444444444444,
             "#bd3786"
            ],
            [
             0.5555555555555556,
             "#d8576b"
            ],
            [
             0.6666666666666666,
             "#ed7953"
            ],
            [
             0.7777777777777778,
             "#fb9f3a"
            ],
            [
             0.8888888888888888,
             "#fdca26"
            ],
            [
             1,
             "#f0f921"
            ]
           ],
           "sequentialminus": [
            [
             0,
             "#0d0887"
            ],
            [
             0.1111111111111111,
             "#46039f"
            ],
            [
             0.2222222222222222,
             "#7201a8"
            ],
            [
             0.3333333333333333,
             "#9c179e"
            ],
            [
             0.4444444444444444,
             "#bd3786"
            ],
            [
             0.5555555555555556,
             "#d8576b"
            ],
            [
             0.6666666666666666,
             "#ed7953"
            ],
            [
             0.7777777777777778,
             "#fb9f3a"
            ],
            [
             0.8888888888888888,
             "#fdca26"
            ],
            [
             1,
             "#f0f921"
            ]
           ]
          },
          "colorway": [
           "#636efa",
           "#EF553B",
           "#00cc96",
           "#ab63fa",
           "#FFA15A",
           "#19d3f3",
           "#FF6692",
           "#B6E880",
           "#FF97FF",
           "#FECB52"
          ],
          "font": {
           "color": "#2a3f5f"
          },
          "geo": {
           "bgcolor": "white",
           "lakecolor": "white",
           "landcolor": "#E5ECF6",
           "showlakes": true,
           "showland": true,
           "subunitcolor": "white"
          },
          "hoverlabel": {
           "align": "left"
          },
          "hovermode": "closest",
          "mapbox": {
           "style": "light"
          },
          "paper_bgcolor": "white",
          "plot_bgcolor": "#E5ECF6",
          "polar": {
           "angularaxis": {
            "gridcolor": "white",
            "linecolor": "white",
            "ticks": ""
           },
           "bgcolor": "#E5ECF6",
           "radialaxis": {
            "gridcolor": "white",
            "linecolor": "white",
            "ticks": ""
           }
          },
          "scene": {
           "xaxis": {
            "backgroundcolor": "#E5ECF6",
            "gridcolor": "white",
            "gridwidth": 2,
            "linecolor": "white",
            "showbackground": true,
            "ticks": "",
            "zerolinecolor": "white"
           },
           "yaxis": {
            "backgroundcolor": "#E5ECF6",
            "gridcolor": "white",
            "gridwidth": 2,
            "linecolor": "white",
            "showbackground": true,
            "ticks": "",
            "zerolinecolor": "white"
           },
           "zaxis": {
            "backgroundcolor": "#E5ECF6",
            "gridcolor": "white",
            "gridwidth": 2,
            "linecolor": "white",
            "showbackground": true,
            "ticks": "",
            "zerolinecolor": "white"
           }
          },
          "shapedefaults": {
           "line": {
            "color": "#2a3f5f"
           }
          },
          "ternary": {
           "aaxis": {
            "gridcolor": "white",
            "linecolor": "white",
            "ticks": ""
           },
           "baxis": {
            "gridcolor": "white",
            "linecolor": "white",
            "ticks": ""
           },
           "bgcolor": "#E5ECF6",
           "caxis": {
            "gridcolor": "white",
            "linecolor": "white",
            "ticks": ""
           }
          },
          "title": {
           "x": 0.05
          },
          "xaxis": {
           "automargin": true,
           "gridcolor": "white",
           "linecolor": "white",
           "ticks": "",
           "title": {
            "standoff": 15
           },
           "zerolinecolor": "white",
           "zerolinewidth": 2
          },
          "yaxis": {
           "automargin": true,
           "gridcolor": "white",
           "linecolor": "white",
           "ticks": "",
           "title": {
            "standoff": 15
           },
           "zerolinecolor": "white",
           "zerolinewidth": 2
          }
         }
        },
        "title": {
         "font": {
          "color": "black",
          "size": 22
         },
         "text": "Net Migration By State (2021)",
         "x": 0.45
        }
       }
      },
      "text/html": [
       "<div>                            <div id=\"6258f6d0-9966-46d5-8d40-13ee2844460e\" class=\"plotly-graph-div\" style=\"height:525px; width:100%;\"></div>            <script type=\"text/javascript\">                require([\"plotly\"], function(Plotly) {                    window.PLOTLYENV=window.PLOTLYENV || {};                                    if (document.getElementById(\"6258f6d0-9966-46d5-8d40-13ee2844460e\")) {                    Plotly.newPlot(                        \"6258f6d0-9966-46d5-8d40-13ee2844460e\",                        [{\"coloraxis\":\"coloraxis\",\"geo\":\"geo\",\"hovertemplate\":\"state=%{location}<br>Net Migration=%{z}<extra></extra>\",\"locationmode\":\"USA-states\",\"locations\":[\"AL\",\"AK\",\"AZ\",\"AR\",\"CA\",\"CO\",\"CT\",\"DE\",\"DC\",\"FL\",\"GA\",\"HI\",\"ID\",\"IL\",\"IN\",\"IA\",\"KS\",\"KY\",\"LA\",\"ME\",\"MD\",\"MA\",\"MI\",\"MN\",\"MS\",\"MO\",\"MT\",\"NE\",\"NV\",\"NH\",\"NJ\",\"NM\",\"NY\",\"NC\",\"ND\",\"OH\",\"OK\",\"OR\",\"PA\",\"PR\",\"RI\",\"SC\",\"SD\",\"TN\",\"TX\",\"UT\",\"VT\",\"VA\",\"WA\",\"WV\",\"WI\",\"WY\"],\"name\":\"\",\"z\":[23734,-7041,122467,19598,-219268,30078,26504,10624,2528,334759,99179,25511,44620,-95216,33942,13904,29884,26037,-3354,26386,7250,-1317,15045,-31939,12806,36593,18705,295,52272,12210,3085,17200,-196971,142773,8653,33101,49364,22653,47084,-24430,16661,96248,3356,90160,319565,39749,16608,40009,3701,9968,23495,-5981],\"type\":\"choropleth\"}],                        {\"template\":{\"data\":{\"histogram2dcontour\":[{\"type\":\"histogram2dcontour\",\"colorbar\":{\"outlinewidth\":0,\"ticks\":\"\"},\"colorscale\":[[0.0,\"#0d0887\"],[0.1111111111111111,\"#46039f\"],[0.2222222222222222,\"#7201a8\"],[0.3333333333333333,\"#9c179e\"],[0.4444444444444444,\"#bd3786\"],[0.5555555555555556,\"#d8576b\"],[0.6666666666666666,\"#ed7953\"],[0.7777777777777778,\"#fb9f3a\"],[0.8888888888888888,\"#fdca26\"],[1.0,\"#f0f921\"]]}],\"choropleth\":[{\"type\":\"choropleth\",\"colorbar\":{\"outlinewidth\":0,\"ticks\":\"\"}}],\"histogram2d\":[{\"type\":\"histogram2d\",\"colorbar\":{\"outlinewidth\":0,\"ticks\":\"\"},\"colorscale\":[[0.0,\"#0d0887\"],[0.1111111111111111,\"#46039f\"],[0.2222222222222222,\"#7201a8\"],[0.3333333333333333,\"#9c179e\"],[0.4444444444444444,\"#bd3786\"],[0.5555555555555556,\"#d8576b\"],[0.6666666666666666,\"#ed7953\"],[0.7777777777777778,\"#fb9f3a\"],[0.8888888888888888,\"#fdca26\"],[1.0,\"#f0f921\"]]}],\"heatmap\":[{\"type\":\"heatmap\",\"colorbar\":{\"outlinewidth\":0,\"ticks\":\"\"},\"colorscale\":[[0.0,\"#0d0887\"],[0.1111111111111111,\"#46039f\"],[0.2222222222222222,\"#7201a8\"],[0.3333333333333333,\"#9c179e\"],[0.4444444444444444,\"#bd3786\"],[0.5555555555555556,\"#d8576b\"],[0.6666666666666666,\"#ed7953\"],[0.7777777777777778,\"#fb9f3a\"],[0.8888888888888888,\"#fdca26\"],[1.0,\"#f0f921\"]]}],\"heatmapgl\":[{\"type\":\"heatmapgl\",\"colorbar\":{\"outlinewidth\":0,\"ticks\":\"\"},\"colorscale\":[[0.0,\"#0d0887\"],[0.1111111111111111,\"#46039f\"],[0.2222222222222222,\"#7201a8\"],[0.3333333333333333,\"#9c179e\"],[0.4444444444444444,\"#bd3786\"],[0.5555555555555556,\"#d8576b\"],[0.6666666666666666,\"#ed7953\"],[0.7777777777777778,\"#fb9f3a\"],[0.8888888888888888,\"#fdca26\"],[1.0,\"#f0f921\"]]}],\"contourcarpet\":[{\"type\":\"contourcarpet\",\"colorbar\":{\"outlinewidth\":0,\"ticks\":\"\"}}],\"contour\":[{\"type\":\"contour\",\"colorbar\":{\"outlinewidth\":0,\"ticks\":\"\"},\"colorscale\":[[0.0,\"#0d0887\"],[0.1111111111111111,\"#46039f\"],[0.2222222222222222,\"#7201a8\"],[0.3333333333333333,\"#9c179e\"],[0.4444444444444444,\"#bd3786\"],[0.5555555555555556,\"#d8576b\"],[0.6666666666666666,\"#ed7953\"],[0.7777777777777778,\"#fb9f3a\"],[0.8888888888888888,\"#fdca26\"],[1.0,\"#f0f921\"]]}],\"surface\":[{\"type\":\"surface\",\"colorbar\":{\"outlinewidth\":0,\"ticks\":\"\"},\"colorscale\":[[0.0,\"#0d0887\"],[0.1111111111111111,\"#46039f\"],[0.2222222222222222,\"#7201a8\"],[0.3333333333333333,\"#9c179e\"],[0.4444444444444444,\"#bd3786\"],[0.5555555555555556,\"#d8576b\"],[0.6666666666666666,\"#ed7953\"],[0.7777777777777778,\"#fb9f3a\"],[0.8888888888888888,\"#fdca26\"],[1.0,\"#f0f921\"]]}],\"mesh3d\":[{\"type\":\"mesh3d\",\"colorbar\":{\"outlinewidth\":0,\"ticks\":\"\"}}],\"scatter\":[{\"fillpattern\":{\"fillmode\":\"overlay\",\"size\":10,\"solidity\":0.2},\"type\":\"scatter\"}],\"parcoords\":[{\"type\":\"parcoords\",\"line\":{\"colorbar\":{\"outlinewidth\":0,\"ticks\":\"\"}}}],\"scatterpolargl\":[{\"type\":\"scatterpolargl\",\"marker\":{\"colorbar\":{\"outlinewidth\":0,\"ticks\":\"\"}}}],\"bar\":[{\"error_x\":{\"color\":\"#2a3f5f\"},\"error_y\":{\"color\":\"#2a3f5f\"},\"marker\":{\"line\":{\"color\":\"#E5ECF6\",\"width\":0.5},\"pattern\":{\"fillmode\":\"overlay\",\"size\":10,\"solidity\":0.2}},\"type\":\"bar\"}],\"scattergeo\":[{\"type\":\"scattergeo\",\"marker\":{\"colorbar\":{\"outlinewidth\":0,\"ticks\":\"\"}}}],\"scatterpolar\":[{\"type\":\"scatterpolar\",\"marker\":{\"colorbar\":{\"outlinewidth\":0,\"ticks\":\"\"}}}],\"histogram\":[{\"marker\":{\"pattern\":{\"fillmode\":\"overlay\",\"size\":10,\"solidity\":0.2}},\"type\":\"histogram\"}],\"scattergl\":[{\"type\":\"scattergl\",\"marker\":{\"colorbar\":{\"outlinewidth\":0,\"ticks\":\"\"}}}],\"scatter3d\":[{\"type\":\"scatter3d\",\"line\":{\"colorbar\":{\"outlinewidth\":0,\"ticks\":\"\"}},\"marker\":{\"colorbar\":{\"outlinewidth\":0,\"ticks\":\"\"}}}],\"scattermapbox\":[{\"type\":\"scattermapbox\",\"marker\":{\"colorbar\":{\"outlinewidth\":0,\"ticks\":\"\"}}}],\"scatterternary\":[{\"type\":\"scatterternary\",\"marker\":{\"colorbar\":{\"outlinewidth\":0,\"ticks\":\"\"}}}],\"scattercarpet\":[{\"type\":\"scattercarpet\",\"marker\":{\"colorbar\":{\"outlinewidth\":0,\"ticks\":\"\"}}}],\"carpet\":[{\"aaxis\":{\"endlinecolor\":\"#2a3f5f\",\"gridcolor\":\"white\",\"linecolor\":\"white\",\"minorgridcolor\":\"white\",\"startlinecolor\":\"#2a3f5f\"},\"baxis\":{\"endlinecolor\":\"#2a3f5f\",\"gridcolor\":\"white\",\"linecolor\":\"white\",\"minorgridcolor\":\"white\",\"startlinecolor\":\"#2a3f5f\"},\"type\":\"carpet\"}],\"table\":[{\"cells\":{\"fill\":{\"color\":\"#EBF0F8\"},\"line\":{\"color\":\"white\"}},\"header\":{\"fill\":{\"color\":\"#C8D4E3\"},\"line\":{\"color\":\"white\"}},\"type\":\"table\"}],\"barpolar\":[{\"marker\":{\"line\":{\"color\":\"#E5ECF6\",\"width\":0.5},\"pattern\":{\"fillmode\":\"overlay\",\"size\":10,\"solidity\":0.2}},\"type\":\"barpolar\"}],\"pie\":[{\"automargin\":true,\"type\":\"pie\"}]},\"layout\":{\"autotypenumbers\":\"strict\",\"colorway\":[\"#636efa\",\"#EF553B\",\"#00cc96\",\"#ab63fa\",\"#FFA15A\",\"#19d3f3\",\"#FF6692\",\"#B6E880\",\"#FF97FF\",\"#FECB52\"],\"font\":{\"color\":\"#2a3f5f\"},\"hovermode\":\"closest\",\"hoverlabel\":{\"align\":\"left\"},\"paper_bgcolor\":\"white\",\"plot_bgcolor\":\"#E5ECF6\",\"polar\":{\"bgcolor\":\"#E5ECF6\",\"angularaxis\":{\"gridcolor\":\"white\",\"linecolor\":\"white\",\"ticks\":\"\"},\"radialaxis\":{\"gridcolor\":\"white\",\"linecolor\":\"white\",\"ticks\":\"\"}},\"ternary\":{\"bgcolor\":\"#E5ECF6\",\"aaxis\":{\"gridcolor\":\"white\",\"linecolor\":\"white\",\"ticks\":\"\"},\"baxis\":{\"gridcolor\":\"white\",\"linecolor\":\"white\",\"ticks\":\"\"},\"caxis\":{\"gridcolor\":\"white\",\"linecolor\":\"white\",\"ticks\":\"\"}},\"coloraxis\":{\"colorbar\":{\"outlinewidth\":0,\"ticks\":\"\"}},\"colorscale\":{\"sequential\":[[0.0,\"#0d0887\"],[0.1111111111111111,\"#46039f\"],[0.2222222222222222,\"#7201a8\"],[0.3333333333333333,\"#9c179e\"],[0.4444444444444444,\"#bd3786\"],[0.5555555555555556,\"#d8576b\"],[0.6666666666666666,\"#ed7953\"],[0.7777777777777778,\"#fb9f3a\"],[0.8888888888888888,\"#fdca26\"],[1.0,\"#f0f921\"]],\"sequentialminus\":[[0.0,\"#0d0887\"],[0.1111111111111111,\"#46039f\"],[0.2222222222222222,\"#7201a8\"],[0.3333333333333333,\"#9c179e\"],[0.4444444444444444,\"#bd3786\"],[0.5555555555555556,\"#d8576b\"],[0.6666666666666666,\"#ed7953\"],[0.7777777777777778,\"#fb9f3a\"],[0.8888888888888888,\"#fdca26\"],[1.0,\"#f0f921\"]],\"diverging\":[[0,\"#8e0152\"],[0.1,\"#c51b7d\"],[0.2,\"#de77ae\"],[0.3,\"#f1b6da\"],[0.4,\"#fde0ef\"],[0.5,\"#f7f7f7\"],[0.6,\"#e6f5d0\"],[0.7,\"#b8e186\"],[0.8,\"#7fbc41\"],[0.9,\"#4d9221\"],[1,\"#276419\"]]},\"xaxis\":{\"gridcolor\":\"white\",\"linecolor\":\"white\",\"ticks\":\"\",\"title\":{\"standoff\":15},\"zerolinecolor\":\"white\",\"automargin\":true,\"zerolinewidth\":2},\"yaxis\":{\"gridcolor\":\"white\",\"linecolor\":\"white\",\"ticks\":\"\",\"title\":{\"standoff\":15},\"zerolinecolor\":\"white\",\"automargin\":true,\"zerolinewidth\":2},\"scene\":{\"xaxis\":{\"backgroundcolor\":\"#E5ECF6\",\"gridcolor\":\"white\",\"linecolor\":\"white\",\"showbackground\":true,\"ticks\":\"\",\"zerolinecolor\":\"white\",\"gridwidth\":2},\"yaxis\":{\"backgroundcolor\":\"#E5ECF6\",\"gridcolor\":\"white\",\"linecolor\":\"white\",\"showbackground\":true,\"ticks\":\"\",\"zerolinecolor\":\"white\",\"gridwidth\":2},\"zaxis\":{\"backgroundcolor\":\"#E5ECF6\",\"gridcolor\":\"white\",\"linecolor\":\"white\",\"showbackground\":true,\"ticks\":\"\",\"zerolinecolor\":\"white\",\"gridwidth\":2}},\"shapedefaults\":{\"line\":{\"color\":\"#2a3f5f\"}},\"annotationdefaults\":{\"arrowcolor\":\"#2a3f5f\",\"arrowhead\":0,\"arrowwidth\":1},\"geo\":{\"bgcolor\":\"white\",\"landcolor\":\"#E5ECF6\",\"subunitcolor\":\"white\",\"showland\":true,\"showlakes\":true,\"lakecolor\":\"white\"},\"title\":{\"x\":0.05},\"mapbox\":{\"style\":\"light\"}}},\"geo\":{\"domain\":{\"x\":[0.0,1.0],\"y\":[0.0,1.0]},\"center\":{},\"scope\":\"usa\"},\"coloraxis\":{\"colorbar\":{\"title\":{\"text\":\"Net Migration\"}},\"colorscale\":[[0.0,\"#440154\"],[0.1111111111111111,\"#482878\"],[0.2222222222222222,\"#3e4989\"],[0.3333333333333333,\"#31688e\"],[0.4444444444444444,\"#26828e\"],[0.5555555555555556,\"#1f9e89\"],[0.6666666666666666,\"#35b779\"],[0.7777777777777778,\"#6ece58\"],[0.8888888888888888,\"#b5de2b\"],[1.0,\"#fde725\"]]},\"legend\":{\"tracegroupgap\":0},\"margin\":{\"t\":60},\"title\":{\"font\":{\"size\":22,\"color\":\"black\"},\"text\":\"Net Migration By State (2021)\",\"x\":0.45}},                        {\"responsive\": true}                    ).then(function(){\n",
       "                            \n",
       "var gd = document.getElementById('6258f6d0-9966-46d5-8d40-13ee2844460e');\n",
       "var x = new MutationObserver(function (mutations, observer) {{\n",
       "        var display = window.getComputedStyle(gd).display;\n",
       "        if (!display || display === 'none') {{\n",
       "            console.log([gd, 'removed!']);\n",
       "            Plotly.purge(gd);\n",
       "            observer.disconnect();\n",
       "        }}\n",
       "}});\n",
       "\n",
       "// Listen for the removal of the full notebook cells\n",
       "var notebookContainer = gd.closest('#notebook-container');\n",
       "if (notebookContainer) {{\n",
       "    x.observe(notebookContainer, {childList: true});\n",
       "}}\n",
       "\n",
       "// Listen for the clearing of the current output cell\n",
       "var outputEl = gd.closest('.output');\n",
       "if (outputEl) {{\n",
       "    x.observe(outputEl, {childList: true});\n",
       "}}\n",
       "\n",
       "                        })                };                });            </script>        </div>"
      ]
     },
     "metadata": {},
     "output_type": "display_data"
    }
   ],
   "source": [
    "# Graph data\n",
    "fig = px.choropleth(net_migration_2021\n",
    "                    , locations = \"state\"\n",
    "                    , locationmode = \"USA-states\"\n",
    "                    , scope = \"usa\"\n",
    "                    , color = \"net_migration\"\n",
    "                    , labels = {\"net_migration\": \"Net Migration\"} \n",
    "                    , color_continuous_scale = \"Viridis\")\n",
    "\n",
    "# Graph settings\n",
    "fig.update_layout(\n",
    "                  title_text = \"Net Migration By State (2021)\",\n",
    "                  title_font_size = 22,\n",
    "                  title_font_color=\"black\", \n",
    "                  title_x=0.45, \n",
    "                 )\n",
    "\n",
    "fig.show()"
   ]
  },
  {
   "cell_type": "code",
   "execution_count": 511,
   "id": "b8939cac",
   "metadata": {
    "scrolled": true
   },
   "outputs": [
    {
     "data": {
      "text/html": [
       "<div>\n",
       "<style scoped>\n",
       "    .dataframe tbody tr th:only-of-type {\n",
       "        vertical-align: middle;\n",
       "    }\n",
       "\n",
       "    .dataframe tbody tr th {\n",
       "        vertical-align: top;\n",
       "    }\n",
       "\n",
       "    .dataframe thead th {\n",
       "        text-align: right;\n",
       "    }\n",
       "</style>\n",
       "<table border=\"1\" class=\"dataframe\">\n",
       "  <thead>\n",
       "    <tr style=\"text-align: right;\">\n",
       "      <th></th>\n",
       "      <th>moved_to</th>\n",
       "      <th>moved_from</th>\n",
       "      <th>estimate</th>\n",
       "      <th>margin_of_error</th>\n",
       "    </tr>\n",
       "  </thead>\n",
       "  <tbody>\n",
       "    <tr>\n",
       "      <th>477</th>\n",
       "      <td>Florida</td>\n",
       "      <td>Alabama</td>\n",
       "      <td>15159</td>\n",
       "      <td>4087</td>\n",
       "    </tr>\n",
       "    <tr>\n",
       "      <th>478</th>\n",
       "      <td>Florida</td>\n",
       "      <td>Alaska</td>\n",
       "      <td>2938</td>\n",
       "      <td>2747</td>\n",
       "    </tr>\n",
       "    <tr>\n",
       "      <th>479</th>\n",
       "      <td>Florida</td>\n",
       "      <td>Arizona</td>\n",
       "      <td>6607</td>\n",
       "      <td>1882</td>\n",
       "    </tr>\n",
       "    <tr>\n",
       "      <th>480</th>\n",
       "      <td>Florida</td>\n",
       "      <td>Arkansas</td>\n",
       "      <td>4804</td>\n",
       "      <td>2217</td>\n",
       "    </tr>\n",
       "    <tr>\n",
       "      <th>481</th>\n",
       "      <td>Florida</td>\n",
       "      <td>California</td>\n",
       "      <td>37464</td>\n",
       "      <td>6348</td>\n",
       "    </tr>\n",
       "  </tbody>\n",
       "</table>\n",
       "</div>"
      ],
      "text/plain": [
       "    moved_to  moved_from  estimate  margin_of_error\n",
       "477  Florida     Alabama     15159             4087\n",
       "478  Florida      Alaska      2938             2747\n",
       "479  Florida     Arizona      6607             1882\n",
       "480  Florida    Arkansas      4804             2217\n",
       "481  Florida  California     37464             6348"
      ]
     },
     "execution_count": 511,
     "metadata": {},
     "output_type": "execute_result"
    }
   ],
   "source": [
    "fl_migration_2021_df = df_s2s_migration_2021[(df_s2s_migration_2021[\"moved_to\"] == \"Florida\")\n",
    "                                             & (df_s2s_migration_2021[\"moved_from\"] != \"Foreign Country\")]\n",
    "\n",
    "fl_migration_2021_df.head()"
   ]
  },
  {
   "cell_type": "code",
   "execution_count": 586,
   "id": "25ec32af",
   "metadata": {},
   "outputs": [
    {
     "data": {
      "application/vnd.plotly.v1+json": {
       "config": {
        "plotlyServerURL": "https://plot.ly"
       },
       "data": [
        {
         "counts": [
          15159,
          2938,
          6607,
          4804,
          37464,
          18468,
          15801,
          4732,
          1917,
          44723,
          4179,
          1309,
          34061,
          17980,
          3735,
          3099,
          8385,
          5914,
          1483,
          16166,
          20586,
          24506,
          10156,
          4522,
          11010,
          1041,
          2009,
          9332,
          3079,
          36417,
          2765,
          91758,
          21207,
          3610,
          22443,
          3768,
          5937,
          29817,
          13795,
          2784,
          8393,
          1282,
          18772,
          28243,
          2274,
          7284,
          1499,
          29153,
          9611,
          3165,
          9909,
          1758
         ],
         "dimensions": [
          {
           "label": "Moved From",
           "values": [
            "Alabama",
            "Alaska",
            "Arizona",
            "Arkansas",
            "California",
            "Colorado",
            "Connecticut",
            "Delaware",
            "District of Columbia",
            "Georgia",
            "Hawaii",
            "Idaho",
            "Illinois",
            "Indiana",
            "Iowa",
            "Kansas",
            "Kentucky",
            "Louisiana",
            "Maine",
            "Maryland",
            "Massachusetts",
            "Michigan",
            "Minnesota",
            "Mississippi",
            "Missouri",
            "Montana",
            "Nebraska",
            "Nevada",
            "New Hampshire",
            "New Jersey",
            "New Mexico",
            "New York",
            "North Carolina",
            "North Dakota",
            "Ohio",
            "Oklahoma",
            "Oregon",
            "Pennsylvania",
            "Puerto Rico",
            "Rhode Island",
            "South Carolina",
            "South Dakota",
            "Tennessee",
            "Texas",
            "U.S. Island Area",
            "Utah",
            "Vermont",
            "Virginia",
            "Washington",
            "West Virginia",
            "Wisconsin",
            "Wyoming"
           ]
          },
          {
           "label": "Moved To",
           "values": [
            "Florida",
            "Florida",
            "Florida",
            "Florida",
            "Florida",
            "Florida",
            "Florida",
            "Florida",
            "Florida",
            "Florida",
            "Florida",
            "Florida",
            "Florida",
            "Florida",
            "Florida",
            "Florida",
            "Florida",
            "Florida",
            "Florida",
            "Florida",
            "Florida",
            "Florida",
            "Florida",
            "Florida",
            "Florida",
            "Florida",
            "Florida",
            "Florida",
            "Florida",
            "Florida",
            "Florida",
            "Florida",
            "Florida",
            "Florida",
            "Florida",
            "Florida",
            "Florida",
            "Florida",
            "Florida",
            "Florida",
            "Florida",
            "Florida",
            "Florida",
            "Florida",
            "Florida",
            "Florida",
            "Florida",
            "Florida",
            "Florida",
            "Florida",
            "Florida",
            "Florida"
           ]
          }
         ],
         "type": "parcats"
        }
       ],
       "layout": {
        "font": {
         "size": 18
        },
        "height": 1200,
        "template": {
         "data": {
          "bar": [
           {
            "error_x": {
             "color": "#2a3f5f"
            },
            "error_y": {
             "color": "#2a3f5f"
            },
            "marker": {
             "line": {
              "color": "#E5ECF6",
              "width": 0.5
             },
             "pattern": {
              "fillmode": "overlay",
              "size": 10,
              "solidity": 0.2
             }
            },
            "type": "bar"
           }
          ],
          "barpolar": [
           {
            "marker": {
             "line": {
              "color": "#E5ECF6",
              "width": 0.5
             },
             "pattern": {
              "fillmode": "overlay",
              "size": 10,
              "solidity": 0.2
             }
            },
            "type": "barpolar"
           }
          ],
          "carpet": [
           {
            "aaxis": {
             "endlinecolor": "#2a3f5f",
             "gridcolor": "white",
             "linecolor": "white",
             "minorgridcolor": "white",
             "startlinecolor": "#2a3f5f"
            },
            "baxis": {
             "endlinecolor": "#2a3f5f",
             "gridcolor": "white",
             "linecolor": "white",
             "minorgridcolor": "white",
             "startlinecolor": "#2a3f5f"
            },
            "type": "carpet"
           }
          ],
          "choropleth": [
           {
            "colorbar": {
             "outlinewidth": 0,
             "ticks": ""
            },
            "type": "choropleth"
           }
          ],
          "contour": [
           {
            "colorbar": {
             "outlinewidth": 0,
             "ticks": ""
            },
            "colorscale": [
             [
              0,
              "#0d0887"
             ],
             [
              0.1111111111111111,
              "#46039f"
             ],
             [
              0.2222222222222222,
              "#7201a8"
             ],
             [
              0.3333333333333333,
              "#9c179e"
             ],
             [
              0.4444444444444444,
              "#bd3786"
             ],
             [
              0.5555555555555556,
              "#d8576b"
             ],
             [
              0.6666666666666666,
              "#ed7953"
             ],
             [
              0.7777777777777778,
              "#fb9f3a"
             ],
             [
              0.8888888888888888,
              "#fdca26"
             ],
             [
              1,
              "#f0f921"
             ]
            ],
            "type": "contour"
           }
          ],
          "contourcarpet": [
           {
            "colorbar": {
             "outlinewidth": 0,
             "ticks": ""
            },
            "type": "contourcarpet"
           }
          ],
          "heatmap": [
           {
            "colorbar": {
             "outlinewidth": 0,
             "ticks": ""
            },
            "colorscale": [
             [
              0,
              "#0d0887"
             ],
             [
              0.1111111111111111,
              "#46039f"
             ],
             [
              0.2222222222222222,
              "#7201a8"
             ],
             [
              0.3333333333333333,
              "#9c179e"
             ],
             [
              0.4444444444444444,
              "#bd3786"
             ],
             [
              0.5555555555555556,
              "#d8576b"
             ],
             [
              0.6666666666666666,
              "#ed7953"
             ],
             [
              0.7777777777777778,
              "#fb9f3a"
             ],
             [
              0.8888888888888888,
              "#fdca26"
             ],
             [
              1,
              "#f0f921"
             ]
            ],
            "type": "heatmap"
           }
          ],
          "heatmapgl": [
           {
            "colorbar": {
             "outlinewidth": 0,
             "ticks": ""
            },
            "colorscale": [
             [
              0,
              "#0d0887"
             ],
             [
              0.1111111111111111,
              "#46039f"
             ],
             [
              0.2222222222222222,
              "#7201a8"
             ],
             [
              0.3333333333333333,
              "#9c179e"
             ],
             [
              0.4444444444444444,
              "#bd3786"
             ],
             [
              0.5555555555555556,
              "#d8576b"
             ],
             [
              0.6666666666666666,
              "#ed7953"
             ],
             [
              0.7777777777777778,
              "#fb9f3a"
             ],
             [
              0.8888888888888888,
              "#fdca26"
             ],
             [
              1,
              "#f0f921"
             ]
            ],
            "type": "heatmapgl"
           }
          ],
          "histogram": [
           {
            "marker": {
             "pattern": {
              "fillmode": "overlay",
              "size": 10,
              "solidity": 0.2
             }
            },
            "type": "histogram"
           }
          ],
          "histogram2d": [
           {
            "colorbar": {
             "outlinewidth": 0,
             "ticks": ""
            },
            "colorscale": [
             [
              0,
              "#0d0887"
             ],
             [
              0.1111111111111111,
              "#46039f"
             ],
             [
              0.2222222222222222,
              "#7201a8"
             ],
             [
              0.3333333333333333,
              "#9c179e"
             ],
             [
              0.4444444444444444,
              "#bd3786"
             ],
             [
              0.5555555555555556,
              "#d8576b"
             ],
             [
              0.6666666666666666,
              "#ed7953"
             ],
             [
              0.7777777777777778,
              "#fb9f3a"
             ],
             [
              0.8888888888888888,
              "#fdca26"
             ],
             [
              1,
              "#f0f921"
             ]
            ],
            "type": "histogram2d"
           }
          ],
          "histogram2dcontour": [
           {
            "colorbar": {
             "outlinewidth": 0,
             "ticks": ""
            },
            "colorscale": [
             [
              0,
              "#0d0887"
             ],
             [
              0.1111111111111111,
              "#46039f"
             ],
             [
              0.2222222222222222,
              "#7201a8"
             ],
             [
              0.3333333333333333,
              "#9c179e"
             ],
             [
              0.4444444444444444,
              "#bd3786"
             ],
             [
              0.5555555555555556,
              "#d8576b"
             ],
             [
              0.6666666666666666,
              "#ed7953"
             ],
             [
              0.7777777777777778,
              "#fb9f3a"
             ],
             [
              0.8888888888888888,
              "#fdca26"
             ],
             [
              1,
              "#f0f921"
             ]
            ],
            "type": "histogram2dcontour"
           }
          ],
          "mesh3d": [
           {
            "colorbar": {
             "outlinewidth": 0,
             "ticks": ""
            },
            "type": "mesh3d"
           }
          ],
          "parcoords": [
           {
            "line": {
             "colorbar": {
              "outlinewidth": 0,
              "ticks": ""
             }
            },
            "type": "parcoords"
           }
          ],
          "pie": [
           {
            "automargin": true,
            "type": "pie"
           }
          ],
          "scatter": [
           {
            "fillpattern": {
             "fillmode": "overlay",
             "size": 10,
             "solidity": 0.2
            },
            "type": "scatter"
           }
          ],
          "scatter3d": [
           {
            "line": {
             "colorbar": {
              "outlinewidth": 0,
              "ticks": ""
             }
            },
            "marker": {
             "colorbar": {
              "outlinewidth": 0,
              "ticks": ""
             }
            },
            "type": "scatter3d"
           }
          ],
          "scattercarpet": [
           {
            "marker": {
             "colorbar": {
              "outlinewidth": 0,
              "ticks": ""
             }
            },
            "type": "scattercarpet"
           }
          ],
          "scattergeo": [
           {
            "marker": {
             "colorbar": {
              "outlinewidth": 0,
              "ticks": ""
             }
            },
            "type": "scattergeo"
           }
          ],
          "scattergl": [
           {
            "marker": {
             "colorbar": {
              "outlinewidth": 0,
              "ticks": ""
             }
            },
            "type": "scattergl"
           }
          ],
          "scattermapbox": [
           {
            "marker": {
             "colorbar": {
              "outlinewidth": 0,
              "ticks": ""
             }
            },
            "type": "scattermapbox"
           }
          ],
          "scatterpolar": [
           {
            "marker": {
             "colorbar": {
              "outlinewidth": 0,
              "ticks": ""
             }
            },
            "type": "scatterpolar"
           }
          ],
          "scatterpolargl": [
           {
            "marker": {
             "colorbar": {
              "outlinewidth": 0,
              "ticks": ""
             }
            },
            "type": "scatterpolargl"
           }
          ],
          "scatterternary": [
           {
            "marker": {
             "colorbar": {
              "outlinewidth": 0,
              "ticks": ""
             }
            },
            "type": "scatterternary"
           }
          ],
          "surface": [
           {
            "colorbar": {
             "outlinewidth": 0,
             "ticks": ""
            },
            "colorscale": [
             [
              0,
              "#0d0887"
             ],
             [
              0.1111111111111111,
              "#46039f"
             ],
             [
              0.2222222222222222,
              "#7201a8"
             ],
             [
              0.3333333333333333,
              "#9c179e"
             ],
             [
              0.4444444444444444,
              "#bd3786"
             ],
             [
              0.5555555555555556,
              "#d8576b"
             ],
             [
              0.6666666666666666,
              "#ed7953"
             ],
             [
              0.7777777777777778,
              "#fb9f3a"
             ],
             [
              0.8888888888888888,
              "#fdca26"
             ],
             [
              1,
              "#f0f921"
             ]
            ],
            "type": "surface"
           }
          ],
          "table": [
           {
            "cells": {
             "fill": {
              "color": "#EBF0F8"
             },
             "line": {
              "color": "white"
             }
            },
            "header": {
             "fill": {
              "color": "#C8D4E3"
             },
             "line": {
              "color": "white"
             }
            },
            "type": "table"
           }
          ]
         },
         "layout": {
          "annotationdefaults": {
           "arrowcolor": "#2a3f5f",
           "arrowhead": 0,
           "arrowwidth": 1
          },
          "autotypenumbers": "strict",
          "coloraxis": {
           "colorbar": {
            "outlinewidth": 0,
            "ticks": ""
           }
          },
          "colorscale": {
           "diverging": [
            [
             0,
             "#8e0152"
            ],
            [
             0.1,
             "#c51b7d"
            ],
            [
             0.2,
             "#de77ae"
            ],
            [
             0.3,
             "#f1b6da"
            ],
            [
             0.4,
             "#fde0ef"
            ],
            [
             0.5,
             "#f7f7f7"
            ],
            [
             0.6,
             "#e6f5d0"
            ],
            [
             0.7,
             "#b8e186"
            ],
            [
             0.8,
             "#7fbc41"
            ],
            [
             0.9,
             "#4d9221"
            ],
            [
             1,
             "#276419"
            ]
           ],
           "sequential": [
            [
             0,
             "#0d0887"
            ],
            [
             0.1111111111111111,
             "#46039f"
            ],
            [
             0.2222222222222222,
             "#7201a8"
            ],
            [
             0.3333333333333333,
             "#9c179e"
            ],
            [
             0.4444444444444444,
             "#bd3786"
            ],
            [
             0.5555555555555556,
             "#d8576b"
            ],
            [
             0.6666666666666666,
             "#ed7953"
            ],
            [
             0.7777777777777778,
             "#fb9f3a"
            ],
            [
             0.8888888888888888,
             "#fdca26"
            ],
            [
             1,
             "#f0f921"
            ]
           ],
           "sequentialminus": [
            [
             0,
             "#0d0887"
            ],
            [
             0.1111111111111111,
             "#46039f"
            ],
            [
             0.2222222222222222,
             "#7201a8"
            ],
            [
             0.3333333333333333,
             "#9c179e"
            ],
            [
             0.4444444444444444,
             "#bd3786"
            ],
            [
             0.5555555555555556,
             "#d8576b"
            ],
            [
             0.6666666666666666,
             "#ed7953"
            ],
            [
             0.7777777777777778,
             "#fb9f3a"
            ],
            [
             0.8888888888888888,
             "#fdca26"
            ],
            [
             1,
             "#f0f921"
            ]
           ]
          },
          "colorway": [
           "#636efa",
           "#EF553B",
           "#00cc96",
           "#ab63fa",
           "#FFA15A",
           "#19d3f3",
           "#FF6692",
           "#B6E880",
           "#FF97FF",
           "#FECB52"
          ],
          "font": {
           "color": "#2a3f5f"
          },
          "geo": {
           "bgcolor": "white",
           "lakecolor": "white",
           "landcolor": "#E5ECF6",
           "showlakes": true,
           "showland": true,
           "subunitcolor": "white"
          },
          "hoverlabel": {
           "align": "left"
          },
          "hovermode": "closest",
          "mapbox": {
           "style": "light"
          },
          "paper_bgcolor": "white",
          "plot_bgcolor": "#E5ECF6",
          "polar": {
           "angularaxis": {
            "gridcolor": "white",
            "linecolor": "white",
            "ticks": ""
           },
           "bgcolor": "#E5ECF6",
           "radialaxis": {
            "gridcolor": "white",
            "linecolor": "white",
            "ticks": ""
           }
          },
          "scene": {
           "xaxis": {
            "backgroundcolor": "#E5ECF6",
            "gridcolor": "white",
            "gridwidth": 2,
            "linecolor": "white",
            "showbackground": true,
            "ticks": "",
            "zerolinecolor": "white"
           },
           "yaxis": {
            "backgroundcolor": "#E5ECF6",
            "gridcolor": "white",
            "gridwidth": 2,
            "linecolor": "white",
            "showbackground": true,
            "ticks": "",
            "zerolinecolor": "white"
           },
           "zaxis": {
            "backgroundcolor": "#E5ECF6",
            "gridcolor": "white",
            "gridwidth": 2,
            "linecolor": "white",
            "showbackground": true,
            "ticks": "",
            "zerolinecolor": "white"
           }
          },
          "shapedefaults": {
           "line": {
            "color": "#2a3f5f"
           }
          },
          "ternary": {
           "aaxis": {
            "gridcolor": "white",
            "linecolor": "white",
            "ticks": ""
           },
           "baxis": {
            "gridcolor": "white",
            "linecolor": "white",
            "ticks": ""
           },
           "bgcolor": "#E5ECF6",
           "caxis": {
            "gridcolor": "white",
            "linecolor": "white",
            "ticks": ""
           }
          },
          "title": {
           "x": 0.05
          },
          "xaxis": {
           "automargin": true,
           "gridcolor": "white",
           "linecolor": "white",
           "ticks": "",
           "title": {
            "standoff": 15
           },
           "zerolinecolor": "white",
           "zerolinewidth": 2
          },
          "yaxis": {
           "automargin": true,
           "gridcolor": "white",
           "linecolor": "white",
           "ticks": "",
           "title": {
            "standoff": 15
           },
           "zerolinecolor": "white",
           "zerolinewidth": 2
          }
         }
        },
        "title": {
         "text": "Interstate Migration to FL (2021)"
        },
        "width": 1050
       }
      },
      "text/html": [
       "<div>                            <div id=\"d0ccc185-690a-4bd2-8ded-92a23513c974\" class=\"plotly-graph-div\" style=\"height:1200px; width:1050px;\"></div>            <script type=\"text/javascript\">                require([\"plotly\"], function(Plotly) {                    window.PLOTLYENV=window.PLOTLYENV || {};                                    if (document.getElementById(\"d0ccc185-690a-4bd2-8ded-92a23513c974\")) {                    Plotly.newPlot(                        \"d0ccc185-690a-4bd2-8ded-92a23513c974\",                        [{\"counts\":[15159,2938,6607,4804,37464,18468,15801,4732,1917,44723,4179,1309,34061,17980,3735,3099,8385,5914,1483,16166,20586,24506,10156,4522,11010,1041,2009,9332,3079,36417,2765,91758,21207,3610,22443,3768,5937,29817,13795,2784,8393,1282,18772,28243,2274,7284,1499,29153,9611,3165,9909,1758],\"dimensions\":[{\"label\":\"Moved From\",\"values\":[\"Alabama\",\"Alaska\",\"Arizona\",\"Arkansas\",\"California\",\"Colorado\",\"Connecticut\",\"Delaware\",\"District of Columbia\",\"Georgia\",\"Hawaii\",\"Idaho\",\"Illinois\",\"Indiana\",\"Iowa\",\"Kansas\",\"Kentucky\",\"Louisiana\",\"Maine\",\"Maryland\",\"Massachusetts\",\"Michigan\",\"Minnesota\",\"Mississippi\",\"Missouri\",\"Montana\",\"Nebraska\",\"Nevada\",\"New Hampshire\",\"New Jersey\",\"New Mexico\",\"New York\",\"North Carolina\",\"North Dakota\",\"Ohio\",\"Oklahoma\",\"Oregon\",\"Pennsylvania\",\"Puerto Rico\",\"Rhode Island\",\"South Carolina\",\"South Dakota\",\"Tennessee\",\"Texas\",\"U.S. Island Area\",\"Utah\",\"Vermont\",\"Virginia\",\"Washington\",\"West Virginia\",\"Wisconsin\",\"Wyoming\"]},{\"label\":\"Moved To\",\"values\":[\"Florida\",\"Florida\",\"Florida\",\"Florida\",\"Florida\",\"Florida\",\"Florida\",\"Florida\",\"Florida\",\"Florida\",\"Florida\",\"Florida\",\"Florida\",\"Florida\",\"Florida\",\"Florida\",\"Florida\",\"Florida\",\"Florida\",\"Florida\",\"Florida\",\"Florida\",\"Florida\",\"Florida\",\"Florida\",\"Florida\",\"Florida\",\"Florida\",\"Florida\",\"Florida\",\"Florida\",\"Florida\",\"Florida\",\"Florida\",\"Florida\",\"Florida\",\"Florida\",\"Florida\",\"Florida\",\"Florida\",\"Florida\",\"Florida\",\"Florida\",\"Florida\",\"Florida\",\"Florida\",\"Florida\",\"Florida\",\"Florida\",\"Florida\",\"Florida\",\"Florida\"]}],\"type\":\"parcats\"}],                        {\"template\":{\"data\":{\"histogram2dcontour\":[{\"type\":\"histogram2dcontour\",\"colorbar\":{\"outlinewidth\":0,\"ticks\":\"\"},\"colorscale\":[[0.0,\"#0d0887\"],[0.1111111111111111,\"#46039f\"],[0.2222222222222222,\"#7201a8\"],[0.3333333333333333,\"#9c179e\"],[0.4444444444444444,\"#bd3786\"],[0.5555555555555556,\"#d8576b\"],[0.6666666666666666,\"#ed7953\"],[0.7777777777777778,\"#fb9f3a\"],[0.8888888888888888,\"#fdca26\"],[1.0,\"#f0f921\"]]}],\"choropleth\":[{\"type\":\"choropleth\",\"colorbar\":{\"outlinewidth\":0,\"ticks\":\"\"}}],\"histogram2d\":[{\"type\":\"histogram2d\",\"colorbar\":{\"outlinewidth\":0,\"ticks\":\"\"},\"colorscale\":[[0.0,\"#0d0887\"],[0.1111111111111111,\"#46039f\"],[0.2222222222222222,\"#7201a8\"],[0.3333333333333333,\"#9c179e\"],[0.4444444444444444,\"#bd3786\"],[0.5555555555555556,\"#d8576b\"],[0.6666666666666666,\"#ed7953\"],[0.7777777777777778,\"#fb9f3a\"],[0.8888888888888888,\"#fdca26\"],[1.0,\"#f0f921\"]]}],\"heatmap\":[{\"type\":\"heatmap\",\"colorbar\":{\"outlinewidth\":0,\"ticks\":\"\"},\"colorscale\":[[0.0,\"#0d0887\"],[0.1111111111111111,\"#46039f\"],[0.2222222222222222,\"#7201a8\"],[0.3333333333333333,\"#9c179e\"],[0.4444444444444444,\"#bd3786\"],[0.5555555555555556,\"#d8576b\"],[0.6666666666666666,\"#ed7953\"],[0.7777777777777778,\"#fb9f3a\"],[0.8888888888888888,\"#fdca26\"],[1.0,\"#f0f921\"]]}],\"heatmapgl\":[{\"type\":\"heatmapgl\",\"colorbar\":{\"outlinewidth\":0,\"ticks\":\"\"},\"colorscale\":[[0.0,\"#0d0887\"],[0.1111111111111111,\"#46039f\"],[0.2222222222222222,\"#7201a8\"],[0.3333333333333333,\"#9c179e\"],[0.4444444444444444,\"#bd3786\"],[0.5555555555555556,\"#d8576b\"],[0.6666666666666666,\"#ed7953\"],[0.7777777777777778,\"#fb9f3a\"],[0.8888888888888888,\"#fdca26\"],[1.0,\"#f0f921\"]]}],\"contourcarpet\":[{\"type\":\"contourcarpet\",\"colorbar\":{\"outlinewidth\":0,\"ticks\":\"\"}}],\"contour\":[{\"type\":\"contour\",\"colorbar\":{\"outlinewidth\":0,\"ticks\":\"\"},\"colorscale\":[[0.0,\"#0d0887\"],[0.1111111111111111,\"#46039f\"],[0.2222222222222222,\"#7201a8\"],[0.3333333333333333,\"#9c179e\"],[0.4444444444444444,\"#bd3786\"],[0.5555555555555556,\"#d8576b\"],[0.6666666666666666,\"#ed7953\"],[0.7777777777777778,\"#fb9f3a\"],[0.8888888888888888,\"#fdca26\"],[1.0,\"#f0f921\"]]}],\"surface\":[{\"type\":\"surface\",\"colorbar\":{\"outlinewidth\":0,\"ticks\":\"\"},\"colorscale\":[[0.0,\"#0d0887\"],[0.1111111111111111,\"#46039f\"],[0.2222222222222222,\"#7201a8\"],[0.3333333333333333,\"#9c179e\"],[0.4444444444444444,\"#bd3786\"],[0.5555555555555556,\"#d8576b\"],[0.6666666666666666,\"#ed7953\"],[0.7777777777777778,\"#fb9f3a\"],[0.8888888888888888,\"#fdca26\"],[1.0,\"#f0f921\"]]}],\"mesh3d\":[{\"type\":\"mesh3d\",\"colorbar\":{\"outlinewidth\":0,\"ticks\":\"\"}}],\"scatter\":[{\"fillpattern\":{\"fillmode\":\"overlay\",\"size\":10,\"solidity\":0.2},\"type\":\"scatter\"}],\"parcoords\":[{\"type\":\"parcoords\",\"line\":{\"colorbar\":{\"outlinewidth\":0,\"ticks\":\"\"}}}],\"scatterpolargl\":[{\"type\":\"scatterpolargl\",\"marker\":{\"colorbar\":{\"outlinewidth\":0,\"ticks\":\"\"}}}],\"bar\":[{\"error_x\":{\"color\":\"#2a3f5f\"},\"error_y\":{\"color\":\"#2a3f5f\"},\"marker\":{\"line\":{\"color\":\"#E5ECF6\",\"width\":0.5},\"pattern\":{\"fillmode\":\"overlay\",\"size\":10,\"solidity\":0.2}},\"type\":\"bar\"}],\"scattergeo\":[{\"type\":\"scattergeo\",\"marker\":{\"colorbar\":{\"outlinewidth\":0,\"ticks\":\"\"}}}],\"scatterpolar\":[{\"type\":\"scatterpolar\",\"marker\":{\"colorbar\":{\"outlinewidth\":0,\"ticks\":\"\"}}}],\"histogram\":[{\"marker\":{\"pattern\":{\"fillmode\":\"overlay\",\"size\":10,\"solidity\":0.2}},\"type\":\"histogram\"}],\"scattergl\":[{\"type\":\"scattergl\",\"marker\":{\"colorbar\":{\"outlinewidth\":0,\"ticks\":\"\"}}}],\"scatter3d\":[{\"type\":\"scatter3d\",\"line\":{\"colorbar\":{\"outlinewidth\":0,\"ticks\":\"\"}},\"marker\":{\"colorbar\":{\"outlinewidth\":0,\"ticks\":\"\"}}}],\"scattermapbox\":[{\"type\":\"scattermapbox\",\"marker\":{\"colorbar\":{\"outlinewidth\":0,\"ticks\":\"\"}}}],\"scatterternary\":[{\"type\":\"scatterternary\",\"marker\":{\"colorbar\":{\"outlinewidth\":0,\"ticks\":\"\"}}}],\"scattercarpet\":[{\"type\":\"scattercarpet\",\"marker\":{\"colorbar\":{\"outlinewidth\":0,\"ticks\":\"\"}}}],\"carpet\":[{\"aaxis\":{\"endlinecolor\":\"#2a3f5f\",\"gridcolor\":\"white\",\"linecolor\":\"white\",\"minorgridcolor\":\"white\",\"startlinecolor\":\"#2a3f5f\"},\"baxis\":{\"endlinecolor\":\"#2a3f5f\",\"gridcolor\":\"white\",\"linecolor\":\"white\",\"minorgridcolor\":\"white\",\"startlinecolor\":\"#2a3f5f\"},\"type\":\"carpet\"}],\"table\":[{\"cells\":{\"fill\":{\"color\":\"#EBF0F8\"},\"line\":{\"color\":\"white\"}},\"header\":{\"fill\":{\"color\":\"#C8D4E3\"},\"line\":{\"color\":\"white\"}},\"type\":\"table\"}],\"barpolar\":[{\"marker\":{\"line\":{\"color\":\"#E5ECF6\",\"width\":0.5},\"pattern\":{\"fillmode\":\"overlay\",\"size\":10,\"solidity\":0.2}},\"type\":\"barpolar\"}],\"pie\":[{\"automargin\":true,\"type\":\"pie\"}]},\"layout\":{\"autotypenumbers\":\"strict\",\"colorway\":[\"#636efa\",\"#EF553B\",\"#00cc96\",\"#ab63fa\",\"#FFA15A\",\"#19d3f3\",\"#FF6692\",\"#B6E880\",\"#FF97FF\",\"#FECB52\"],\"font\":{\"color\":\"#2a3f5f\"},\"hovermode\":\"closest\",\"hoverlabel\":{\"align\":\"left\"},\"paper_bgcolor\":\"white\",\"plot_bgcolor\":\"#E5ECF6\",\"polar\":{\"bgcolor\":\"#E5ECF6\",\"angularaxis\":{\"gridcolor\":\"white\",\"linecolor\":\"white\",\"ticks\":\"\"},\"radialaxis\":{\"gridcolor\":\"white\",\"linecolor\":\"white\",\"ticks\":\"\"}},\"ternary\":{\"bgcolor\":\"#E5ECF6\",\"aaxis\":{\"gridcolor\":\"white\",\"linecolor\":\"white\",\"ticks\":\"\"},\"baxis\":{\"gridcolor\":\"white\",\"linecolor\":\"white\",\"ticks\":\"\"},\"caxis\":{\"gridcolor\":\"white\",\"linecolor\":\"white\",\"ticks\":\"\"}},\"coloraxis\":{\"colorbar\":{\"outlinewidth\":0,\"ticks\":\"\"}},\"colorscale\":{\"sequential\":[[0.0,\"#0d0887\"],[0.1111111111111111,\"#46039f\"],[0.2222222222222222,\"#7201a8\"],[0.3333333333333333,\"#9c179e\"],[0.4444444444444444,\"#bd3786\"],[0.5555555555555556,\"#d8576b\"],[0.6666666666666666,\"#ed7953\"],[0.7777777777777778,\"#fb9f3a\"],[0.8888888888888888,\"#fdca26\"],[1.0,\"#f0f921\"]],\"sequentialminus\":[[0.0,\"#0d0887\"],[0.1111111111111111,\"#46039f\"],[0.2222222222222222,\"#7201a8\"],[0.3333333333333333,\"#9c179e\"],[0.4444444444444444,\"#bd3786\"],[0.5555555555555556,\"#d8576b\"],[0.6666666666666666,\"#ed7953\"],[0.7777777777777778,\"#fb9f3a\"],[0.8888888888888888,\"#fdca26\"],[1.0,\"#f0f921\"]],\"diverging\":[[0,\"#8e0152\"],[0.1,\"#c51b7d\"],[0.2,\"#de77ae\"],[0.3,\"#f1b6da\"],[0.4,\"#fde0ef\"],[0.5,\"#f7f7f7\"],[0.6,\"#e6f5d0\"],[0.7,\"#b8e186\"],[0.8,\"#7fbc41\"],[0.9,\"#4d9221\"],[1,\"#276419\"]]},\"xaxis\":{\"gridcolor\":\"white\",\"linecolor\":\"white\",\"ticks\":\"\",\"title\":{\"standoff\":15},\"zerolinecolor\":\"white\",\"automargin\":true,\"zerolinewidth\":2},\"yaxis\":{\"gridcolor\":\"white\",\"linecolor\":\"white\",\"ticks\":\"\",\"title\":{\"standoff\":15},\"zerolinecolor\":\"white\",\"automargin\":true,\"zerolinewidth\":2},\"scene\":{\"xaxis\":{\"backgroundcolor\":\"#E5ECF6\",\"gridcolor\":\"white\",\"linecolor\":\"white\",\"showbackground\":true,\"ticks\":\"\",\"zerolinecolor\":\"white\",\"gridwidth\":2},\"yaxis\":{\"backgroundcolor\":\"#E5ECF6\",\"gridcolor\":\"white\",\"linecolor\":\"white\",\"showbackground\":true,\"ticks\":\"\",\"zerolinecolor\":\"white\",\"gridwidth\":2},\"zaxis\":{\"backgroundcolor\":\"#E5ECF6\",\"gridcolor\":\"white\",\"linecolor\":\"white\",\"showbackground\":true,\"ticks\":\"\",\"zerolinecolor\":\"white\",\"gridwidth\":2}},\"shapedefaults\":{\"line\":{\"color\":\"#2a3f5f\"}},\"annotationdefaults\":{\"arrowcolor\":\"#2a3f5f\",\"arrowhead\":0,\"arrowwidth\":1},\"geo\":{\"bgcolor\":\"white\",\"landcolor\":\"#E5ECF6\",\"subunitcolor\":\"white\",\"showland\":true,\"showlakes\":true,\"lakecolor\":\"white\"},\"title\":{\"x\":0.05},\"mapbox\":{\"style\":\"light\"}}},\"title\":{\"text\":\"Interstate Migration to FL (2021)\"},\"font\":{\"size\":18},\"height\":1200,\"width\":1050},                        {\"responsive\": true}                    ).then(function(){\n",
       "                            \n",
       "var gd = document.getElementById('d0ccc185-690a-4bd2-8ded-92a23513c974');\n",
       "var x = new MutationObserver(function (mutations, observer) {{\n",
       "        var display = window.getComputedStyle(gd).display;\n",
       "        if (!display || display === 'none') {{\n",
       "            console.log([gd, 'removed!']);\n",
       "            Plotly.purge(gd);\n",
       "            observer.disconnect();\n",
       "        }}\n",
       "}});\n",
       "\n",
       "// Listen for the removal of the full notebook cells\n",
       "var notebookContainer = gd.closest('#notebook-container');\n",
       "if (notebookContainer) {{\n",
       "    x.observe(notebookContainer, {childList: true});\n",
       "}}\n",
       "\n",
       "// Listen for the clearing of the current output cell\n",
       "var outputEl = gd.closest('.output');\n",
       "if (outputEl) {{\n",
       "    x.observe(outputEl, {childList: true});\n",
       "}}\n",
       "\n",
       "                        })                };                });            </script>        </div>"
      ]
     },
     "metadata": {},
     "output_type": "display_data"
    }
   ],
   "source": [
    "import plotly.graph_objects as go\n",
    "\n",
    "fig = go.Figure(go.Parcats(\n",
    "                            dimensions=[\n",
    "                                {'label': 'Moved From', 'values': fl_migration_2021_df['moved_from']},\n",
    "                                {'label': 'Moved To', 'values': fl_migration_2021_df['moved_to']},\n",
    "                            ],\n",
    "                            counts=fl_migration_2021_df['estimate']\n",
    "                           ))\n",
    "\n",
    "fig.update_layout(title_text=\"Interstate Migration to FL (2021)\",\n",
    "                height = 1200,\n",
    "                width=1050,\n",
    "                font_size=18)\n",
    "\n",
    "\n",
    "\n",
    "fig.show()"
   ]
  },
  {
   "cell_type": "code",
   "execution_count": 513,
   "id": "8cdc5013",
   "metadata": {},
   "outputs": [
    {
     "data": {
      "text/html": [
       "<div>\n",
       "<style scoped>\n",
       "    .dataframe tbody tr th:only-of-type {\n",
       "        vertical-align: middle;\n",
       "    }\n",
       "\n",
       "    .dataframe tbody tr th {\n",
       "        vertical-align: top;\n",
       "    }\n",
       "\n",
       "    .dataframe thead th {\n",
       "        text-align: right;\n",
       "    }\n",
       "</style>\n",
       "<table border=\"1\" class=\"dataframe\">\n",
       "  <thead>\n",
       "    <tr style=\"text-align: right;\">\n",
       "      <th></th>\n",
       "      <th>moved_to</th>\n",
       "      <th>moved_from</th>\n",
       "      <th>estimate</th>\n",
       "      <th>margin_of_error</th>\n",
       "    </tr>\n",
       "  </thead>\n",
       "  <tbody>\n",
       "    <tr>\n",
       "      <th>2279</th>\n",
       "      <td>Texas</td>\n",
       "      <td>Alabama</td>\n",
       "      <td>9389</td>\n",
       "      <td>3488</td>\n",
       "    </tr>\n",
       "    <tr>\n",
       "      <th>2280</th>\n",
       "      <td>Texas</td>\n",
       "      <td>Alaska</td>\n",
       "      <td>2587</td>\n",
       "      <td>1787</td>\n",
       "    </tr>\n",
       "    <tr>\n",
       "      <th>2281</th>\n",
       "      <td>Texas</td>\n",
       "      <td>Arizona</td>\n",
       "      <td>17609</td>\n",
       "      <td>3581</td>\n",
       "    </tr>\n",
       "    <tr>\n",
       "      <th>2282</th>\n",
       "      <td>Texas</td>\n",
       "      <td>Arkansas</td>\n",
       "      <td>13613</td>\n",
       "      <td>3625</td>\n",
       "    </tr>\n",
       "    <tr>\n",
       "      <th>2283</th>\n",
       "      <td>Texas</td>\n",
       "      <td>California</td>\n",
       "      <td>107546</td>\n",
       "      <td>9974</td>\n",
       "    </tr>\n",
       "  </tbody>\n",
       "</table>\n",
       "</div>"
      ],
      "text/plain": [
       "     moved_to  moved_from  estimate  margin_of_error\n",
       "2279    Texas     Alabama      9389             3488\n",
       "2280    Texas      Alaska      2587             1787\n",
       "2281    Texas     Arizona     17609             3581\n",
       "2282    Texas    Arkansas     13613             3625\n",
       "2283    Texas  California    107546             9974"
      ]
     },
     "execution_count": 513,
     "metadata": {},
     "output_type": "execute_result"
    }
   ],
   "source": [
    "tx_migration_2021_df = df_s2s_migration_2021[(df_s2s_migration_2021[\"moved_to\"] == \"Texas\")\n",
    "                                            & (df_s2s_migration_2021[\"moved_from\"] != \"Foreign Country\")]\n",
    "\n",
    "tx_migration_2021_df.head()"
   ]
  },
  {
   "cell_type": "code",
   "execution_count": 587,
   "id": "bbb00294",
   "metadata": {},
   "outputs": [
    {
     "data": {
      "application/vnd.plotly.v1+json": {
       "config": {
        "plotlyServerURL": "https://plot.ly"
       },
       "data": [
        {
         "counts": [
          9389,
          2587,
          17609,
          13613,
          107546,
          30262,
          2506,
          756,
          1198,
          31023,
          16781,
          7668,
          2551,
          20819,
          10573,
          7124,
          11039,
          4865,
          28130,
          786,
          8673,
          8639,
          10009,
          9977,
          6079,
          11369,
          1627,
          8782,
          7896,
          2012,
          10916,
          13456,
          24951,
          20142,
          904,
          11942,
          16116,
          5287,
          9920,
          4180,
          14,
          8097,
          1526,
          10446,
          1618,
          6136,
          178,
          15079,
          23438,
          348,
          6187,
          4424
         ],
         "dimensions": [
          {
           "label": "Moved From",
           "values": [
            "Alabama",
            "Alaska",
            "Arizona",
            "Arkansas",
            "California",
            "Colorado",
            "Connecticut",
            "Delaware",
            "District of Columbia",
            "Florida",
            "Georgia",
            "Hawaii",
            "Idaho",
            "Illinois",
            "Indiana",
            "Iowa",
            "Kansas",
            "Kentucky",
            "Louisiana",
            "Maine",
            "Maryland",
            "Massachusetts",
            "Michigan",
            "Minnesota",
            "Mississippi",
            "Missouri",
            "Montana",
            "Nebraska",
            "Nevada",
            "New Hampshire",
            "New Jersey",
            "New Mexico",
            "New York",
            "North Carolina",
            "North Dakota",
            "Ohio",
            "Oklahoma",
            "Oregon",
            "Pennsylvania",
            "Puerto Rico",
            "Rhode Island",
            "South Carolina",
            "South Dakota",
            "Tennessee",
            "U.S. Island Area",
            "Utah",
            "Vermont",
            "Virginia",
            "Washington",
            "West Virginia",
            "Wisconsin",
            "Wyoming"
           ]
          },
          {
           "label": "Moved To",
           "values": [
            "Texas",
            "Texas",
            "Texas",
            "Texas",
            "Texas",
            "Texas",
            "Texas",
            "Texas",
            "Texas",
            "Texas",
            "Texas",
            "Texas",
            "Texas",
            "Texas",
            "Texas",
            "Texas",
            "Texas",
            "Texas",
            "Texas",
            "Texas",
            "Texas",
            "Texas",
            "Texas",
            "Texas",
            "Texas",
            "Texas",
            "Texas",
            "Texas",
            "Texas",
            "Texas",
            "Texas",
            "Texas",
            "Texas",
            "Texas",
            "Texas",
            "Texas",
            "Texas",
            "Texas",
            "Texas",
            "Texas",
            "Texas",
            "Texas",
            "Texas",
            "Texas",
            "Texas",
            "Texas",
            "Texas",
            "Texas",
            "Texas",
            "Texas",
            "Texas",
            "Texas"
           ]
          }
         ],
         "type": "parcats"
        }
       ],
       "layout": {
        "font": {
         "size": 18
        },
        "height": 1200,
        "template": {
         "data": {
          "bar": [
           {
            "error_x": {
             "color": "#2a3f5f"
            },
            "error_y": {
             "color": "#2a3f5f"
            },
            "marker": {
             "line": {
              "color": "#E5ECF6",
              "width": 0.5
             },
             "pattern": {
              "fillmode": "overlay",
              "size": 10,
              "solidity": 0.2
             }
            },
            "type": "bar"
           }
          ],
          "barpolar": [
           {
            "marker": {
             "line": {
              "color": "#E5ECF6",
              "width": 0.5
             },
             "pattern": {
              "fillmode": "overlay",
              "size": 10,
              "solidity": 0.2
             }
            },
            "type": "barpolar"
           }
          ],
          "carpet": [
           {
            "aaxis": {
             "endlinecolor": "#2a3f5f",
             "gridcolor": "white",
             "linecolor": "white",
             "minorgridcolor": "white",
             "startlinecolor": "#2a3f5f"
            },
            "baxis": {
             "endlinecolor": "#2a3f5f",
             "gridcolor": "white",
             "linecolor": "white",
             "minorgridcolor": "white",
             "startlinecolor": "#2a3f5f"
            },
            "type": "carpet"
           }
          ],
          "choropleth": [
           {
            "colorbar": {
             "outlinewidth": 0,
             "ticks": ""
            },
            "type": "choropleth"
           }
          ],
          "contour": [
           {
            "colorbar": {
             "outlinewidth": 0,
             "ticks": ""
            },
            "colorscale": [
             [
              0,
              "#0d0887"
             ],
             [
              0.1111111111111111,
              "#46039f"
             ],
             [
              0.2222222222222222,
              "#7201a8"
             ],
             [
              0.3333333333333333,
              "#9c179e"
             ],
             [
              0.4444444444444444,
              "#bd3786"
             ],
             [
              0.5555555555555556,
              "#d8576b"
             ],
             [
              0.6666666666666666,
              "#ed7953"
             ],
             [
              0.7777777777777778,
              "#fb9f3a"
             ],
             [
              0.8888888888888888,
              "#fdca26"
             ],
             [
              1,
              "#f0f921"
             ]
            ],
            "type": "contour"
           }
          ],
          "contourcarpet": [
           {
            "colorbar": {
             "outlinewidth": 0,
             "ticks": ""
            },
            "type": "contourcarpet"
           }
          ],
          "heatmap": [
           {
            "colorbar": {
             "outlinewidth": 0,
             "ticks": ""
            },
            "colorscale": [
             [
              0,
              "#0d0887"
             ],
             [
              0.1111111111111111,
              "#46039f"
             ],
             [
              0.2222222222222222,
              "#7201a8"
             ],
             [
              0.3333333333333333,
              "#9c179e"
             ],
             [
              0.4444444444444444,
              "#bd3786"
             ],
             [
              0.5555555555555556,
              "#d8576b"
             ],
             [
              0.6666666666666666,
              "#ed7953"
             ],
             [
              0.7777777777777778,
              "#fb9f3a"
             ],
             [
              0.8888888888888888,
              "#fdca26"
             ],
             [
              1,
              "#f0f921"
             ]
            ],
            "type": "heatmap"
           }
          ],
          "heatmapgl": [
           {
            "colorbar": {
             "outlinewidth": 0,
             "ticks": ""
            },
            "colorscale": [
             [
              0,
              "#0d0887"
             ],
             [
              0.1111111111111111,
              "#46039f"
             ],
             [
              0.2222222222222222,
              "#7201a8"
             ],
             [
              0.3333333333333333,
              "#9c179e"
             ],
             [
              0.4444444444444444,
              "#bd3786"
             ],
             [
              0.5555555555555556,
              "#d8576b"
             ],
             [
              0.6666666666666666,
              "#ed7953"
             ],
             [
              0.7777777777777778,
              "#fb9f3a"
             ],
             [
              0.8888888888888888,
              "#fdca26"
             ],
             [
              1,
              "#f0f921"
             ]
            ],
            "type": "heatmapgl"
           }
          ],
          "histogram": [
           {
            "marker": {
             "pattern": {
              "fillmode": "overlay",
              "size": 10,
              "solidity": 0.2
             }
            },
            "type": "histogram"
           }
          ],
          "histogram2d": [
           {
            "colorbar": {
             "outlinewidth": 0,
             "ticks": ""
            },
            "colorscale": [
             [
              0,
              "#0d0887"
             ],
             [
              0.1111111111111111,
              "#46039f"
             ],
             [
              0.2222222222222222,
              "#7201a8"
             ],
             [
              0.3333333333333333,
              "#9c179e"
             ],
             [
              0.4444444444444444,
              "#bd3786"
             ],
             [
              0.5555555555555556,
              "#d8576b"
             ],
             [
              0.6666666666666666,
              "#ed7953"
             ],
             [
              0.7777777777777778,
              "#fb9f3a"
             ],
             [
              0.8888888888888888,
              "#fdca26"
             ],
             [
              1,
              "#f0f921"
             ]
            ],
            "type": "histogram2d"
           }
          ],
          "histogram2dcontour": [
           {
            "colorbar": {
             "outlinewidth": 0,
             "ticks": ""
            },
            "colorscale": [
             [
              0,
              "#0d0887"
             ],
             [
              0.1111111111111111,
              "#46039f"
             ],
             [
              0.2222222222222222,
              "#7201a8"
             ],
             [
              0.3333333333333333,
              "#9c179e"
             ],
             [
              0.4444444444444444,
              "#bd3786"
             ],
             [
              0.5555555555555556,
              "#d8576b"
             ],
             [
              0.6666666666666666,
              "#ed7953"
             ],
             [
              0.7777777777777778,
              "#fb9f3a"
             ],
             [
              0.8888888888888888,
              "#fdca26"
             ],
             [
              1,
              "#f0f921"
             ]
            ],
            "type": "histogram2dcontour"
           }
          ],
          "mesh3d": [
           {
            "colorbar": {
             "outlinewidth": 0,
             "ticks": ""
            },
            "type": "mesh3d"
           }
          ],
          "parcoords": [
           {
            "line": {
             "colorbar": {
              "outlinewidth": 0,
              "ticks": ""
             }
            },
            "type": "parcoords"
           }
          ],
          "pie": [
           {
            "automargin": true,
            "type": "pie"
           }
          ],
          "scatter": [
           {
            "fillpattern": {
             "fillmode": "overlay",
             "size": 10,
             "solidity": 0.2
            },
            "type": "scatter"
           }
          ],
          "scatter3d": [
           {
            "line": {
             "colorbar": {
              "outlinewidth": 0,
              "ticks": ""
             }
            },
            "marker": {
             "colorbar": {
              "outlinewidth": 0,
              "ticks": ""
             }
            },
            "type": "scatter3d"
           }
          ],
          "scattercarpet": [
           {
            "marker": {
             "colorbar": {
              "outlinewidth": 0,
              "ticks": ""
             }
            },
            "type": "scattercarpet"
           }
          ],
          "scattergeo": [
           {
            "marker": {
             "colorbar": {
              "outlinewidth": 0,
              "ticks": ""
             }
            },
            "type": "scattergeo"
           }
          ],
          "scattergl": [
           {
            "marker": {
             "colorbar": {
              "outlinewidth": 0,
              "ticks": ""
             }
            },
            "type": "scattergl"
           }
          ],
          "scattermapbox": [
           {
            "marker": {
             "colorbar": {
              "outlinewidth": 0,
              "ticks": ""
             }
            },
            "type": "scattermapbox"
           }
          ],
          "scatterpolar": [
           {
            "marker": {
             "colorbar": {
              "outlinewidth": 0,
              "ticks": ""
             }
            },
            "type": "scatterpolar"
           }
          ],
          "scatterpolargl": [
           {
            "marker": {
             "colorbar": {
              "outlinewidth": 0,
              "ticks": ""
             }
            },
            "type": "scatterpolargl"
           }
          ],
          "scatterternary": [
           {
            "marker": {
             "colorbar": {
              "outlinewidth": 0,
              "ticks": ""
             }
            },
            "type": "scatterternary"
           }
          ],
          "surface": [
           {
            "colorbar": {
             "outlinewidth": 0,
             "ticks": ""
            },
            "colorscale": [
             [
              0,
              "#0d0887"
             ],
             [
              0.1111111111111111,
              "#46039f"
             ],
             [
              0.2222222222222222,
              "#7201a8"
             ],
             [
              0.3333333333333333,
              "#9c179e"
             ],
             [
              0.4444444444444444,
              "#bd3786"
             ],
             [
              0.5555555555555556,
              "#d8576b"
             ],
             [
              0.6666666666666666,
              "#ed7953"
             ],
             [
              0.7777777777777778,
              "#fb9f3a"
             ],
             [
              0.8888888888888888,
              "#fdca26"
             ],
             [
              1,
              "#f0f921"
             ]
            ],
            "type": "surface"
           }
          ],
          "table": [
           {
            "cells": {
             "fill": {
              "color": "#EBF0F8"
             },
             "line": {
              "color": "white"
             }
            },
            "header": {
             "fill": {
              "color": "#C8D4E3"
             },
             "line": {
              "color": "white"
             }
            },
            "type": "table"
           }
          ]
         },
         "layout": {
          "annotationdefaults": {
           "arrowcolor": "#2a3f5f",
           "arrowhead": 0,
           "arrowwidth": 1
          },
          "autotypenumbers": "strict",
          "coloraxis": {
           "colorbar": {
            "outlinewidth": 0,
            "ticks": ""
           }
          },
          "colorscale": {
           "diverging": [
            [
             0,
             "#8e0152"
            ],
            [
             0.1,
             "#c51b7d"
            ],
            [
             0.2,
             "#de77ae"
            ],
            [
             0.3,
             "#f1b6da"
            ],
            [
             0.4,
             "#fde0ef"
            ],
            [
             0.5,
             "#f7f7f7"
            ],
            [
             0.6,
             "#e6f5d0"
            ],
            [
             0.7,
             "#b8e186"
            ],
            [
             0.8,
             "#7fbc41"
            ],
            [
             0.9,
             "#4d9221"
            ],
            [
             1,
             "#276419"
            ]
           ],
           "sequential": [
            [
             0,
             "#0d0887"
            ],
            [
             0.1111111111111111,
             "#46039f"
            ],
            [
             0.2222222222222222,
             "#7201a8"
            ],
            [
             0.3333333333333333,
             "#9c179e"
            ],
            [
             0.4444444444444444,
             "#bd3786"
            ],
            [
             0.5555555555555556,
             "#d8576b"
            ],
            [
             0.6666666666666666,
             "#ed7953"
            ],
            [
             0.7777777777777778,
             "#fb9f3a"
            ],
            [
             0.8888888888888888,
             "#fdca26"
            ],
            [
             1,
             "#f0f921"
            ]
           ],
           "sequentialminus": [
            [
             0,
             "#0d0887"
            ],
            [
             0.1111111111111111,
             "#46039f"
            ],
            [
             0.2222222222222222,
             "#7201a8"
            ],
            [
             0.3333333333333333,
             "#9c179e"
            ],
            [
             0.4444444444444444,
             "#bd3786"
            ],
            [
             0.5555555555555556,
             "#d8576b"
            ],
            [
             0.6666666666666666,
             "#ed7953"
            ],
            [
             0.7777777777777778,
             "#fb9f3a"
            ],
            [
             0.8888888888888888,
             "#fdca26"
            ],
            [
             1,
             "#f0f921"
            ]
           ]
          },
          "colorway": [
           "#636efa",
           "#EF553B",
           "#00cc96",
           "#ab63fa",
           "#FFA15A",
           "#19d3f3",
           "#FF6692",
           "#B6E880",
           "#FF97FF",
           "#FECB52"
          ],
          "font": {
           "color": "#2a3f5f"
          },
          "geo": {
           "bgcolor": "white",
           "lakecolor": "white",
           "landcolor": "#E5ECF6",
           "showlakes": true,
           "showland": true,
           "subunitcolor": "white"
          },
          "hoverlabel": {
           "align": "left"
          },
          "hovermode": "closest",
          "mapbox": {
           "style": "light"
          },
          "paper_bgcolor": "white",
          "plot_bgcolor": "#E5ECF6",
          "polar": {
           "angularaxis": {
            "gridcolor": "white",
            "linecolor": "white",
            "ticks": ""
           },
           "bgcolor": "#E5ECF6",
           "radialaxis": {
            "gridcolor": "white",
            "linecolor": "white",
            "ticks": ""
           }
          },
          "scene": {
           "xaxis": {
            "backgroundcolor": "#E5ECF6",
            "gridcolor": "white",
            "gridwidth": 2,
            "linecolor": "white",
            "showbackground": true,
            "ticks": "",
            "zerolinecolor": "white"
           },
           "yaxis": {
            "backgroundcolor": "#E5ECF6",
            "gridcolor": "white",
            "gridwidth": 2,
            "linecolor": "white",
            "showbackground": true,
            "ticks": "",
            "zerolinecolor": "white"
           },
           "zaxis": {
            "backgroundcolor": "#E5ECF6",
            "gridcolor": "white",
            "gridwidth": 2,
            "linecolor": "white",
            "showbackground": true,
            "ticks": "",
            "zerolinecolor": "white"
           }
          },
          "shapedefaults": {
           "line": {
            "color": "#2a3f5f"
           }
          },
          "ternary": {
           "aaxis": {
            "gridcolor": "white",
            "linecolor": "white",
            "ticks": ""
           },
           "baxis": {
            "gridcolor": "white",
            "linecolor": "white",
            "ticks": ""
           },
           "bgcolor": "#E5ECF6",
           "caxis": {
            "gridcolor": "white",
            "linecolor": "white",
            "ticks": ""
           }
          },
          "title": {
           "x": 0.05
          },
          "xaxis": {
           "automargin": true,
           "gridcolor": "white",
           "linecolor": "white",
           "ticks": "",
           "title": {
            "standoff": 15
           },
           "zerolinecolor": "white",
           "zerolinewidth": 2
          },
          "yaxis": {
           "automargin": true,
           "gridcolor": "white",
           "linecolor": "white",
           "ticks": "",
           "title": {
            "standoff": 15
           },
           "zerolinecolor": "white",
           "zerolinewidth": 2
          }
         }
        },
        "title": {
         "text": "Interstate Migration to TX (2021)"
        },
        "width": 1050
       }
      },
      "text/html": [
       "<div>                            <div id=\"13cb255d-e71a-4d8b-ac5d-b66042aed2f2\" class=\"plotly-graph-div\" style=\"height:1200px; width:1050px;\"></div>            <script type=\"text/javascript\">                require([\"plotly\"], function(Plotly) {                    window.PLOTLYENV=window.PLOTLYENV || {};                                    if (document.getElementById(\"13cb255d-e71a-4d8b-ac5d-b66042aed2f2\")) {                    Plotly.newPlot(                        \"13cb255d-e71a-4d8b-ac5d-b66042aed2f2\",                        [{\"counts\":[9389,2587,17609,13613,107546,30262,2506,756,1198,31023,16781,7668,2551,20819,10573,7124,11039,4865,28130,786,8673,8639,10009,9977,6079,11369,1627,8782,7896,2012,10916,13456,24951,20142,904,11942,16116,5287,9920,4180,14,8097,1526,10446,1618,6136,178,15079,23438,348,6187,4424],\"dimensions\":[{\"label\":\"Moved From\",\"values\":[\"Alabama\",\"Alaska\",\"Arizona\",\"Arkansas\",\"California\",\"Colorado\",\"Connecticut\",\"Delaware\",\"District of Columbia\",\"Florida\",\"Georgia\",\"Hawaii\",\"Idaho\",\"Illinois\",\"Indiana\",\"Iowa\",\"Kansas\",\"Kentucky\",\"Louisiana\",\"Maine\",\"Maryland\",\"Massachusetts\",\"Michigan\",\"Minnesota\",\"Mississippi\",\"Missouri\",\"Montana\",\"Nebraska\",\"Nevada\",\"New Hampshire\",\"New Jersey\",\"New Mexico\",\"New York\",\"North Carolina\",\"North Dakota\",\"Ohio\",\"Oklahoma\",\"Oregon\",\"Pennsylvania\",\"Puerto Rico\",\"Rhode Island\",\"South Carolina\",\"South Dakota\",\"Tennessee\",\"U.S. Island Area\",\"Utah\",\"Vermont\",\"Virginia\",\"Washington\",\"West Virginia\",\"Wisconsin\",\"Wyoming\"]},{\"label\":\"Moved To\",\"values\":[\"Texas\",\"Texas\",\"Texas\",\"Texas\",\"Texas\",\"Texas\",\"Texas\",\"Texas\",\"Texas\",\"Texas\",\"Texas\",\"Texas\",\"Texas\",\"Texas\",\"Texas\",\"Texas\",\"Texas\",\"Texas\",\"Texas\",\"Texas\",\"Texas\",\"Texas\",\"Texas\",\"Texas\",\"Texas\",\"Texas\",\"Texas\",\"Texas\",\"Texas\",\"Texas\",\"Texas\",\"Texas\",\"Texas\",\"Texas\",\"Texas\",\"Texas\",\"Texas\",\"Texas\",\"Texas\",\"Texas\",\"Texas\",\"Texas\",\"Texas\",\"Texas\",\"Texas\",\"Texas\",\"Texas\",\"Texas\",\"Texas\",\"Texas\",\"Texas\",\"Texas\"]}],\"type\":\"parcats\"}],                        {\"template\":{\"data\":{\"histogram2dcontour\":[{\"type\":\"histogram2dcontour\",\"colorbar\":{\"outlinewidth\":0,\"ticks\":\"\"},\"colorscale\":[[0.0,\"#0d0887\"],[0.1111111111111111,\"#46039f\"],[0.2222222222222222,\"#7201a8\"],[0.3333333333333333,\"#9c179e\"],[0.4444444444444444,\"#bd3786\"],[0.5555555555555556,\"#d8576b\"],[0.6666666666666666,\"#ed7953\"],[0.7777777777777778,\"#fb9f3a\"],[0.8888888888888888,\"#fdca26\"],[1.0,\"#f0f921\"]]}],\"choropleth\":[{\"type\":\"choropleth\",\"colorbar\":{\"outlinewidth\":0,\"ticks\":\"\"}}],\"histogram2d\":[{\"type\":\"histogram2d\",\"colorbar\":{\"outlinewidth\":0,\"ticks\":\"\"},\"colorscale\":[[0.0,\"#0d0887\"],[0.1111111111111111,\"#46039f\"],[0.2222222222222222,\"#7201a8\"],[0.3333333333333333,\"#9c179e\"],[0.4444444444444444,\"#bd3786\"],[0.5555555555555556,\"#d8576b\"],[0.6666666666666666,\"#ed7953\"],[0.7777777777777778,\"#fb9f3a\"],[0.8888888888888888,\"#fdca26\"],[1.0,\"#f0f921\"]]}],\"heatmap\":[{\"type\":\"heatmap\",\"colorbar\":{\"outlinewidth\":0,\"ticks\":\"\"},\"colorscale\":[[0.0,\"#0d0887\"],[0.1111111111111111,\"#46039f\"],[0.2222222222222222,\"#7201a8\"],[0.3333333333333333,\"#9c179e\"],[0.4444444444444444,\"#bd3786\"],[0.5555555555555556,\"#d8576b\"],[0.6666666666666666,\"#ed7953\"],[0.7777777777777778,\"#fb9f3a\"],[0.8888888888888888,\"#fdca26\"],[1.0,\"#f0f921\"]]}],\"heatmapgl\":[{\"type\":\"heatmapgl\",\"colorbar\":{\"outlinewidth\":0,\"ticks\":\"\"},\"colorscale\":[[0.0,\"#0d0887\"],[0.1111111111111111,\"#46039f\"],[0.2222222222222222,\"#7201a8\"],[0.3333333333333333,\"#9c179e\"],[0.4444444444444444,\"#bd3786\"],[0.5555555555555556,\"#d8576b\"],[0.6666666666666666,\"#ed7953\"],[0.7777777777777778,\"#fb9f3a\"],[0.8888888888888888,\"#fdca26\"],[1.0,\"#f0f921\"]]}],\"contourcarpet\":[{\"type\":\"contourcarpet\",\"colorbar\":{\"outlinewidth\":0,\"ticks\":\"\"}}],\"contour\":[{\"type\":\"contour\",\"colorbar\":{\"outlinewidth\":0,\"ticks\":\"\"},\"colorscale\":[[0.0,\"#0d0887\"],[0.1111111111111111,\"#46039f\"],[0.2222222222222222,\"#7201a8\"],[0.3333333333333333,\"#9c179e\"],[0.4444444444444444,\"#bd3786\"],[0.5555555555555556,\"#d8576b\"],[0.6666666666666666,\"#ed7953\"],[0.7777777777777778,\"#fb9f3a\"],[0.8888888888888888,\"#fdca26\"],[1.0,\"#f0f921\"]]}],\"surface\":[{\"type\":\"surface\",\"colorbar\":{\"outlinewidth\":0,\"ticks\":\"\"},\"colorscale\":[[0.0,\"#0d0887\"],[0.1111111111111111,\"#46039f\"],[0.2222222222222222,\"#7201a8\"],[0.3333333333333333,\"#9c179e\"],[0.4444444444444444,\"#bd3786\"],[0.5555555555555556,\"#d8576b\"],[0.6666666666666666,\"#ed7953\"],[0.7777777777777778,\"#fb9f3a\"],[0.8888888888888888,\"#fdca26\"],[1.0,\"#f0f921\"]]}],\"mesh3d\":[{\"type\":\"mesh3d\",\"colorbar\":{\"outlinewidth\":0,\"ticks\":\"\"}}],\"scatter\":[{\"fillpattern\":{\"fillmode\":\"overlay\",\"size\":10,\"solidity\":0.2},\"type\":\"scatter\"}],\"parcoords\":[{\"type\":\"parcoords\",\"line\":{\"colorbar\":{\"outlinewidth\":0,\"ticks\":\"\"}}}],\"scatterpolargl\":[{\"type\":\"scatterpolargl\",\"marker\":{\"colorbar\":{\"outlinewidth\":0,\"ticks\":\"\"}}}],\"bar\":[{\"error_x\":{\"color\":\"#2a3f5f\"},\"error_y\":{\"color\":\"#2a3f5f\"},\"marker\":{\"line\":{\"color\":\"#E5ECF6\",\"width\":0.5},\"pattern\":{\"fillmode\":\"overlay\",\"size\":10,\"solidity\":0.2}},\"type\":\"bar\"}],\"scattergeo\":[{\"type\":\"scattergeo\",\"marker\":{\"colorbar\":{\"outlinewidth\":0,\"ticks\":\"\"}}}],\"scatterpolar\":[{\"type\":\"scatterpolar\",\"marker\":{\"colorbar\":{\"outlinewidth\":0,\"ticks\":\"\"}}}],\"histogram\":[{\"marker\":{\"pattern\":{\"fillmode\":\"overlay\",\"size\":10,\"solidity\":0.2}},\"type\":\"histogram\"}],\"scattergl\":[{\"type\":\"scattergl\",\"marker\":{\"colorbar\":{\"outlinewidth\":0,\"ticks\":\"\"}}}],\"scatter3d\":[{\"type\":\"scatter3d\",\"line\":{\"colorbar\":{\"outlinewidth\":0,\"ticks\":\"\"}},\"marker\":{\"colorbar\":{\"outlinewidth\":0,\"ticks\":\"\"}}}],\"scattermapbox\":[{\"type\":\"scattermapbox\",\"marker\":{\"colorbar\":{\"outlinewidth\":0,\"ticks\":\"\"}}}],\"scatterternary\":[{\"type\":\"scatterternary\",\"marker\":{\"colorbar\":{\"outlinewidth\":0,\"ticks\":\"\"}}}],\"scattercarpet\":[{\"type\":\"scattercarpet\",\"marker\":{\"colorbar\":{\"outlinewidth\":0,\"ticks\":\"\"}}}],\"carpet\":[{\"aaxis\":{\"endlinecolor\":\"#2a3f5f\",\"gridcolor\":\"white\",\"linecolor\":\"white\",\"minorgridcolor\":\"white\",\"startlinecolor\":\"#2a3f5f\"},\"baxis\":{\"endlinecolor\":\"#2a3f5f\",\"gridcolor\":\"white\",\"linecolor\":\"white\",\"minorgridcolor\":\"white\",\"startlinecolor\":\"#2a3f5f\"},\"type\":\"carpet\"}],\"table\":[{\"cells\":{\"fill\":{\"color\":\"#EBF0F8\"},\"line\":{\"color\":\"white\"}},\"header\":{\"fill\":{\"color\":\"#C8D4E3\"},\"line\":{\"color\":\"white\"}},\"type\":\"table\"}],\"barpolar\":[{\"marker\":{\"line\":{\"color\":\"#E5ECF6\",\"width\":0.5},\"pattern\":{\"fillmode\":\"overlay\",\"size\":10,\"solidity\":0.2}},\"type\":\"barpolar\"}],\"pie\":[{\"automargin\":true,\"type\":\"pie\"}]},\"layout\":{\"autotypenumbers\":\"strict\",\"colorway\":[\"#636efa\",\"#EF553B\",\"#00cc96\",\"#ab63fa\",\"#FFA15A\",\"#19d3f3\",\"#FF6692\",\"#B6E880\",\"#FF97FF\",\"#FECB52\"],\"font\":{\"color\":\"#2a3f5f\"},\"hovermode\":\"closest\",\"hoverlabel\":{\"align\":\"left\"},\"paper_bgcolor\":\"white\",\"plot_bgcolor\":\"#E5ECF6\",\"polar\":{\"bgcolor\":\"#E5ECF6\",\"angularaxis\":{\"gridcolor\":\"white\",\"linecolor\":\"white\",\"ticks\":\"\"},\"radialaxis\":{\"gridcolor\":\"white\",\"linecolor\":\"white\",\"ticks\":\"\"}},\"ternary\":{\"bgcolor\":\"#E5ECF6\",\"aaxis\":{\"gridcolor\":\"white\",\"linecolor\":\"white\",\"ticks\":\"\"},\"baxis\":{\"gridcolor\":\"white\",\"linecolor\":\"white\",\"ticks\":\"\"},\"caxis\":{\"gridcolor\":\"white\",\"linecolor\":\"white\",\"ticks\":\"\"}},\"coloraxis\":{\"colorbar\":{\"outlinewidth\":0,\"ticks\":\"\"}},\"colorscale\":{\"sequential\":[[0.0,\"#0d0887\"],[0.1111111111111111,\"#46039f\"],[0.2222222222222222,\"#7201a8\"],[0.3333333333333333,\"#9c179e\"],[0.4444444444444444,\"#bd3786\"],[0.5555555555555556,\"#d8576b\"],[0.6666666666666666,\"#ed7953\"],[0.7777777777777778,\"#fb9f3a\"],[0.8888888888888888,\"#fdca26\"],[1.0,\"#f0f921\"]],\"sequentialminus\":[[0.0,\"#0d0887\"],[0.1111111111111111,\"#46039f\"],[0.2222222222222222,\"#7201a8\"],[0.3333333333333333,\"#9c179e\"],[0.4444444444444444,\"#bd3786\"],[0.5555555555555556,\"#d8576b\"],[0.6666666666666666,\"#ed7953\"],[0.7777777777777778,\"#fb9f3a\"],[0.8888888888888888,\"#fdca26\"],[1.0,\"#f0f921\"]],\"diverging\":[[0,\"#8e0152\"],[0.1,\"#c51b7d\"],[0.2,\"#de77ae\"],[0.3,\"#f1b6da\"],[0.4,\"#fde0ef\"],[0.5,\"#f7f7f7\"],[0.6,\"#e6f5d0\"],[0.7,\"#b8e186\"],[0.8,\"#7fbc41\"],[0.9,\"#4d9221\"],[1,\"#276419\"]]},\"xaxis\":{\"gridcolor\":\"white\",\"linecolor\":\"white\",\"ticks\":\"\",\"title\":{\"standoff\":15},\"zerolinecolor\":\"white\",\"automargin\":true,\"zerolinewidth\":2},\"yaxis\":{\"gridcolor\":\"white\",\"linecolor\":\"white\",\"ticks\":\"\",\"title\":{\"standoff\":15},\"zerolinecolor\":\"white\",\"automargin\":true,\"zerolinewidth\":2},\"scene\":{\"xaxis\":{\"backgroundcolor\":\"#E5ECF6\",\"gridcolor\":\"white\",\"linecolor\":\"white\",\"showbackground\":true,\"ticks\":\"\",\"zerolinecolor\":\"white\",\"gridwidth\":2},\"yaxis\":{\"backgroundcolor\":\"#E5ECF6\",\"gridcolor\":\"white\",\"linecolor\":\"white\",\"showbackground\":true,\"ticks\":\"\",\"zerolinecolor\":\"white\",\"gridwidth\":2},\"zaxis\":{\"backgroundcolor\":\"#E5ECF6\",\"gridcolor\":\"white\",\"linecolor\":\"white\",\"showbackground\":true,\"ticks\":\"\",\"zerolinecolor\":\"white\",\"gridwidth\":2}},\"shapedefaults\":{\"line\":{\"color\":\"#2a3f5f\"}},\"annotationdefaults\":{\"arrowcolor\":\"#2a3f5f\",\"arrowhead\":0,\"arrowwidth\":1},\"geo\":{\"bgcolor\":\"white\",\"landcolor\":\"#E5ECF6\",\"subunitcolor\":\"white\",\"showland\":true,\"showlakes\":true,\"lakecolor\":\"white\"},\"title\":{\"x\":0.05},\"mapbox\":{\"style\":\"light\"}}},\"title\":{\"text\":\"Interstate Migration to TX (2021)\"},\"font\":{\"size\":18},\"height\":1200,\"width\":1050},                        {\"responsive\": true}                    ).then(function(){\n",
       "                            \n",
       "var gd = document.getElementById('13cb255d-e71a-4d8b-ac5d-b66042aed2f2');\n",
       "var x = new MutationObserver(function (mutations, observer) {{\n",
       "        var display = window.getComputedStyle(gd).display;\n",
       "        if (!display || display === 'none') {{\n",
       "            console.log([gd, 'removed!']);\n",
       "            Plotly.purge(gd);\n",
       "            observer.disconnect();\n",
       "        }}\n",
       "}});\n",
       "\n",
       "// Listen for the removal of the full notebook cells\n",
       "var notebookContainer = gd.closest('#notebook-container');\n",
       "if (notebookContainer) {{\n",
       "    x.observe(notebookContainer, {childList: true});\n",
       "}}\n",
       "\n",
       "// Listen for the clearing of the current output cell\n",
       "var outputEl = gd.closest('.output');\n",
       "if (outputEl) {{\n",
       "    x.observe(outputEl, {childList: true});\n",
       "}}\n",
       "\n",
       "                        })                };                });            </script>        </div>"
      ]
     },
     "metadata": {},
     "output_type": "display_data"
    }
   ],
   "source": [
    "fig = go.Figure(go.Parcats(\n",
    "    dimensions=[\n",
    "        {'label': 'Moved From', 'values': tx_migration_2021_df['moved_from']},\n",
    "        {'label': 'Moved To', 'values': tx_migration_2021_df['moved_to']},\n",
    "    ],\n",
    "    counts=tx_migration_2021_df['estimate'],\n",
    "))\n",
    "\n",
    "fig.update_layout(title_text=\"Interstate Migration to TX (2021)\",\n",
    "                height = 1200,\n",
    "                width=1050,\n",
    "                font_size=18)\n",
    "\n",
    "fig.show()"
   ]
  }
 ],
 "metadata": {
  "kernelspec": {
   "display_name": "capstone",
   "language": "python",
   "name": "capstone"
  },
  "language_info": {
   "codemirror_mode": {
    "name": "ipython",
    "version": 3
   },
   "file_extension": ".py",
   "mimetype": "text/x-python",
   "name": "python",
   "nbconvert_exporter": "python",
   "pygments_lexer": "ipython3",
   "version": "3.11.5"
  }
 },
 "nbformat": 4,
 "nbformat_minor": 5
}
